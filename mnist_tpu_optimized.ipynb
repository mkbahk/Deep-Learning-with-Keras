{
  "nbformat": 4,
  "nbformat_minor": 0,
  "metadata": {
    "colab": {
      "name": "mnist-tpu-optimized.ipynb",
      "provenance": [],
      "authorship_tag": "ABX9TyNp3ASeUpteJPWHmFeMwWx8",
      "include_colab_link": true
    },
    "kernelspec": {
      "name": "python3",
      "display_name": "Python 3"
    },
    "accelerator": "TPU"
  },
  "cells": [
    {
      "cell_type": "markdown",
      "metadata": {
        "id": "view-in-github",
        "colab_type": "text"
      },
      "source": [
        "<a href=\"https://colab.research.google.com/github/mkbahk/DeepLearningwithKeras/blob/master/mnist_tpu_optimized.ipynb\" target=\"_parent\"><img src=\"https://colab.research.google.com/assets/colab-badge.svg\" alt=\"Open In Colab\"/></a>"
      ]
    },
    {
      "cell_type": "code",
      "metadata": {
        "id": "FpvUOuC3j27n",
        "outputId": "6c5404bd-d074-42e2-dce3-4c020c66e966",
        "colab": {
          "base_uri": "https://localhost:8080/",
          "height": 187
        }
      },
      "source": [
        "%tensorflow_version 2.x\n",
        "import tensorflow as tf\n",
        "\n",
        "from tensorflow import keras\n",
        "import time\n",
        "import os\n",
        "\n",
        "print(\"Tensorflow version \" + tf.__version__)\n",
        "print(tf.config.list_physical_devices(\"CPU\"))\n",
        "print(tf.config.list_physical_devices(\"GPU\"))\n",
        "\n",
        "\n",
        "resolver = tf.distribute.cluster_resolver.TPUClusterResolver(tpu='grpc://'+os.environ['COLAB_TPU_ADDR'])\n",
        "#Connect to the TPU handle and initialise it\n",
        "tf.config.experimental_connect_to_cluster(resolver)\n",
        "tf.tpu.experimental.initialize_tpu_system(resolver)"
      ],
      "execution_count": 1,
      "outputs": [
        {
          "output_type": "stream",
          "text": [
            "Tensorflow version 2.3.0\n",
            "[PhysicalDevice(name='/physical_device:CPU:0', device_type='CPU')]\n",
            "[]\n",
            "INFO:tensorflow:Initializing the TPU system: grpc://10.62.32.2:8470\n"
          ],
          "name": "stdout"
        },
        {
          "output_type": "stream",
          "text": [
            "INFO:tensorflow:Initializing the TPU system: grpc://10.62.32.2:8470\n"
          ],
          "name": "stderr"
        },
        {
          "output_type": "stream",
          "text": [
            "INFO:tensorflow:Clearing out eager caches\n"
          ],
          "name": "stdout"
        },
        {
          "output_type": "stream",
          "text": [
            "INFO:tensorflow:Clearing out eager caches\n"
          ],
          "name": "stderr"
        },
        {
          "output_type": "stream",
          "text": [
            "INFO:tensorflow:Finished initializing TPU system.\n"
          ],
          "name": "stdout"
        },
        {
          "output_type": "stream",
          "text": [
            "INFO:tensorflow:Finished initializing TPU system.\n"
          ],
          "name": "stderr"
        },
        {
          "output_type": "execute_result",
          "data": {
            "text/plain": [
              "<tensorflow.python.tpu.topology.Topology at 0x7f156248b978>"
            ]
          },
          "metadata": {
            "tags": []
          },
          "execution_count": 1
        }
      ]
    },
    {
      "cell_type": "code",
      "metadata": {
        "id": "HCGy1S8_mPnV"
      },
      "source": [
        "start = time.time() # 시작 시간 저장"
      ],
      "execution_count": 2,
      "outputs": []
    },
    {
      "cell_type": "code",
      "metadata": {
        "id": "bVgp531qczsO"
      },
      "source": [
        "if tf.__version__[0] != '2':\n",
        "    raise ImportError(\"TensorFlow 2 is required for this example\")"
      ],
      "execution_count": 3,
      "outputs": []
    },
    {
      "cell_type": "code",
      "metadata": {
        "id": "nHDDw4H8c2qJ"
      },
      "source": [
        "# The input data and labels.\n",
        "mnist = tf.keras.datasets.mnist\n",
        "\n",
        "(x_train, y_train), (x_test, y_test) = mnist.load_data()\n",
        "(x_train, x_test) = (x_train / 255.0, x_test / 255.0)\n",
        "\n",
        "# Add a channels dimension.\n",
        "x_train = x_train[..., tf.newaxis]\n",
        "x_test = x_test[..., tf.newaxis]"
      ],
      "execution_count": 4,
      "outputs": []
    },
    {
      "cell_type": "code",
      "metadata": {
        "id": "eKKTURm8c5jP"
      },
      "source": [
        "def create_train_dataset():\n",
        "    print(\"==============================Processing Training DataSet==============================\\n\\n\")\n",
        "    train_ds = tf.data.Dataset.from_tensor_slices((x_train, y_train)).shuffle(60000).batch(32, drop_remainder=True)\n",
        "    train_ds = train_ds.map(lambda d, l: (tf.cast(d, tf.float32), tf.cast(l, tf.float32)))\n",
        "    return train_ds.repeat()\n",
        "\n",
        "def create_test_dataset():\n",
        "    print(\"==============================Processing Test  DataSet==============================\\n\\n\")\n",
        "    test_ds = tf.data.Dataset.from_tensor_slices((x_test, y_test)).shuffle(10000).batch(32, drop_remainder=True)\n",
        "    test_ds = test_ds.map(lambda d, l: (tf.cast(d, tf.float32), tf.cast(l, tf.float32)))\n",
        "    return test_ds.repeat()"
      ],
      "execution_count": 5,
      "outputs": []
    },
    {
      "cell_type": "code",
      "metadata": {
        "id": "fuP7KABnc8rV"
      },
      "source": [
        "# Create the model using the IPU-specific Sequential class instead of the\n",
        "# standard tf.keras.Sequential class\n",
        "def create_model():\n",
        "    model = tf.keras.Sequential([\n",
        "        keras.layers.Flatten(),\n",
        "        keras.layers.Dense(128, activation='relu'),\n",
        "        keras.layers.Dense(256, activation='relu'),\n",
        "        keras.layers.Dense(128, activation='relu'),\n",
        "        keras.layers.Dense(10, activation='softmax')])\n",
        "    return model"
      ],
      "execution_count": 6,
      "outputs": []
    },
    {
      "cell_type": "code",
      "metadata": {
        "id": "Jw6kNn_kc_IK"
      },
      "source": [
        "def main():\n",
        "    strategy = tf.distribute.TPUStrategy(resolver)\n",
        "    with strategy.scope():     \n",
        "      # Get the training dataset.\n",
        "      print(\"==============================Getting Training DataSet==============================\\n\\n\")\n",
        "      ds1 = create_train_dataset()\n",
        "      print(\"==============================Getting Test DataSet==============================\\n\\n\")\n",
        "      ds2 = create_test_dataset()\n",
        "\n",
        "      # Create an instance of the model.\n",
        "      print(\"==============================Building Model==============================\\n\\n\")\n",
        "      model = create_model()\n",
        "      print(\"==============================Model Compiling==============================\\n\\n\")\n",
        "      model.compile(loss = tf.keras.losses.SparseCategoricalCrossentropy(), optimizer = tf.keras.optimizers.Adam(), experimental_steps_per_execution = 50, metrics=['sparse_categorical_accuracy'])\n",
        "      print(\"==============================Model Training ==============================\\n\\n\")\n",
        "      model.fit(ds1, steps_per_epoch=2000, epochs=50)\n",
        "\n",
        "      print(\"\\n\\n==============================Checking the result==============================\\n\\n\")\n",
        "      loss, accuracy = model.evaluate(ds2, steps=1000)\n",
        "      print(\"Validation loss: {}\".format(loss))\n",
        "      print(\"Validation accuracy: {}%\".format(100.0 * accuracy))\n",
        "      print(\"\\n\\n==============================Job Done by TPU !!!==============================\")"
      ],
      "execution_count": 7,
      "outputs": []
    },
    {
      "cell_type": "code",
      "metadata": {
        "id": "08N38eYodElH",
        "outputId": "c84abcd3-695e-4d48-ca7c-03ba89b90784",
        "colab": {
          "base_uri": "https://localhost:8080/",
          "height": 1000
        }
      },
      "source": [
        "if __name__ == '__main__':\n",
        "    main()"
      ],
      "execution_count": 8,
      "outputs": [
        {
          "output_type": "stream",
          "text": [
            "INFO:tensorflow:Found TPU system:\n"
          ],
          "name": "stdout"
        },
        {
          "output_type": "stream",
          "text": [
            "INFO:tensorflow:Found TPU system:\n"
          ],
          "name": "stderr"
        },
        {
          "output_type": "stream",
          "text": [
            "INFO:tensorflow:*** Num TPU Cores: 8\n"
          ],
          "name": "stdout"
        },
        {
          "output_type": "stream",
          "text": [
            "INFO:tensorflow:*** Num TPU Cores: 8\n"
          ],
          "name": "stderr"
        },
        {
          "output_type": "stream",
          "text": [
            "INFO:tensorflow:*** Num TPU Workers: 1\n"
          ],
          "name": "stdout"
        },
        {
          "output_type": "stream",
          "text": [
            "INFO:tensorflow:*** Num TPU Workers: 1\n"
          ],
          "name": "stderr"
        },
        {
          "output_type": "stream",
          "text": [
            "INFO:tensorflow:*** Num TPU Cores Per Worker: 8\n"
          ],
          "name": "stdout"
        },
        {
          "output_type": "stream",
          "text": [
            "INFO:tensorflow:*** Num TPU Cores Per Worker: 8\n"
          ],
          "name": "stderr"
        },
        {
          "output_type": "stream",
          "text": [
            "INFO:tensorflow:*** Available Device: _DeviceAttributes(/job:localhost/replica:0/task:0/device:CPU:0, CPU, 0, 0)\n"
          ],
          "name": "stdout"
        },
        {
          "output_type": "stream",
          "text": [
            "INFO:tensorflow:*** Available Device: _DeviceAttributes(/job:localhost/replica:0/task:0/device:CPU:0, CPU, 0, 0)\n"
          ],
          "name": "stderr"
        },
        {
          "output_type": "stream",
          "text": [
            "INFO:tensorflow:*** Available Device: _DeviceAttributes(/job:localhost/replica:0/task:0/device:XLA_CPU:0, XLA_CPU, 0, 0)\n"
          ],
          "name": "stdout"
        },
        {
          "output_type": "stream",
          "text": [
            "INFO:tensorflow:*** Available Device: _DeviceAttributes(/job:localhost/replica:0/task:0/device:XLA_CPU:0, XLA_CPU, 0, 0)\n"
          ],
          "name": "stderr"
        },
        {
          "output_type": "stream",
          "text": [
            "INFO:tensorflow:*** Available Device: _DeviceAttributes(/job:worker/replica:0/task:0/device:CPU:0, CPU, 0, 0)\n"
          ],
          "name": "stdout"
        },
        {
          "output_type": "stream",
          "text": [
            "INFO:tensorflow:*** Available Device: _DeviceAttributes(/job:worker/replica:0/task:0/device:CPU:0, CPU, 0, 0)\n"
          ],
          "name": "stderr"
        },
        {
          "output_type": "stream",
          "text": [
            "INFO:tensorflow:*** Available Device: _DeviceAttributes(/job:worker/replica:0/task:0/device:TPU:0, TPU, 0, 0)\n"
          ],
          "name": "stdout"
        },
        {
          "output_type": "stream",
          "text": [
            "INFO:tensorflow:*** Available Device: _DeviceAttributes(/job:worker/replica:0/task:0/device:TPU:0, TPU, 0, 0)\n"
          ],
          "name": "stderr"
        },
        {
          "output_type": "stream",
          "text": [
            "INFO:tensorflow:*** Available Device: _DeviceAttributes(/job:worker/replica:0/task:0/device:TPU:1, TPU, 0, 0)\n"
          ],
          "name": "stdout"
        },
        {
          "output_type": "stream",
          "text": [
            "INFO:tensorflow:*** Available Device: _DeviceAttributes(/job:worker/replica:0/task:0/device:TPU:1, TPU, 0, 0)\n"
          ],
          "name": "stderr"
        },
        {
          "output_type": "stream",
          "text": [
            "INFO:tensorflow:*** Available Device: _DeviceAttributes(/job:worker/replica:0/task:0/device:TPU:2, TPU, 0, 0)\n"
          ],
          "name": "stdout"
        },
        {
          "output_type": "stream",
          "text": [
            "INFO:tensorflow:*** Available Device: _DeviceAttributes(/job:worker/replica:0/task:0/device:TPU:2, TPU, 0, 0)\n"
          ],
          "name": "stderr"
        },
        {
          "output_type": "stream",
          "text": [
            "INFO:tensorflow:*** Available Device: _DeviceAttributes(/job:worker/replica:0/task:0/device:TPU:3, TPU, 0, 0)\n"
          ],
          "name": "stdout"
        },
        {
          "output_type": "stream",
          "text": [
            "INFO:tensorflow:*** Available Device: _DeviceAttributes(/job:worker/replica:0/task:0/device:TPU:3, TPU, 0, 0)\n"
          ],
          "name": "stderr"
        },
        {
          "output_type": "stream",
          "text": [
            "INFO:tensorflow:*** Available Device: _DeviceAttributes(/job:worker/replica:0/task:0/device:TPU:4, TPU, 0, 0)\n"
          ],
          "name": "stdout"
        },
        {
          "output_type": "stream",
          "text": [
            "INFO:tensorflow:*** Available Device: _DeviceAttributes(/job:worker/replica:0/task:0/device:TPU:4, TPU, 0, 0)\n"
          ],
          "name": "stderr"
        },
        {
          "output_type": "stream",
          "text": [
            "INFO:tensorflow:*** Available Device: _DeviceAttributes(/job:worker/replica:0/task:0/device:TPU:5, TPU, 0, 0)\n"
          ],
          "name": "stdout"
        },
        {
          "output_type": "stream",
          "text": [
            "INFO:tensorflow:*** Available Device: _DeviceAttributes(/job:worker/replica:0/task:0/device:TPU:5, TPU, 0, 0)\n"
          ],
          "name": "stderr"
        },
        {
          "output_type": "stream",
          "text": [
            "INFO:tensorflow:*** Available Device: _DeviceAttributes(/job:worker/replica:0/task:0/device:TPU:6, TPU, 0, 0)\n"
          ],
          "name": "stdout"
        },
        {
          "output_type": "stream",
          "text": [
            "INFO:tensorflow:*** Available Device: _DeviceAttributes(/job:worker/replica:0/task:0/device:TPU:6, TPU, 0, 0)\n"
          ],
          "name": "stderr"
        },
        {
          "output_type": "stream",
          "text": [
            "INFO:tensorflow:*** Available Device: _DeviceAttributes(/job:worker/replica:0/task:0/device:TPU:7, TPU, 0, 0)\n"
          ],
          "name": "stdout"
        },
        {
          "output_type": "stream",
          "text": [
            "INFO:tensorflow:*** Available Device: _DeviceAttributes(/job:worker/replica:0/task:0/device:TPU:7, TPU, 0, 0)\n"
          ],
          "name": "stderr"
        },
        {
          "output_type": "stream",
          "text": [
            "INFO:tensorflow:*** Available Device: _DeviceAttributes(/job:worker/replica:0/task:0/device:TPU_SYSTEM:0, TPU_SYSTEM, 0, 0)\n"
          ],
          "name": "stdout"
        },
        {
          "output_type": "stream",
          "text": [
            "INFO:tensorflow:*** Available Device: _DeviceAttributes(/job:worker/replica:0/task:0/device:TPU_SYSTEM:0, TPU_SYSTEM, 0, 0)\n"
          ],
          "name": "stderr"
        },
        {
          "output_type": "stream",
          "text": [
            "INFO:tensorflow:*** Available Device: _DeviceAttributes(/job:worker/replica:0/task:0/device:XLA_CPU:0, XLA_CPU, 0, 0)\n"
          ],
          "name": "stdout"
        },
        {
          "output_type": "stream",
          "text": [
            "INFO:tensorflow:*** Available Device: _DeviceAttributes(/job:worker/replica:0/task:0/device:XLA_CPU:0, XLA_CPU, 0, 0)\n"
          ],
          "name": "stderr"
        },
        {
          "output_type": "stream",
          "text": [
            "==============================Getting Training DataSet==============================\n",
            "\n",
            "\n",
            "==============================Processing Training DataSet==============================\n",
            "\n",
            "\n",
            "==============================Getting Test DataSet==============================\n",
            "\n",
            "\n",
            "==============================Processing Test  DataSet==============================\n",
            "\n",
            "\n",
            "==============================Building Model==============================\n",
            "\n",
            "\n",
            "==============================Model Compiling==============================\n",
            "\n",
            "\n",
            "==============================Model Training ==============================\n",
            "\n",
            "\n",
            "Epoch 1/50\n",
            "2000/2000 [==============================] - 6s 3ms/step - loss: 0.2139 - sparse_categorical_accuracy: 0.9346\n",
            "Epoch 2/50\n",
            "2000/2000 [==============================] - 5s 2ms/step - loss: 0.0928 - sparse_categorical_accuracy: 0.9712\n",
            "Epoch 3/50\n",
            "2000/2000 [==============================] - 5s 2ms/step - loss: 0.0700 - sparse_categorical_accuracy: 0.9786\n",
            "Epoch 4/50\n",
            "2000/2000 [==============================] - 5s 2ms/step - loss: 0.0536 - sparse_categorical_accuracy: 0.9833\n",
            "Epoch 5/50\n",
            "2000/2000 [==============================] - 5s 2ms/step - loss: 0.0444 - sparse_categorical_accuracy: 0.9858\n",
            "Epoch 6/50\n",
            "2000/2000 [==============================] - 5s 2ms/step - loss: 0.0345 - sparse_categorical_accuracy: 0.9887\n",
            "Epoch 7/50\n",
            "2000/2000 [==============================] - 5s 2ms/step - loss: 0.0316 - sparse_categorical_accuracy: 0.9899\n",
            "Epoch 8/50\n",
            "2000/2000 [==============================] - 5s 2ms/step - loss: 0.0267 - sparse_categorical_accuracy: 0.9913\n",
            "Epoch 9/50\n",
            "2000/2000 [==============================] - 5s 2ms/step - loss: 0.0261 - sparse_categorical_accuracy: 0.9914\n",
            "Epoch 10/50\n",
            "2000/2000 [==============================] - 5s 2ms/step - loss: 0.0233 - sparse_categorical_accuracy: 0.9926\n",
            "Epoch 11/50\n",
            "2000/2000 [==============================] - 5s 2ms/step - loss: 0.0207 - sparse_categorical_accuracy: 0.9933\n",
            "Epoch 12/50\n",
            "2000/2000 [==============================] - 5s 2ms/step - loss: 0.0198 - sparse_categorical_accuracy: 0.9938\n",
            "Epoch 13/50\n",
            "2000/2000 [==============================] - 5s 2ms/step - loss: 0.0164 - sparse_categorical_accuracy: 0.9952\n",
            "Epoch 14/50\n",
            "2000/2000 [==============================] - 5s 2ms/step - loss: 0.0177 - sparse_categorical_accuracy: 0.9946\n",
            "Epoch 15/50\n",
            "2000/2000 [==============================] - 5s 2ms/step - loss: 0.0139 - sparse_categorical_accuracy: 0.9957\n",
            "Epoch 16/50\n",
            "2000/2000 [==============================] - 5s 2ms/step - loss: 0.0133 - sparse_categorical_accuracy: 0.9961\n",
            "Epoch 17/50\n",
            "2000/2000 [==============================] - 5s 2ms/step - loss: 0.0126 - sparse_categorical_accuracy: 0.9964\n",
            "Epoch 18/50\n",
            "2000/2000 [==============================] - 5s 2ms/step - loss: 0.0139 - sparse_categorical_accuracy: 0.9958\n",
            "Epoch 19/50\n",
            "2000/2000 [==============================] - 5s 2ms/step - loss: 0.0121 - sparse_categorical_accuracy: 0.9969\n",
            "Epoch 20/50\n",
            "2000/2000 [==============================] - 5s 2ms/step - loss: 0.0136 - sparse_categorical_accuracy: 0.9964\n",
            "Epoch 21/50\n",
            "2000/2000 [==============================] - 5s 2ms/step - loss: 0.0096 - sparse_categorical_accuracy: 0.9972\n",
            "Epoch 22/50\n",
            "2000/2000 [==============================] - 5s 2ms/step - loss: 0.0147 - sparse_categorical_accuracy: 0.9958\n",
            "Epoch 23/50\n",
            "2000/2000 [==============================] - 5s 2ms/step - loss: 0.0116 - sparse_categorical_accuracy: 0.9969\n",
            "Epoch 24/50\n",
            "2000/2000 [==============================] - 5s 2ms/step - loss: 0.0114 - sparse_categorical_accuracy: 0.9969\n",
            "Epoch 25/50\n",
            "2000/2000 [==============================] - 5s 2ms/step - loss: 0.0137 - sparse_categorical_accuracy: 0.9965\n",
            "Epoch 26/50\n",
            "2000/2000 [==============================] - 5s 2ms/step - loss: 0.0081 - sparse_categorical_accuracy: 0.9975\n",
            "Epoch 27/50\n",
            "2000/2000 [==============================] - 5s 2ms/step - loss: 0.0102 - sparse_categorical_accuracy: 0.9971\n",
            "Epoch 28/50\n",
            "2000/2000 [==============================] - 5s 2ms/step - loss: 0.0109 - sparse_categorical_accuracy: 0.9969\n",
            "Epoch 29/50\n",
            "2000/2000 [==============================] - 5s 2ms/step - loss: 0.0111 - sparse_categorical_accuracy: 0.9971\n",
            "Epoch 30/50\n",
            "2000/2000 [==============================] - 5s 2ms/step - loss: 0.0087 - sparse_categorical_accuracy: 0.9976\n",
            "Epoch 31/50\n",
            "2000/2000 [==============================] - 5s 2ms/step - loss: 0.0114 - sparse_categorical_accuracy: 0.9974\n",
            "Epoch 32/50\n",
            "2000/2000 [==============================] - 5s 2ms/step - loss: 0.0091 - sparse_categorical_accuracy: 0.9979\n",
            "Epoch 33/50\n",
            "2000/2000 [==============================] - 5s 2ms/step - loss: 0.0094 - sparse_categorical_accuracy: 0.9975\n",
            "Epoch 34/50\n",
            "2000/2000 [==============================] - 5s 2ms/step - loss: 0.0096 - sparse_categorical_accuracy: 0.9974\n",
            "Epoch 35/50\n",
            "2000/2000 [==============================] - 5s 2ms/step - loss: 0.0085 - sparse_categorical_accuracy: 0.9978\n",
            "Epoch 36/50\n",
            "2000/2000 [==============================] - 5s 2ms/step - loss: 0.0079 - sparse_categorical_accuracy: 0.9980\n",
            "Epoch 37/50\n",
            "2000/2000 [==============================] - 5s 2ms/step - loss: 0.0080 - sparse_categorical_accuracy: 0.9977\n",
            "Epoch 38/50\n",
            "2000/2000 [==============================] - 5s 2ms/step - loss: 0.0118 - sparse_categorical_accuracy: 0.9974\n",
            "Epoch 39/50\n",
            "2000/2000 [==============================] - 5s 2ms/step - loss: 0.0087 - sparse_categorical_accuracy: 0.9980\n",
            "Epoch 40/50\n",
            "2000/2000 [==============================] - 5s 2ms/step - loss: 0.0102 - sparse_categorical_accuracy: 0.9978\n",
            "Epoch 41/50\n",
            "2000/2000 [==============================] - 5s 2ms/step - loss: 0.0088 - sparse_categorical_accuracy: 0.9977\n",
            "Epoch 42/50\n",
            "2000/2000 [==============================] - 5s 2ms/step - loss: 0.0086 - sparse_categorical_accuracy: 0.9978\n",
            "Epoch 43/50\n",
            "2000/2000 [==============================] - 5s 2ms/step - loss: 0.0086 - sparse_categorical_accuracy: 0.9980\n",
            "Epoch 44/50\n",
            "2000/2000 [==============================] - 5s 2ms/step - loss: 0.0073 - sparse_categorical_accuracy: 0.9983\n",
            "Epoch 45/50\n",
            "2000/2000 [==============================] - 5s 2ms/step - loss: 0.0099 - sparse_categorical_accuracy: 0.9978\n",
            "Epoch 46/50\n",
            "2000/2000 [==============================] - 5s 2ms/step - loss: 0.0083 - sparse_categorical_accuracy: 0.9982\n",
            "Epoch 47/50\n",
            "2000/2000 [==============================] - 5s 2ms/step - loss: 0.0074 - sparse_categorical_accuracy: 0.9983\n",
            "Epoch 48/50\n",
            "2000/2000 [==============================] - 5s 2ms/step - loss: 0.0069 - sparse_categorical_accuracy: 0.9982\n",
            "Epoch 49/50\n",
            "2000/2000 [==============================] - 5s 2ms/step - loss: 0.0082 - sparse_categorical_accuracy: 0.9982\n",
            "Epoch 50/50\n",
            "2000/2000 [==============================] - 5s 2ms/step - loss: 0.0086 - sparse_categorical_accuracy: 0.9980\n",
            "\n",
            "\n",
            "==============================Checking the result==============================\n",
            "\n",
            "\n",
            "1000/1000 [==============================] - 2s 2ms/step - loss: 0.1898 - sparse_categorical_accuracy: 0.9792\n",
            "Validation loss: 0.18977080285549164\n",
            "Validation accuracy: 97.92187809944153%\n",
            "\n",
            "\n",
            "==============================Job Done by TPU !!!==============================\n"
          ],
          "name": "stdout"
        }
      ]
    },
    {
      "cell_type": "code",
      "metadata": {
        "id": "xsAhmmdbdhg0",
        "outputId": "9f7a8e62-ed65-41a5-9b90-b45f9555da6d",
        "colab": {
          "base_uri": "https://localhost:8080/",
          "height": 34
        }
      },
      "source": [
        "print(\"실행시간 :\", time.time() - start,\"(초)\")  # 현재시각 - 시작시간 = 실행 시간"
      ],
      "execution_count": 9,
      "outputs": [
        {
          "output_type": "stream",
          "text": [
            "실행시간 : 245.8224413394928 (초)\n"
          ],
          "name": "stdout"
        }
      ]
    }
  ]
}