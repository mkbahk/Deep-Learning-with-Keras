{
  "nbformat": 4,
  "nbformat_minor": 0,
  "metadata": {
    "colab": {
      "name": "ImageNet Processing by ResNet50 Model.ipynb",
      "provenance": [],
      "toc_visible": true,
      "authorship_tag": "ABX9TyMyj1HASRijfRDmaoW2Jkfs",
      "include_colab_link": true
    },
    "kernelspec": {
      "name": "python3",
      "display_name": "Python 3"
    }
  },
  "cells": [
    {
      "cell_type": "markdown",
      "metadata": {
        "id": "view-in-github",
        "colab_type": "text"
      },
      "source": [
        "<a href=\"https://colab.research.google.com/github/mkbahk/DeepLearningwithKeras/blob/master/ImageNet_Processing_by_ResNet50_Model.ipynb\" target=\"_parent\"><img src=\"https://colab.research.google.com/assets/colab-badge.svg\" alt=\"Open In Colab\"/></a>"
      ]
    },
    {
      "cell_type": "markdown",
      "metadata": {
        "id": "IZZs8-3TWqPZ"
      },
      "source": [
        "RestNet50 모델로 으로 ImageNet처리 예\n"
      ]
    },
    {
      "cell_type": "code",
      "metadata": {
        "id": "jNlm227TXCMD"
      },
      "source": [
        "from tensorflow.keras.applications.resnet50 import ResNet50\n",
        "from tensorflow.keras.preprocessing import image\n",
        "from tensorflow.keras.applications.resnet50 import preprocess_input, decode_predictions\n",
        "import numpy as np"
      ],
      "execution_count": null,
      "outputs": []
    },
    {
      "cell_type": "markdown",
      "metadata": {
        "id": "CtHM5BSNXJbZ"
      },
      "source": [
        "Imagenet 다운로드"
      ]
    },
    {
      "cell_type": "code",
      "metadata": {
        "id": "N1pw2WPmXKOH",
        "outputId": "0f6b757c-6bc7-4c25-d05b-1ff698f16f31",
        "colab": {
          "base_uri": "https://localhost:8080/",
          "height": 55
        }
      },
      "source": [
        "model = ResNet50(weights='imagenet')"
      ],
      "execution_count": null,
      "outputs": [
        {
          "output_type": "stream",
          "text": [
            "Downloading data from https://storage.googleapis.com/tensorflow/keras-applications/resnet/resnet50_weights_tf_dim_ordering_tf_kernels.h5\n",
            "102973440/102967424 [==============================] - 1s 0us/step\n"
          ],
          "name": "stdout"
        }
      ]
    },
    {
      "cell_type": "markdown",
      "metadata": {
        "id": "Vyte8hJ1XLnE"
      },
      "source": [
        "비교할 이미지 준비: 구글에서 elephant.jpg를 다운받아 /content/sample_data에 저장해 주어야 합니다.\n"
      ]
    },
    {
      "cell_type": "code",
      "metadata": {
        "id": "LFodJd2W2ilT",
        "outputId": "4eb43ea0-8619-4eb9-a70c-807fe5578f31",
        "colab": {
          "base_uri": "https://localhost:8080/",
          "height": 225
        }
      },
      "source": [
        "!wget https://upload.wikimedia.org/wikipedia/commons/3/37/African_Bush_Elephant.jpg\n"
      ],
      "execution_count": null,
      "outputs": [
        {
          "output_type": "stream",
          "text": [
            "--2020-09-16 07:39:50--  https://upload.wikimedia.org/wikipedia/commons/3/37/African_Bush_Elephant.jpg\n",
            "Resolving upload.wikimedia.org (upload.wikimedia.org)... 208.80.153.240, 2620:0:860:ed1a::2:b\n",
            "Connecting to upload.wikimedia.org (upload.wikimedia.org)|208.80.153.240|:443... connected.\n",
            "HTTP request sent, awaiting response... 200 OK\n",
            "Length: 4783815 (4.6M) [image/jpeg]\n",
            "Saving to: ‘African_Bush_Elephant.jpg’\n",
            "\n",
            "African_Bush_Elepha 100%[===================>]   4.56M  12.5MB/s    in 0.4s    \n",
            "\n",
            "2020-09-16 07:39:50 (12.5 MB/s) - ‘African_Bush_Elephant.jpg’ saved [4783815/4783815]\n",
            "\n"
          ],
          "name": "stdout"
        }
      ]
    },
    {
      "cell_type": "code",
      "metadata": {
        "id": "qjb_HF5ZXLLn"
      },
      "source": [
        "img_path = '/content/sample_data/elephant.jpg'\n",
        "img = image.load_img(img_path, target_size=(224, 224))\n",
        "x = image.img_to_array(img)\n",
        "x = np.expand_dims(x, axis=0)\n",
        "x = preprocess_input(x)"
      ],
      "execution_count": null,
      "outputs": []
    },
    {
      "cell_type": "markdown",
      "metadata": {
        "id": "PZLXkL9JXK2s"
      },
      "source": [
        "기존에 미리 컴파일된 모델을 사용하기 때문에 학습하는 과정없이 바로 예측으로 들어감."
      ]
    },
    {
      "cell_type": "code",
      "metadata": {
        "id": "h_GOUO2TXf3N",
        "outputId": "1384a83d-a193-4835-d584-1580a05453cf",
        "colab": {
          "base_uri": "https://localhost:8080/",
          "height": 74
        }
      },
      "source": [
        "preds = model.predict(x)\n",
        "# decode the results into a list of tuples (class, description, probability)\n",
        "# (one such list for each sample in the batch)\n",
        "print('Predicted:', decode_predictions(preds, top=3)[0])\n",
        "# Predicted: [(u'n02504013', u'Indian_elephant', 0.82658225), (u'n01871265', u'tusker', 0.11223"
      ],
      "execution_count": null,
      "outputs": [
        {
          "output_type": "stream",
          "text": [
            "Downloading data from https://storage.googleapis.com/download.tensorflow.org/data/imagenet_class_index.json\n",
            "40960/35363 [==================================] - 0s 0us/step\n",
            "Predicted: [('n02504458', 'African_elephant', 0.88571346), ('n01871265', 'tusker', 0.06552617), ('n02504013', 'Indian_elephant', 0.036657993)]\n"
          ],
          "name": "stdout"
        }
      ]
    }
  ]
}