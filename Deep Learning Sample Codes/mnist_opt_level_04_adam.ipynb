{
  "nbformat": 4,
  "nbformat_minor": 0,
  "metadata": {
    "colab": {
      "name": "mnist_opt_level_04_adam.ipynb",
      "provenance": [],
      "collapsed_sections": [],
      "authorship_tag": "ABX9TyOmIWIUDUNrxdcxVMC8Sowg",
      "include_colab_link": true
    },
    "kernelspec": {
      "name": "python3",
      "display_name": "Python 3"
    },
    "accelerator": "GPU"
  },
  "cells": [
    {
      "cell_type": "markdown",
      "metadata": {
        "id": "view-in-github",
        "colab_type": "text"
      },
      "source": [
        "<a href=\"https://colab.research.google.com/github/mkbahk/DeepLearningwithKeras/blob/master/mnist_opt_level_04_adam.ipynb\" target=\"_parent\"><img src=\"https://colab.research.google.com/assets/colab-badge.svg\" alt=\"Open In Colab\"/></a>"
      ]
    },
    {
      "cell_type": "code",
      "metadata": {
        "id": "CLiJzZJNsPOB"
      },
      "source": [
        "import tensorflow as tf\n",
        "import numpy as np\n",
        "from tensorflow import keras"
      ],
      "execution_count": 23,
      "outputs": []
    },
    {
      "cell_type": "code",
      "metadata": {
        "id": "ZmA6HYaoseKM"
      },
      "source": [
        "#하이퍼 파라메터 정의(매개변수들)\n",
        "EPOCHS = 200\n",
        "BATCH_SIZE = 128\n",
        "VERBOSE = 1\n",
        "NB_CLASSES = 10 #출력갯수 = 숫자의 갯수\n",
        "N_HIDDEN = 128 \n",
        "VALIDATION_SPLIT = 0.2 #검증을 위해 남겨둘 훈련 데이타\n",
        "DROPOUT = 0.3"
      ],
      "execution_count": 24,
      "outputs": []
    },
    {
      "cell_type": "code",
      "metadata": {
        "colab": {
          "base_uri": "https://localhost:8080/"
        },
        "id": "6a_uWCrqtEIJ",
        "outputId": "1cd91198-dcc2-4a1b-a229-58925c556c46"
      },
      "source": [
        "# MNIST 데이타셋 로드(MNIST는 숫자만, eMNIST는 숫자+알파벳, 패션MNIST는 옷그림들이 있다)\n",
        "# X값 훈련용, 테스트 데이터를 각각 60,000개와 10,000개로 나눈다\n",
        "# 레이블(정답, Y값)에 대한 원핫 인코딩을 자동으로 적용한다\n",
        "# 아래 데이타셋을 .png 형태의 이미지를 이미 숫자화한 배열형태로 바꾸어 놓은 것이며, .csv형태가 분석 초기 데이타이다.\n",
        "mnist = keras.datasets.mnist\n",
        "(X_train, Y_train), (X_test, Y_test) = mnist.load_data()\n",
        "\n",
        "# X_train은 60,000개 행으로 28x28 값을 가진다. 이를 60,000 x 784(28x28)의 행렬형태로 변환한다.\n",
        "RESHAPED = 784\n",
        "\n",
        "X_train = X_train.reshape(60000, RESHAPED)\n",
        "X_test = X_test.reshape(10000, RESHAPED)\n",
        "\n",
        "X_train = X_train.astype('float32')\n",
        "X_test = X_test.astype('float32')\n",
        "\n",
        "# 입력을 [0, 1] 사이로 정규화\n",
        "X_train /= 255.0\n",
        "X_train /= 255.0\n",
        "\n",
        "print(X_train.shape[0], 'train samples')\n",
        "print(X_test.shape[0], 'train samples')\n",
        "\n",
        "# 레이블을 원한 엔코딩, 그래야 행렬 연산이 가능함\n",
        "Y_train = tf.keras.utils.to_categorical(Y_train, NB_CLASSES)\n",
        "Y_test = tf.keras.utils.to_categorical(Y_test, NB_CLASSES)"
      ],
      "execution_count": 25,
      "outputs": [
        {
          "output_type": "stream",
          "text": [
            "60000 train samples\n",
            "10000 train samples\n"
          ],
          "name": "stdout"
        }
      ]
    },
    {
      "cell_type": "code",
      "metadata": {
        "id": "yLoTJoMXvC4S"
      },
      "source": [
        "# 모델 구축(정의)\n",
        "model = tf.keras.models.Sequential()\n",
        "model.add(keras.layers.Dense(N_HIDDEN, input_shape=(RESHAPED,), name='input_Dense_layer_1', activation='relu'))\n",
        "model.add(keras.layers.Dropout(DROPOUT))\n",
        "model.add(keras.layers.Dense(N_HIDDEN, name='hidden_Dense_layer_2', activation='relu'))\n",
        "model.add(keras.layers.Dropout(DROPOUT))\n",
        "model.add(keras.layers.Dense(NB_CLASSES, name='output_Dense_layer_3', activation='softmax'))"
      ],
      "execution_count": 26,
      "outputs": []
    },
    {
      "cell_type": "code",
      "metadata": {
        "id": "rfRXM9Nhw5Kt"
      },
      "source": [
        "# 모델 컴파일\n",
        "model.compile(optimizer='Adam',\n",
        "             loss='categorical_crossentropy',\n",
        "             metrics=['accuracy'])"
      ],
      "execution_count": 27,
      "outputs": []
    },
    {
      "cell_type": "code",
      "metadata": {
        "colab": {
          "base_uri": "https://localhost:8080/"
        },
        "id": "RsSr7R9RzMFm",
        "outputId": "5a0d7380-8618-4216-f50c-9a2e8a070de5"
      },
      "source": [
        "# 모델 형태 보기\n",
        "model.summary()"
      ],
      "execution_count": 28,
      "outputs": [
        {
          "output_type": "stream",
          "text": [
            "Model: \"sequential_2\"\n",
            "_________________________________________________________________\n",
            "Layer (type)                 Output Shape              Param #   \n",
            "=================================================================\n",
            "input_Dense_layer_1 (Dense)  (None, 128)               100480    \n",
            "_________________________________________________________________\n",
            "dropout_4 (Dropout)          (None, 128)               0         \n",
            "_________________________________________________________________\n",
            "hidden_Dense_layer_2 (Dense) (None, 128)               16512     \n",
            "_________________________________________________________________\n",
            "dropout_5 (Dropout)          (None, 128)               0         \n",
            "_________________________________________________________________\n",
            "output_Dense_layer_3 (Dense) (None, 10)                1290      \n",
            "=================================================================\n",
            "Total params: 118,282\n",
            "Trainable params: 118,282\n",
            "Non-trainable params: 0\n",
            "_________________________________________________________________\n"
          ],
          "name": "stdout"
        }
      ]
    },
    {
      "cell_type": "code",
      "metadata": {
        "colab": {
          "base_uri": "https://localhost:8080/"
        },
        "id": "ru4BliBKxrkG",
        "outputId": "ba1aa2b5-eaaa-4fbc-d7fa-1b03f000ddc7"
      },
      "source": [
        "# 모델 훈련\n",
        "from keras.callbacks import EarlyStopping\n",
        "\n",
        "early_stopping = EarlyStopping(patience=15, mode='auto', monitor='val_accuracy')\n",
        "\n",
        "hist = model.fit(x = X_train, y = Y_train, \n",
        "          batch_size = BATCH_SIZE, epochs=EPOCHS,\n",
        "          verbose=VERBOSE, validation_split=VALIDATION_SPLIT,\n",
        "          callbacks=[early_stopping])"
      ],
      "execution_count": 29,
      "outputs": [
        {
          "output_type": "stream",
          "text": [
            "Epoch 1/200\n",
            "375/375 [==============================] - 1s 3ms/step - loss: 1.4217 - accuracy: 0.5459 - val_loss: 0.7226 - val_accuracy: 0.7922\n",
            "Epoch 2/200\n",
            "375/375 [==============================] - 1s 3ms/step - loss: 0.6919 - accuracy: 0.7804 - val_loss: 0.4675 - val_accuracy: 0.8692\n",
            "Epoch 3/200\n",
            "375/375 [==============================] - 1s 3ms/step - loss: 0.5255 - accuracy: 0.8439 - val_loss: 0.3745 - val_accuracy: 0.8923\n",
            "Epoch 4/200\n",
            "375/375 [==============================] - 1s 3ms/step - loss: 0.4442 - accuracy: 0.8704 - val_loss: 0.3247 - val_accuracy: 0.9064\n",
            "Epoch 5/200\n",
            "375/375 [==============================] - 1s 3ms/step - loss: 0.3980 - accuracy: 0.8817 - val_loss: 0.2916 - val_accuracy: 0.9147\n",
            "Epoch 6/200\n",
            "375/375 [==============================] - 1s 3ms/step - loss: 0.3614 - accuracy: 0.8934 - val_loss: 0.2653 - val_accuracy: 0.9210\n",
            "Epoch 7/200\n",
            "375/375 [==============================] - 1s 3ms/step - loss: 0.3308 - accuracy: 0.9020 - val_loss: 0.2418 - val_accuracy: 0.9291\n",
            "Epoch 8/200\n",
            "375/375 [==============================] - 1s 3ms/step - loss: 0.3100 - accuracy: 0.9085 - val_loss: 0.2238 - val_accuracy: 0.9342\n",
            "Epoch 9/200\n",
            "375/375 [==============================] - 1s 3ms/step - loss: 0.2854 - accuracy: 0.9156 - val_loss: 0.2127 - val_accuracy: 0.9369\n",
            "Epoch 10/200\n",
            "375/375 [==============================] - 1s 3ms/step - loss: 0.2719 - accuracy: 0.9183 - val_loss: 0.1973 - val_accuracy: 0.9417\n",
            "Epoch 11/200\n",
            "375/375 [==============================] - 1s 3ms/step - loss: 0.2549 - accuracy: 0.9243 - val_loss: 0.1876 - val_accuracy: 0.9437\n",
            "Epoch 12/200\n",
            "375/375 [==============================] - 1s 3ms/step - loss: 0.2399 - accuracy: 0.9289 - val_loss: 0.1780 - val_accuracy: 0.9455\n",
            "Epoch 13/200\n",
            "375/375 [==============================] - 1s 3ms/step - loss: 0.2315 - accuracy: 0.9310 - val_loss: 0.1658 - val_accuracy: 0.9506\n",
            "Epoch 14/200\n",
            "375/375 [==============================] - 1s 3ms/step - loss: 0.2192 - accuracy: 0.9355 - val_loss: 0.1603 - val_accuracy: 0.9538\n",
            "Epoch 15/200\n",
            "375/375 [==============================] - 1s 3ms/step - loss: 0.2086 - accuracy: 0.9386 - val_loss: 0.1524 - val_accuracy: 0.9549\n",
            "Epoch 16/200\n",
            "375/375 [==============================] - 1s 3ms/step - loss: 0.2007 - accuracy: 0.9396 - val_loss: 0.1452 - val_accuracy: 0.9565\n",
            "Epoch 17/200\n",
            "375/375 [==============================] - 1s 3ms/step - loss: 0.1953 - accuracy: 0.9425 - val_loss: 0.1402 - val_accuracy: 0.9580\n",
            "Epoch 18/200\n",
            "375/375 [==============================] - 1s 3ms/step - loss: 0.1865 - accuracy: 0.9440 - val_loss: 0.1376 - val_accuracy: 0.9582\n",
            "Epoch 19/200\n",
            "375/375 [==============================] - 1s 3ms/step - loss: 0.1812 - accuracy: 0.9460 - val_loss: 0.1343 - val_accuracy: 0.9590\n",
            "Epoch 20/200\n",
            "375/375 [==============================] - 1s 3ms/step - loss: 0.1736 - accuracy: 0.9482 - val_loss: 0.1289 - val_accuracy: 0.9614\n",
            "Epoch 21/200\n",
            "375/375 [==============================] - 1s 3ms/step - loss: 0.1658 - accuracy: 0.9510 - val_loss: 0.1248 - val_accuracy: 0.9632\n",
            "Epoch 22/200\n",
            "375/375 [==============================] - 1s 3ms/step - loss: 0.1600 - accuracy: 0.9512 - val_loss: 0.1247 - val_accuracy: 0.9626\n",
            "Epoch 23/200\n",
            "375/375 [==============================] - 1s 3ms/step - loss: 0.1573 - accuracy: 0.9521 - val_loss: 0.1195 - val_accuracy: 0.9638\n",
            "Epoch 24/200\n",
            "375/375 [==============================] - 1s 3ms/step - loss: 0.1522 - accuracy: 0.9535 - val_loss: 0.1169 - val_accuracy: 0.9639\n",
            "Epoch 25/200\n",
            "375/375 [==============================] - 1s 3ms/step - loss: 0.1501 - accuracy: 0.9546 - val_loss: 0.1151 - val_accuracy: 0.9646\n",
            "Epoch 26/200\n",
            "375/375 [==============================] - 1s 3ms/step - loss: 0.1461 - accuracy: 0.9554 - val_loss: 0.1121 - val_accuracy: 0.9663\n",
            "Epoch 27/200\n",
            "375/375 [==============================] - 1s 3ms/step - loss: 0.1413 - accuracy: 0.9567 - val_loss: 0.1094 - val_accuracy: 0.9676\n",
            "Epoch 28/200\n",
            "375/375 [==============================] - 1s 3ms/step - loss: 0.1387 - accuracy: 0.9586 - val_loss: 0.1105 - val_accuracy: 0.9670\n",
            "Epoch 29/200\n",
            "375/375 [==============================] - 1s 3ms/step - loss: 0.1303 - accuracy: 0.9605 - val_loss: 0.1062 - val_accuracy: 0.9691\n",
            "Epoch 30/200\n",
            "375/375 [==============================] - 1s 3ms/step - loss: 0.1335 - accuracy: 0.9589 - val_loss: 0.1022 - val_accuracy: 0.9705\n",
            "Epoch 31/200\n",
            "375/375 [==============================] - 1s 3ms/step - loss: 0.1270 - accuracy: 0.9624 - val_loss: 0.1037 - val_accuracy: 0.9686\n",
            "Epoch 32/200\n",
            "375/375 [==============================] - 1s 3ms/step - loss: 0.1276 - accuracy: 0.9614 - val_loss: 0.1059 - val_accuracy: 0.9692\n",
            "Epoch 33/200\n",
            "375/375 [==============================] - 1s 3ms/step - loss: 0.1229 - accuracy: 0.9620 - val_loss: 0.0998 - val_accuracy: 0.9712\n",
            "Epoch 34/200\n",
            "375/375 [==============================] - 1s 3ms/step - loss: 0.1203 - accuracy: 0.9641 - val_loss: 0.1002 - val_accuracy: 0.9712\n",
            "Epoch 35/200\n",
            "375/375 [==============================] - 1s 3ms/step - loss: 0.1174 - accuracy: 0.9648 - val_loss: 0.0986 - val_accuracy: 0.9722\n",
            "Epoch 36/200\n",
            "375/375 [==============================] - 1s 3ms/step - loss: 0.1135 - accuracy: 0.9656 - val_loss: 0.0991 - val_accuracy: 0.9712\n",
            "Epoch 37/200\n",
            "375/375 [==============================] - 1s 3ms/step - loss: 0.1127 - accuracy: 0.9653 - val_loss: 0.0954 - val_accuracy: 0.9728\n",
            "Epoch 38/200\n",
            "375/375 [==============================] - 1s 3ms/step - loss: 0.1110 - accuracy: 0.9658 - val_loss: 0.0966 - val_accuracy: 0.9724\n",
            "Epoch 39/200\n",
            "375/375 [==============================] - 1s 3ms/step - loss: 0.1080 - accuracy: 0.9665 - val_loss: 0.0971 - val_accuracy: 0.9711\n",
            "Epoch 40/200\n",
            "375/375 [==============================] - 1s 3ms/step - loss: 0.1080 - accuracy: 0.9661 - val_loss: 0.0964 - val_accuracy: 0.9717\n",
            "Epoch 41/200\n",
            "375/375 [==============================] - 1s 3ms/step - loss: 0.1032 - accuracy: 0.9681 - val_loss: 0.0939 - val_accuracy: 0.9723\n",
            "Epoch 42/200\n",
            "375/375 [==============================] - 1s 3ms/step - loss: 0.1043 - accuracy: 0.9671 - val_loss: 0.0941 - val_accuracy: 0.9741\n",
            "Epoch 43/200\n",
            "375/375 [==============================] - 1s 3ms/step - loss: 0.0982 - accuracy: 0.9696 - val_loss: 0.0942 - val_accuracy: 0.9737\n",
            "Epoch 44/200\n",
            "375/375 [==============================] - 1s 3ms/step - loss: 0.0995 - accuracy: 0.9694 - val_loss: 0.0925 - val_accuracy: 0.9726\n",
            "Epoch 45/200\n",
            "375/375 [==============================] - 1s 3ms/step - loss: 0.0982 - accuracy: 0.9688 - val_loss: 0.0912 - val_accuracy: 0.9747\n",
            "Epoch 46/200\n",
            "375/375 [==============================] - 1s 3ms/step - loss: 0.0964 - accuracy: 0.9703 - val_loss: 0.0875 - val_accuracy: 0.9749\n",
            "Epoch 47/200\n",
            "375/375 [==============================] - 1s 3ms/step - loss: 0.0966 - accuracy: 0.9698 - val_loss: 0.0887 - val_accuracy: 0.9746\n",
            "Epoch 48/200\n",
            "375/375 [==============================] - 1s 3ms/step - loss: 0.0939 - accuracy: 0.9718 - val_loss: 0.0910 - val_accuracy: 0.9728\n",
            "Epoch 49/200\n",
            "375/375 [==============================] - 1s 3ms/step - loss: 0.0934 - accuracy: 0.9704 - val_loss: 0.0891 - val_accuracy: 0.9738\n",
            "Epoch 50/200\n",
            "375/375 [==============================] - 1s 3ms/step - loss: 0.0895 - accuracy: 0.9720 - val_loss: 0.0883 - val_accuracy: 0.9739\n",
            "Epoch 51/200\n",
            "375/375 [==============================] - 1s 3ms/step - loss: 0.0900 - accuracy: 0.9730 - val_loss: 0.0915 - val_accuracy: 0.9748\n",
            "Epoch 52/200\n",
            "375/375 [==============================] - 1s 3ms/step - loss: 0.0883 - accuracy: 0.9724 - val_loss: 0.0907 - val_accuracy: 0.9747\n",
            "Epoch 53/200\n",
            "375/375 [==============================] - 1s 3ms/step - loss: 0.0867 - accuracy: 0.9734 - val_loss: 0.0877 - val_accuracy: 0.9755\n",
            "Epoch 54/200\n",
            "375/375 [==============================] - 1s 3ms/step - loss: 0.0878 - accuracy: 0.9725 - val_loss: 0.0877 - val_accuracy: 0.9748\n",
            "Epoch 55/200\n",
            "375/375 [==============================] - 1s 3ms/step - loss: 0.0845 - accuracy: 0.9733 - val_loss: 0.0875 - val_accuracy: 0.9753\n",
            "Epoch 56/200\n",
            "375/375 [==============================] - 1s 3ms/step - loss: 0.0840 - accuracy: 0.9738 - val_loss: 0.0875 - val_accuracy: 0.9759\n",
            "Epoch 57/200\n",
            "375/375 [==============================] - 1s 3ms/step - loss: 0.0822 - accuracy: 0.9744 - val_loss: 0.0880 - val_accuracy: 0.9748\n",
            "Epoch 58/200\n",
            "375/375 [==============================] - 1s 3ms/step - loss: 0.0821 - accuracy: 0.9737 - val_loss: 0.0891 - val_accuracy: 0.9749\n",
            "Epoch 59/200\n",
            "375/375 [==============================] - 1s 3ms/step - loss: 0.0816 - accuracy: 0.9744 - val_loss: 0.0883 - val_accuracy: 0.9753\n",
            "Epoch 60/200\n",
            "375/375 [==============================] - 1s 3ms/step - loss: 0.0793 - accuracy: 0.9744 - val_loss: 0.0835 - val_accuracy: 0.9767\n",
            "Epoch 61/200\n",
            "375/375 [==============================] - 1s 3ms/step - loss: 0.0795 - accuracy: 0.9757 - val_loss: 0.0847 - val_accuracy: 0.9753\n",
            "Epoch 62/200\n",
            "375/375 [==============================] - 1s 3ms/step - loss: 0.0777 - accuracy: 0.9751 - val_loss: 0.0873 - val_accuracy: 0.9752\n",
            "Epoch 63/200\n",
            "375/375 [==============================] - 1s 3ms/step - loss: 0.0773 - accuracy: 0.9755 - val_loss: 0.0868 - val_accuracy: 0.9760\n",
            "Epoch 64/200\n",
            "375/375 [==============================] - 1s 3ms/step - loss: 0.0760 - accuracy: 0.9762 - val_loss: 0.0861 - val_accuracy: 0.9760\n",
            "Epoch 65/200\n",
            "375/375 [==============================] - 1s 3ms/step - loss: 0.0740 - accuracy: 0.9763 - val_loss: 0.0840 - val_accuracy: 0.9766\n",
            "Epoch 66/200\n",
            "375/375 [==============================] - 1s 3ms/step - loss: 0.0736 - accuracy: 0.9764 - val_loss: 0.0868 - val_accuracy: 0.9761\n",
            "Epoch 67/200\n",
            "375/375 [==============================] - 1s 3ms/step - loss: 0.0745 - accuracy: 0.9763 - val_loss: 0.0832 - val_accuracy: 0.9767\n",
            "Epoch 68/200\n",
            "375/375 [==============================] - 1s 3ms/step - loss: 0.0734 - accuracy: 0.9768 - val_loss: 0.0857 - val_accuracy: 0.9761\n",
            "Epoch 69/200\n",
            "375/375 [==============================] - 1s 3ms/step - loss: 0.0707 - accuracy: 0.9776 - val_loss: 0.0876 - val_accuracy: 0.9757\n",
            "Epoch 70/200\n",
            "375/375 [==============================] - 1s 3ms/step - loss: 0.0707 - accuracy: 0.9772 - val_loss: 0.0861 - val_accuracy: 0.9761\n",
            "Epoch 71/200\n",
            "375/375 [==============================] - 1s 3ms/step - loss: 0.0710 - accuracy: 0.9764 - val_loss: 0.0875 - val_accuracy: 0.9760\n",
            "Epoch 72/200\n",
            "375/375 [==============================] - 1s 3ms/step - loss: 0.0722 - accuracy: 0.9765 - val_loss: 0.0883 - val_accuracy: 0.9762\n",
            "Epoch 73/200\n",
            "375/375 [==============================] - 1s 3ms/step - loss: 0.0675 - accuracy: 0.9778 - val_loss: 0.0834 - val_accuracy: 0.9763\n",
            "Epoch 74/200\n",
            "375/375 [==============================] - 1s 3ms/step - loss: 0.0697 - accuracy: 0.9774 - val_loss: 0.0855 - val_accuracy: 0.9773\n",
            "Epoch 75/200\n",
            "375/375 [==============================] - 1s 3ms/step - loss: 0.0667 - accuracy: 0.9781 - val_loss: 0.0913 - val_accuracy: 0.9758\n",
            "Epoch 76/200\n",
            "375/375 [==============================] - 1s 3ms/step - loss: 0.0657 - accuracy: 0.9781 - val_loss: 0.0861 - val_accuracy: 0.9764\n",
            "Epoch 77/200\n",
            "375/375 [==============================] - 1s 3ms/step - loss: 0.0671 - accuracy: 0.9784 - val_loss: 0.0846 - val_accuracy: 0.9770\n",
            "Epoch 78/200\n",
            "375/375 [==============================] - 1s 3ms/step - loss: 0.0621 - accuracy: 0.9801 - val_loss: 0.0856 - val_accuracy: 0.9763\n",
            "Epoch 79/200\n",
            "375/375 [==============================] - 1s 3ms/step - loss: 0.0645 - accuracy: 0.9787 - val_loss: 0.0856 - val_accuracy: 0.9762\n",
            "Epoch 80/200\n",
            "375/375 [==============================] - 1s 3ms/step - loss: 0.0658 - accuracy: 0.9784 - val_loss: 0.0855 - val_accuracy: 0.9774\n",
            "Epoch 81/200\n",
            "375/375 [==============================] - 1s 3ms/step - loss: 0.0673 - accuracy: 0.9787 - val_loss: 0.0871 - val_accuracy: 0.9768\n",
            "Epoch 82/200\n",
            "375/375 [==============================] - 1s 3ms/step - loss: 0.0625 - accuracy: 0.9800 - val_loss: 0.0854 - val_accuracy: 0.9752\n",
            "Epoch 83/200\n",
            "375/375 [==============================] - 1s 3ms/step - loss: 0.0620 - accuracy: 0.9799 - val_loss: 0.0850 - val_accuracy: 0.9765\n",
            "Epoch 84/200\n",
            "375/375 [==============================] - 1s 3ms/step - loss: 0.0601 - accuracy: 0.9799 - val_loss: 0.0869 - val_accuracy: 0.9760\n",
            "Epoch 85/200\n",
            "375/375 [==============================] - 1s 3ms/step - loss: 0.0594 - accuracy: 0.9805 - val_loss: 0.0838 - val_accuracy: 0.9762\n",
            "Epoch 86/200\n",
            "375/375 [==============================] - 1s 3ms/step - loss: 0.0607 - accuracy: 0.9800 - val_loss: 0.0906 - val_accuracy: 0.9757\n",
            "Epoch 87/200\n",
            "375/375 [==============================] - 1s 3ms/step - loss: 0.0600 - accuracy: 0.9797 - val_loss: 0.0848 - val_accuracy: 0.9767\n",
            "Epoch 88/200\n",
            "375/375 [==============================] - 1s 3ms/step - loss: 0.0594 - accuracy: 0.9815 - val_loss: 0.0870 - val_accuracy: 0.9763\n",
            "Epoch 89/200\n",
            "375/375 [==============================] - 1s 3ms/step - loss: 0.0591 - accuracy: 0.9802 - val_loss: 0.0852 - val_accuracy: 0.9780\n",
            "Epoch 90/200\n",
            "375/375 [==============================] - 1s 3ms/step - loss: 0.0601 - accuracy: 0.9806 - val_loss: 0.0852 - val_accuracy: 0.9758\n",
            "Epoch 91/200\n",
            "375/375 [==============================] - 1s 3ms/step - loss: 0.0575 - accuracy: 0.9814 - val_loss: 0.0867 - val_accuracy: 0.9771\n",
            "Epoch 92/200\n",
            "375/375 [==============================] - 1s 3ms/step - loss: 0.0565 - accuracy: 0.9816 - val_loss: 0.0859 - val_accuracy: 0.9769\n",
            "Epoch 93/200\n",
            "375/375 [==============================] - 1s 3ms/step - loss: 0.0579 - accuracy: 0.9810 - val_loss: 0.0866 - val_accuracy: 0.9771\n",
            "Epoch 94/200\n",
            "375/375 [==============================] - 1s 3ms/step - loss: 0.0575 - accuracy: 0.9812 - val_loss: 0.0867 - val_accuracy: 0.9772\n",
            "Epoch 95/200\n",
            "375/375 [==============================] - 1s 3ms/step - loss: 0.0577 - accuracy: 0.9814 - val_loss: 0.0871 - val_accuracy: 0.9769\n",
            "Epoch 96/200\n",
            "375/375 [==============================] - 1s 3ms/step - loss: 0.0568 - accuracy: 0.9815 - val_loss: 0.0879 - val_accuracy: 0.9764\n",
            "Epoch 97/200\n",
            "375/375 [==============================] - 1s 3ms/step - loss: 0.0540 - accuracy: 0.9821 - val_loss: 0.0868 - val_accuracy: 0.9768\n",
            "Epoch 98/200\n",
            "375/375 [==============================] - 1s 3ms/step - loss: 0.0575 - accuracy: 0.9815 - val_loss: 0.0861 - val_accuracy: 0.9766\n",
            "Epoch 99/200\n",
            "375/375 [==============================] - 1s 3ms/step - loss: 0.0552 - accuracy: 0.9816 - val_loss: 0.0849 - val_accuracy: 0.9773\n",
            "Epoch 100/200\n",
            "375/375 [==============================] - 1s 3ms/step - loss: 0.0562 - accuracy: 0.9822 - val_loss: 0.0856 - val_accuracy: 0.9771\n",
            "Epoch 101/200\n",
            "375/375 [==============================] - 1s 3ms/step - loss: 0.0530 - accuracy: 0.9835 - val_loss: 0.0909 - val_accuracy: 0.9768\n",
            "Epoch 102/200\n",
            "375/375 [==============================] - 1s 3ms/step - loss: 0.0543 - accuracy: 0.9818 - val_loss: 0.0897 - val_accuracy: 0.9769\n",
            "Epoch 103/200\n",
            "375/375 [==============================] - 1s 3ms/step - loss: 0.0527 - accuracy: 0.9827 - val_loss: 0.0891 - val_accuracy: 0.9767\n",
            "Epoch 104/200\n",
            "375/375 [==============================] - 1s 3ms/step - loss: 0.0526 - accuracy: 0.9830 - val_loss: 0.0882 - val_accuracy: 0.9765\n"
          ],
          "name": "stdout"
        }
      ]
    },
    {
      "cell_type": "code",
      "metadata": {
        "colab": {
          "base_uri": "https://localhost:8080/"
        },
        "id": "PeYbgpQTyoXo",
        "outputId": "56dcf213-3938-417a-9835-5cd91dcd7ed2"
      },
      "source": [
        "# 모델 평가\n",
        "test_loss, test_acc = model.evaluate(X_test, Y_test)\n",
        "print(\"Test loss: \", round(test_loss,4), \"Test accuracy:\", round(test_acc,4))"
      ],
      "execution_count": 30,
      "outputs": [
        {
          "output_type": "stream",
          "text": [
            "313/313 [==============================] - 1s 2ms/step - loss: 4745.9902 - accuracy: 0.9661\n",
            "Test loss:  4745.9902 Test accuracy: 0.9661\n"
          ],
          "name": "stdout"
        }
      ]
    },
    {
      "cell_type": "code",
      "metadata": {
        "id": "zX9gUPumzVVB"
      },
      "source": [
        "# 모델 저장\n",
        "model.save('mnist_opt_level_04_Adam.h5')"
      ],
      "execution_count": 31,
      "outputs": []
    },
    {
      "cell_type": "code",
      "metadata": {
        "colab": {
          "base_uri": "https://localhost:8080/",
          "height": 267
        },
        "id": "1b4NPyHk5M1P",
        "outputId": "1a1c5bff-cd30-448a-d175-75789fae17f2"
      },
      "source": [
        "import matplotlib\n",
        "import matplotlib.pyplot as plt\n",
        "\n",
        "fig, loss_ax =  plt.subplots()\n",
        "acc_ax = loss_ax.twinx()\n",
        "\n",
        "loss_ax.plot(hist.history['loss'], 'y', label='train loss')\n",
        "#loss_ax.plot(hist.history['val_loss'], 'g', label='validation loss')\n",
        "acc_ax.plot(hist.history['accuracy'], 'b', label='train accuracy')\n",
        "#acc_ax.plot(hist.history['val_accuracy'], 'r', label='validation accuracy')\n",
        "\n",
        "plt.legend(['train loss', 'train accuracy'])\n",
        "plt.show()"
      ],
      "execution_count": 33,
      "outputs": [
        {
          "output_type": "display_data",
          "data": {
            "image/png": "[encoded data removed]",
            "text/plain": [
              "<Figure size 432x288 with 2 Axes>"
            ]
          },
          "metadata": {
            "tags": [],
            "needs_background": "light"
          }
        }
      ]
    }
  ]
}