{
  "nbformat": 4,
  "nbformat_minor": 0,
  "metadata": {
    "colab": {
      "name": "mnist_opt_level_04_regularization.ipynb",
      "provenance": [],
      "collapsed_sections": [],
      "authorship_tag": "ABX9TyOhA0BxKlDaWUWB/jxQb8mP",
      "include_colab_link": true
    },
    "kernelspec": {
      "name": "python3",
      "display_name": "Python 3"
    },
    "accelerator": "GPU"
  },
  "cells": [
    {
      "cell_type": "markdown",
      "metadata": {
        "id": "view-in-github",
        "colab_type": "text"
      },
      "source": [
        "<a href=\"https://colab.research.google.com/github/mkbahk/StudyDeepLearningwithKeras/blob/master/mnist_opt_level_04_regularization.ipynb\" target=\"_parent\"><img src=\"https://colab.research.google.com/assets/colab-badge.svg\" alt=\"Open In Colab\"/></a>"
      ]
    },
    {
      "cell_type": "code",
      "metadata": {
        "id": "CLiJzZJNsPOB"
      },
      "source": [
        "import tensorflow as tf\n",
        "import numpy as np\n",
        "from tensorflow import keras\n",
        "from tensorflow.keras import layers\n",
        "from tensorflow.keras import regularizers"
      ],
      "execution_count": 27,
      "outputs": []
    },
    {
      "cell_type": "code",
      "metadata": {
        "id": "ZmA6HYaoseKM"
      },
      "source": [
        "#하이퍼 파라메터 정의(매개변수들)\n",
        "EPOCHS = 200\n",
        "BATCH_SIZE = 128\n",
        "VERBOSE = 1\n",
        "NB_CLASSES = 10 #출력갯수 = 숫자의 갯수\n",
        "N_HIDDEN = 128 \n",
        "VALIDATION_SPLIT = 0.2 #검증을 위해 남겨둘 훈련 데이타\n",
        "DROPOUT = 0.3"
      ],
      "execution_count": 28,
      "outputs": []
    },
    {
      "cell_type": "code",
      "metadata": {
        "colab": {
          "base_uri": "https://localhost:8080/"
        },
        "id": "6a_uWCrqtEIJ",
        "outputId": "7c285893-a562-4602-82bc-640a05d81718"
      },
      "source": [
        "# MNIST 데이타셋 로드(MNIST는 숫자만, eMNIST는 숫자+알파벳, 패션MNIST는 옷그림들이 있다)\n",
        "# X값 훈련용, 테스트 데이터를 각각 60,000개와 10,000개로 나눈다\n",
        "# 레이블(정답, Y값)에 대한 원핫 인코딩을 자동으로 적용한다\n",
        "# 아래 데이타셋을 .png 형태의 이미지를 이미 숫자화한 배열형태로 바꾸어 놓은 것이며, .csv형태가 분석 초기 데이타이다.\n",
        "mnist = keras.datasets.mnist\n",
        "(X_train, Y_train), (X_test, Y_test) = mnist.load_data()\n",
        "\n",
        "# X_train은 60,000개 행으로 28x28 값을 가진다. 이를 60,000 x 784(28x28)의 행렬형태로 변환한다.\n",
        "RESHAPED = 784\n",
        "\n",
        "X_train = X_train.reshape(60000, RESHAPED)\n",
        "X_test = X_test.reshape(10000, RESHAPED)\n",
        "\n",
        "X_train = X_train.astype('float32')\n",
        "X_test = X_test.astype('float32')\n",
        "\n",
        "# 입력을 [0, 1] 사이로 정규화\n",
        "X_train /= 255.0\n",
        "X_test /= 255.0\n",
        "\n",
        "print(X_train.shape[0], 'train samples')\n",
        "print(X_test.shape[0], 'train samples')\n",
        "\n",
        "# 레이블을 원한 엔코딩, 그래야 행렬 연산이 가능함\n",
        "Y_train = tf.keras.utils.to_categorical(Y_train, NB_CLASSES)\n",
        "Y_test = tf.keras.utils.to_categorical(Y_test, NB_CLASSES)"
      ],
      "execution_count": 29,
      "outputs": [
        {
          "output_type": "stream",
          "text": [
            "60000 train samples\n",
            "10000 train samples\n"
          ],
          "name": "stdout"
        }
      ]
    },
    {
      "cell_type": "code",
      "metadata": {
        "id": "yLoTJoMXvC4S"
      },
      "source": [
        "# 모델 구축(정의)\n",
        "model = tf.keras.models.Sequential()\n",
        "model.add(keras.layers.Dense(N_HIDDEN, input_shape=(RESHAPED,), name='input_Dense_layer_1', activation='relu', kernel_regularizer='l1', activity_regularizer='l2'))\n",
        "model.add(keras.layers.Dropout(DROPOUT))\n",
        "model.add(keras.layers.Dense(N_HIDDEN, name='hidden_Dense_layer_2', activation='relu'))\n",
        "model.add(keras.layers.Dropout(DROPOUT))\n",
        "model.add(keras.layers.Dense(NB_CLASSES, name='output_Dense_layer_3', activation='softmax'))"
      ],
      "execution_count": 30,
      "outputs": []
    },
    {
      "cell_type": "code",
      "metadata": {
        "id": "rfRXM9Nhw5Kt"
      },
      "source": [
        "# 모델 컴파일\n",
        "model.compile(optimizer='Adam',\n",
        "             loss='categorical_crossentropy',\n",
        "             metrics=['accuracy'])"
      ],
      "execution_count": 31,
      "outputs": []
    },
    {
      "cell_type": "code",
      "metadata": {
        "colab": {
          "base_uri": "https://localhost:8080/"
        },
        "id": "RsSr7R9RzMFm",
        "outputId": "9f57f452-dc08-4196-a694-20a7c5e2d189"
      },
      "source": [
        "# 모델 형태 보기\n",
        "model.summary()"
      ],
      "execution_count": 32,
      "outputs": [
        {
          "output_type": "stream",
          "text": [
            "Model: \"sequential_13\"\n",
            "_________________________________________________________________\n",
            "Layer (type)                 Output Shape              Param #   \n",
            "=================================================================\n",
            "input_Dense_layer_1 (Dense)  (None, 128)               100480    \n",
            "_________________________________________________________________\n",
            "dropout_4 (Dropout)          (None, 128)               0         \n",
            "_________________________________________________________________\n",
            "hidden_Dense_layer_2 (Dense) (None, 128)               16512     \n",
            "_________________________________________________________________\n",
            "dropout_5 (Dropout)          (None, 128)               0         \n",
            "_________________________________________________________________\n",
            "output_Dense_layer_3 (Dense) (None, 10)                1290      \n",
            "=================================================================\n",
            "Total params: 118,282\n",
            "Trainable params: 118,282\n",
            "Non-trainable params: 0\n",
            "_________________________________________________________________\n"
          ],
          "name": "stdout"
        }
      ]
    },
    {
      "cell_type": "code",
      "metadata": {
        "colab": {
          "base_uri": "https://localhost:8080/"
        },
        "id": "ru4BliBKxrkG",
        "outputId": "6b782ba6-0807-41fc-f2d9-10dbac530af0"
      },
      "source": [
        "# 모델 훈련\n",
        "from keras.callbacks import EarlyStopping\n",
        "\n",
        "early_stopping = EarlyStopping(patience=15, mode='auto', monitor='val_accuracy')\n",
        "\n",
        "hist = model.fit(x = X_train, y = Y_train, \n",
        "          batch_size = BATCH_SIZE, epochs=EPOCHS,\n",
        "          verbose=VERBOSE, validation_split=VALIDATION_SPLIT,\n",
        "          callbacks=[early_stopping])"
      ],
      "execution_count": 33,
      "outputs": [
        {
          "output_type": "stream",
          "text": [
            "Epoch 1/200\n",
            "375/375 [==============================] - 1s 4ms/step - loss: 4.8004 - accuracy: 0.7166 - val_loss: 1.1846 - val_accuracy: 0.8618\n",
            "Epoch 2/200\n",
            "375/375 [==============================] - 1s 3ms/step - loss: 1.2808 - accuracy: 0.8181 - val_loss: 1.0538 - val_accuracy: 0.9006\n",
            "Epoch 3/200\n",
            "375/375 [==============================] - 1s 3ms/step - loss: 1.2161 - accuracy: 0.8386 - val_loss: 1.0142 - val_accuracy: 0.9102\n",
            "Epoch 4/200\n",
            "375/375 [==============================] - 1s 3ms/step - loss: 1.1749 - accuracy: 0.8505 - val_loss: 0.9777 - val_accuracy: 0.9137\n",
            "Epoch 5/200\n",
            "375/375 [==============================] - 1s 3ms/step - loss: 1.1339 - accuracy: 0.8575 - val_loss: 1.0178 - val_accuracy: 0.9108\n",
            "Epoch 6/200\n",
            "375/375 [==============================] - 1s 3ms/step - loss: 1.1179 - accuracy: 0.8609 - val_loss: 0.9401 - val_accuracy: 0.9200\n",
            "Epoch 7/200\n",
            "375/375 [==============================] - 1s 3ms/step - loss: 1.1017 - accuracy: 0.8625 - val_loss: 0.9537 - val_accuracy: 0.9154\n",
            "Epoch 8/200\n",
            "375/375 [==============================] - 1s 3ms/step - loss: 1.0774 - accuracy: 0.8641 - val_loss: 0.9050 - val_accuracy: 0.9218\n",
            "Epoch 9/200\n",
            "375/375 [==============================] - 1s 3ms/step - loss: 1.0585 - accuracy: 0.8678 - val_loss: 0.9019 - val_accuracy: 0.9268\n",
            "Epoch 10/200\n",
            "375/375 [==============================] - 1s 3ms/step - loss: 1.0644 - accuracy: 0.8696 - val_loss: 0.8743 - val_accuracy: 0.9306\n",
            "Epoch 11/200\n",
            "375/375 [==============================] - 1s 3ms/step - loss: 1.0536 - accuracy: 0.8734 - val_loss: 0.8730 - val_accuracy: 0.9310\n",
            "Epoch 12/200\n",
            "375/375 [==============================] - 1s 3ms/step - loss: 1.0366 - accuracy: 0.8746 - val_loss: 0.9429 - val_accuracy: 0.9161\n",
            "Epoch 13/200\n",
            "375/375 [==============================] - 1s 3ms/step - loss: 1.0634 - accuracy: 0.8701 - val_loss: 0.8741 - val_accuracy: 0.9275\n",
            "Epoch 14/200\n",
            "375/375 [==============================] - 1s 3ms/step - loss: 1.0384 - accuracy: 0.8750 - val_loss: 0.8996 - val_accuracy: 0.9188\n",
            "Epoch 15/200\n",
            "375/375 [==============================] - 1s 3ms/step - loss: 1.0430 - accuracy: 0.8739 - val_loss: 0.9468 - val_accuracy: 0.9148\n",
            "Epoch 16/200\n",
            "375/375 [==============================] - 1s 3ms/step - loss: 1.0276 - accuracy: 0.8758 - val_loss: 0.8227 - val_accuracy: 0.9320\n",
            "Epoch 17/200\n",
            "375/375 [==============================] - 1s 3ms/step - loss: 1.0277 - accuracy: 0.8755 - val_loss: 0.8426 - val_accuracy: 0.9293\n",
            "Epoch 18/200\n",
            "375/375 [==============================] - 1s 3ms/step - loss: 1.0267 - accuracy: 0.8773 - val_loss: 0.8719 - val_accuracy: 0.9340\n",
            "Epoch 19/200\n",
            "375/375 [==============================] - 1s 3ms/step - loss: 1.0364 - accuracy: 0.8752 - val_loss: 0.8701 - val_accuracy: 0.9236\n",
            "Epoch 20/200\n",
            "375/375 [==============================] - 1s 3ms/step - loss: 1.0001 - accuracy: 0.8803 - val_loss: 0.8455 - val_accuracy: 0.9232\n",
            "Epoch 21/200\n",
            "375/375 [==============================] - 1s 3ms/step - loss: 1.0177 - accuracy: 0.8769 - val_loss: 0.8371 - val_accuracy: 0.9319\n",
            "Epoch 22/200\n",
            "375/375 [==============================] - 1s 3ms/step - loss: 1.0081 - accuracy: 0.8766 - val_loss: 0.8447 - val_accuracy: 0.9301\n",
            "Epoch 23/200\n",
            "375/375 [==============================] - 1s 3ms/step - loss: 1.0110 - accuracy: 0.8765 - val_loss: 0.8732 - val_accuracy: 0.9190\n",
            "Epoch 24/200\n",
            "375/375 [==============================] - 1s 3ms/step - loss: 1.0163 - accuracy: 0.8772 - val_loss: 0.8256 - val_accuracy: 0.9367\n",
            "Epoch 25/200\n",
            "375/375 [==============================] - 1s 3ms/step - loss: 1.0051 - accuracy: 0.8768 - val_loss: 0.8612 - val_accuracy: 0.9327\n",
            "Epoch 26/200\n",
            "375/375 [==============================] - 1s 3ms/step - loss: 0.9939 - accuracy: 0.8807 - val_loss: 0.8057 - val_accuracy: 0.9348\n",
            "Epoch 27/200\n",
            "375/375 [==============================] - 1s 3ms/step - loss: 1.0056 - accuracy: 0.8764 - val_loss: 0.8445 - val_accuracy: 0.9347\n",
            "Epoch 28/200\n",
            "375/375 [==============================] - 1s 3ms/step - loss: 0.9878 - accuracy: 0.8810 - val_loss: 0.7943 - val_accuracy: 0.9409\n",
            "Epoch 29/200\n",
            "375/375 [==============================] - 1s 3ms/step - loss: 1.0078 - accuracy: 0.8766 - val_loss: 0.8349 - val_accuracy: 0.9324\n",
            "Epoch 30/200\n",
            "375/375 [==============================] - 1s 3ms/step - loss: 0.9903 - accuracy: 0.8785 - val_loss: 0.8314 - val_accuracy: 0.9373\n",
            "Epoch 31/200\n",
            "375/375 [==============================] - 1s 3ms/step - loss: 0.9930 - accuracy: 0.8778 - val_loss: 0.7917 - val_accuracy: 0.9397\n",
            "Epoch 32/200\n",
            "375/375 [==============================] - 1s 3ms/step - loss: 0.9969 - accuracy: 0.8768 - val_loss: 0.8040 - val_accuracy: 0.9376\n",
            "Epoch 33/200\n",
            "375/375 [==============================] - 1s 3ms/step - loss: 0.9894 - accuracy: 0.8767 - val_loss: 0.8443 - val_accuracy: 0.9328\n",
            "Epoch 34/200\n",
            "375/375 [==============================] - 1s 3ms/step - loss: 0.9922 - accuracy: 0.8760 - val_loss: 0.8270 - val_accuracy: 0.9322\n",
            "Epoch 35/200\n",
            "375/375 [==============================] - 1s 3ms/step - loss: 0.9959 - accuracy: 0.8761 - val_loss: 0.8135 - val_accuracy: 0.9348\n",
            "Epoch 36/200\n",
            "375/375 [==============================] - 1s 3ms/step - loss: 0.9800 - accuracy: 0.8794 - val_loss: 0.8455 - val_accuracy: 0.9286\n",
            "Epoch 37/200\n",
            "375/375 [==============================] - 1s 3ms/step - loss: 0.9835 - accuracy: 0.8785 - val_loss: 0.8346 - val_accuracy: 0.9260\n",
            "Epoch 38/200\n",
            "375/375 [==============================] - 1s 3ms/step - loss: 0.9713 - accuracy: 0.8813 - val_loss: 0.7684 - val_accuracy: 0.9448\n",
            "Epoch 39/200\n",
            "375/375 [==============================] - 1s 3ms/step - loss: 0.9831 - accuracy: 0.8809 - val_loss: 0.8099 - val_accuracy: 0.9383\n",
            "Epoch 40/200\n",
            "375/375 [==============================] - 1s 3ms/step - loss: 0.9780 - accuracy: 0.8809 - val_loss: 0.8098 - val_accuracy: 0.9319\n",
            "Epoch 41/200\n",
            "375/375 [==============================] - 1s 3ms/step - loss: 0.9878 - accuracy: 0.8793 - val_loss: 0.8084 - val_accuracy: 0.9335\n",
            "Epoch 42/200\n",
            "375/375 [==============================] - 1s 3ms/step - loss: 0.9781 - accuracy: 0.8789 - val_loss: 0.8722 - val_accuracy: 0.9297\n",
            "Epoch 43/200\n",
            "375/375 [==============================] - 1s 3ms/step - loss: 0.9715 - accuracy: 0.8810 - val_loss: 0.8025 - val_accuracy: 0.9358\n",
            "Epoch 44/200\n",
            "375/375 [==============================] - 1s 3ms/step - loss: 0.9876 - accuracy: 0.8796 - val_loss: 0.7901 - val_accuracy: 0.9433\n",
            "Epoch 45/200\n",
            "375/375 [==============================] - 1s 3ms/step - loss: 0.9716 - accuracy: 0.8816 - val_loss: 0.8343 - val_accuracy: 0.9266\n",
            "Epoch 46/200\n",
            "375/375 [==============================] - 1s 3ms/step - loss: 0.9889 - accuracy: 0.8787 - val_loss: 0.8127 - val_accuracy: 0.9344\n",
            "Epoch 47/200\n",
            "375/375 [==============================] - 1s 3ms/step - loss: 0.9887 - accuracy: 0.8795 - val_loss: 0.8202 - val_accuracy: 0.9362\n",
            "Epoch 48/200\n",
            "375/375 [==============================] - 1s 3ms/step - loss: 0.9932 - accuracy: 0.8775 - val_loss: 0.8154 - val_accuracy: 0.9324\n",
            "Epoch 49/200\n",
            "375/375 [==============================] - 1s 3ms/step - loss: 0.9736 - accuracy: 0.8805 - val_loss: 0.7852 - val_accuracy: 0.9405\n",
            "Epoch 50/200\n",
            "375/375 [==============================] - 1s 3ms/step - loss: 0.9971 - accuracy: 0.8775 - val_loss: 0.8176 - val_accuracy: 0.9406\n",
            "Epoch 51/200\n",
            "375/375 [==============================] - 1s 3ms/step - loss: 0.9686 - accuracy: 0.8834 - val_loss: 0.8041 - val_accuracy: 0.9371\n",
            "Epoch 52/200\n",
            "375/375 [==============================] - 1s 3ms/step - loss: 0.9918 - accuracy: 0.8792 - val_loss: 0.7911 - val_accuracy: 0.9415\n",
            "Epoch 53/200\n",
            "375/375 [==============================] - 1s 3ms/step - loss: 0.9996 - accuracy: 0.8798 - val_loss: 0.8086 - val_accuracy: 0.9346\n"
          ],
          "name": "stdout"
        }
      ]
    },
    {
      "cell_type": "code",
      "metadata": {
        "colab": {
          "base_uri": "https://localhost:8080/"
        },
        "id": "PeYbgpQTyoXo",
        "outputId": "b816df19-f01e-47da-9131-9eab2883466f"
      },
      "source": [
        "# 모델 평가\n",
        "test_loss, test_acc = model.evaluate(X_test, Y_test)\n",
        "print(\"Test loss: \", round(test_loss,4), \"Test accuracy:\", round(test_acc,4))"
      ],
      "execution_count": 34,
      "outputs": [
        {
          "output_type": "stream",
          "text": [
            "313/313 [==============================] - 1s 2ms/step - loss: 0.8061 - accuracy: 0.9369\n",
            "Test loss:  0.8061 Test accuracy: 0.9369\n"
          ],
          "name": "stdout"
        }
      ]
    },
    {
      "cell_type": "code",
      "metadata": {
        "id": "zX9gUPumzVVB"
      },
      "source": [
        "# 모델 저장\n",
        "model.save('mnist_opt_level_04_Adam.h5')"
      ],
      "execution_count": 35,
      "outputs": []
    },
    {
      "cell_type": "code",
      "metadata": {
        "colab": {
          "base_uri": "https://localhost:8080/",
          "height": 265
        },
        "id": "1b4NPyHk5M1P",
        "outputId": "f0a73527-2c4c-45e0-eb4f-b9ed79a98589"
      },
      "source": [
        "import matplotlib\n",
        "import matplotlib.pyplot as plt\n",
        "\n",
        "fig, loss_ax =  plt.subplots()\n",
        "acc_ax = loss_ax.twinx()\n",
        "\n",
        "loss_ax.plot(hist.history['loss'], 'y', label='train loss')\n",
        "#loss_ax.plot(hist.history['val_loss'], 'g', label='validation loss')\n",
        "acc_ax.plot(hist.history['accuracy'], 'b', label='train accuracy')\n",
        "#acc_ax.plot(hist.history['val_accuracy'], 'r', label='validation accuracy')\n",
        "\n",
        "plt.legend(['train loss', 'train accuracy'])\n",
        "plt.show()"
      ],
      "execution_count": 36,
      "outputs": [
        {
          "output_type": "display_data",
          "data": {
            "image/png": "[encoded data removed]",
            "text/plain": [
              "<Figure size 432x288 with 2 Axes>"
            ]
          },
          "metadata": {
            "tags": [],
            "needs_background": "light"
          }
        }
      ]
    }
  ]
}