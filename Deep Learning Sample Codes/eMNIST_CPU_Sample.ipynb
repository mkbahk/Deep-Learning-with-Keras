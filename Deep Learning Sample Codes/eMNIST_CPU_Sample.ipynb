{
  "nbformat": 4,
  "nbformat_minor": 0,
  "metadata": {
    "colab": {
      "name": "eMNIST-CPU-Sample.ipynb",
      "provenance": [],
      "authorship_tag": "ABX9TyNB+IYHSW5h2vG1Crm4ZBvX",
      "include_colab_link": true
    },
    "kernelspec": {
      "name": "python3",
      "display_name": "Python 3"
    }
  },
  "cells": [
    {
      "cell_type": "markdown",
      "metadata": {
        "id": "view-in-github",
        "colab_type": "text"
      },
      "source": [
        "<a href=\"https://colab.research.google.com/github/mkbahk/DeepLearningwithKeras/blob/master/eMNIST_CPU_Sample.ipynb\" target=\"_parent\"><img src=\"https://colab.research.google.com/assets/colab-badge.svg\" alt=\"Open In Colab\"/></a>"
      ]
    },
    {
      "cell_type": "markdown",
      "metadata": {
        "id": "c7GMXBHQvU7l"
      },
      "source": [
        "Module Import"
      ]
    },
    {
      "cell_type": "code",
      "metadata": {
        "id": "57Lmu3UgvJoH"
      },
      "source": [
        "from tensorflow import keras"
      ],
      "execution_count": null,
      "outputs": []
    },
    {
      "cell_type": "markdown",
      "metadata": {
        "id": "f2o6ghk3vgj3"
      },
      "source": [
        "Load MNIST DataSet\n"
      ]
    },
    {
      "cell_type": "code",
      "metadata": {
        "id": "UQ-Zd6MFvnP0",
        "outputId": "24ea0167-5f35-4b36-8655-bd82af7bc2b2",
        "colab": {
          "base_uri": "https://localhost:8080/",
          "height": 53
        }
      },
      "source": [
        "(x_train, y_train), (x_test, y_test) = keras.datasets.mnist.load_data()"
      ],
      "execution_count": null,
      "outputs": [
        {
          "output_type": "stream",
          "text": [
            "Downloading data from https://storage.googleapis.com/tensorflow/tf-keras-datasets/mnist.npz\n",
            "11493376/11490434 [==============================] - 0s 0us/step\n"
          ],
          "name": "stdout"
        }
      ]
    },
    {
      "cell_type": "code",
      "metadata": {
        "id": "rqKlQGm2v3Vx",
        "outputId": "5f740181-66f5-44fa-edc8-d05be6425af1",
        "colab": {
          "base_uri": "https://localhost:8080/",
          "height": 107
        }
      },
      "source": [
        "for i in range(5):\n",
        "  print(y_train[i])"
      ],
      "execution_count": null,
      "outputs": [
        {
          "output_type": "stream",
          "text": [
            "5\n",
            "0\n",
            "4\n",
            "1\n",
            "9\n"
          ],
          "name": "stdout"
        }
      ]
    },
    {
      "cell_type": "markdown",
      "metadata": {
        "id": "vUDbkQ6FwIu9"
      },
      "source": [
        "one-hot enconding 수행\n",
        "5 --> 0 0 0 0 0 1 0 0 0 0\n",
        "1 --> 0 1 0 0 0 0 0 0 0 0\n"
      ]
    },
    {
      "cell_type": "code",
      "metadata": {
        "id": "fEv9hkBBwEJj",
        "outputId": "9e41a364-9aa5-46d6-f8e0-0f42d689698e",
        "colab": {
          "base_uri": "https://localhost:8080/",
          "height": 107
        }
      },
      "source": [
        "y_train = keras.utils.to_categorical(y=y_train, num_classes = 10)\n",
        "y_test = keras.utils.to_categorical(y=y_test, num_classes=10)\n",
        "\n",
        "for i in range(5):\n",
        "  print(y_train[i])"
      ],
      "execution_count": null,
      "outputs": [
        {
          "output_type": "stream",
          "text": [
            "[0. 0. 0. 0. 0. 1. 0. 0. 0. 0.]\n",
            "[1. 0. 0. 0. 0. 0. 0. 0. 0. 0.]\n",
            "[0. 0. 0. 0. 1. 0. 0. 0. 0. 0.]\n",
            "[0. 1. 0. 0. 0. 0. 0. 0. 0. 0.]\n",
            "[0. 0. 0. 0. 0. 0. 0. 0. 0. 1.]\n"
          ],
          "name": "stdout"
        }
      ]
    },
    {
      "cell_type": "markdown",
      "metadata": {
        "id": "PWfwt_clw7Vt"
      },
      "source": [
        "Reshaping DataSet\n"
      ]
    },
    {
      "cell_type": "code",
      "metadata": {
        "id": "ZgegW8bww2bo",
        "outputId": "226e29c9-f619-46eb-f330-365b9a1c599d",
        "colab": {
          "base_uri": "https://localhost:8080/",
          "height": 53
        }
      },
      "source": [
        "x_train = x_train.reshape(60000, 28*28)\n",
        "x_test = x_test.reshape(10000, 28*28)\n",
        "print(y_train.shape, y_test.shape)\n",
        "print(x_train.shape, x_test.shape)"
      ],
      "execution_count": null,
      "outputs": [
        {
          "output_type": "stream",
          "text": [
            "(60000, 10) (10000, 10)\n",
            "(60000, 784) (10000, 784)\n"
          ],
          "name": "stdout"
        }
      ]
    },
    {
      "cell_type": "markdown",
      "metadata": {
        "id": "t3iM_wFCxmfm"
      },
      "source": [
        "모델 생성\n"
      ]
    },
    {
      "cell_type": "code",
      "metadata": {
        "id": "dgYYrPFlxI1i"
      },
      "source": [
        "model = keras.Sequential()\n",
        "model.add(keras.layers.Dense(32, activation=\"sigmoid\", input_shape=(28*28,)))\n",
        "model.add(keras.layers.Dense(32, activation=\"sigmoid\"))\n",
        "model.add(keras.layers.Dense(10, activation=\"sigmoid\"))"
      ],
      "execution_count": null,
      "outputs": []
    },
    {
      "cell_type": "markdown",
      "metadata": {
        "id": "Tmnw3IsqyYfc"
      },
      "source": [
        "모델컴파일"
      ]
    },
    {
      "cell_type": "code",
      "metadata": {
        "id": "6fpe0OuhyXW7",
        "outputId": "9e1ba067-c2a9-43c7-cc60-1d382a354eb2",
        "colab": {
          "base_uri": "https://localhost:8080/",
          "height": 269
        }
      },
      "source": [
        "model.compile(optimizer=keras.optimizers.SGD(learning_rate=0.1), loss=\"categorical_crossentropy\", metrics=['accuracy'])\n",
        "model.summary()"
      ],
      "execution_count": null,
      "outputs": [
        {
          "output_type": "stream",
          "text": [
            "Model: \"sequential\"\n",
            "_________________________________________________________________\n",
            "Layer (type)                 Output Shape              Param #   \n",
            "=================================================================\n",
            "dense (Dense)                (None, 32)                25120     \n",
            "_________________________________________________________________\n",
            "dense_1 (Dense)              (None, 32)                1056      \n",
            "_________________________________________________________________\n",
            "dense_2 (Dense)              (None, 10)                330       \n",
            "=================================================================\n",
            "Total params: 26,506\n",
            "Trainable params: 26,506\n",
            "Non-trainable params: 0\n",
            "_________________________________________________________________\n"
          ],
          "name": "stdout"
        }
      ]
    },
    {
      "cell_type": "markdown",
      "metadata": {
        "id": "O2_lwPmly8bG"
      },
      "source": [
        "모델훈련\n"
      ]
    },
    {
      "cell_type": "code",
      "metadata": {
        "id": "DBBANgGMyy-f",
        "outputId": "b9aa7a59-b877-45ad-dd37-58027a219e3b",
        "colab": {
          "base_uri": "https://localhost:8080/",
          "height": 1000
        }
      },
      "source": [
        "model.fit(x=x_train, y=y_train, batch_size=128, epochs=100, validation_data=(x_test, y_test))"
      ],
      "execution_count": null,
      "outputs": [
        {
          "output_type": "stream",
          "text": [
            "Epoch 1/100\n",
            "469/469 [==============================] - 1s 3ms/step - loss: 1.6855 - accuracy: 0.6381 - val_loss: 1.0478 - val_accuracy: 0.7899\n",
            "Epoch 2/100\n",
            "469/469 [==============================] - 1s 3ms/step - loss: 0.8013 - accuracy: 0.8192 - val_loss: 0.6450 - val_accuracy: 0.8394\n",
            "Epoch 3/100\n",
            "469/469 [==============================] - 1s 3ms/step - loss: 0.6288 - accuracy: 0.8358 - val_loss: 0.5481 - val_accuracy: 0.8611\n",
            "Epoch 4/100\n",
            "469/469 [==============================] - 1s 3ms/step - loss: 0.5744 - accuracy: 0.8395 - val_loss: 0.5500 - val_accuracy: 0.8510\n",
            "Epoch 5/100\n",
            "469/469 [==============================] - 1s 3ms/step - loss: 0.5497 - accuracy: 0.8423 - val_loss: 0.5295 - val_accuracy: 0.8509\n",
            "Epoch 6/100\n",
            "469/469 [==============================] - 1s 3ms/step - loss: 0.5312 - accuracy: 0.8448 - val_loss: 0.5019 - val_accuracy: 0.8423\n",
            "Epoch 7/100\n",
            "469/469 [==============================] - 1s 3ms/step - loss: 0.5011 - accuracy: 0.8503 - val_loss: 0.4847 - val_accuracy: 0.8561\n",
            "Epoch 8/100\n",
            "469/469 [==============================] - 1s 3ms/step - loss: 0.5088 - accuracy: 0.8468 - val_loss: 0.4713 - val_accuracy: 0.8615\n",
            "Epoch 9/100\n",
            "469/469 [==============================] - 1s 3ms/step - loss: 0.4677 - accuracy: 0.8601 - val_loss: 0.4528 - val_accuracy: 0.8611\n",
            "Epoch 10/100\n",
            "469/469 [==============================] - 1s 3ms/step - loss: 0.4809 - accuracy: 0.8515 - val_loss: 0.4465 - val_accuracy: 0.8556\n",
            "Epoch 11/100\n",
            "469/469 [==============================] - 1s 3ms/step - loss: 0.4448 - accuracy: 0.8620 - val_loss: 0.4049 - val_accuracy: 0.8775\n",
            "Epoch 12/100\n",
            "469/469 [==============================] - 1s 3ms/step - loss: 0.4269 - accuracy: 0.8697 - val_loss: 0.4339 - val_accuracy: 0.8706\n",
            "Epoch 13/100\n",
            "469/469 [==============================] - 1s 3ms/step - loss: 0.4202 - accuracy: 0.8728 - val_loss: 0.4148 - val_accuracy: 0.8718\n",
            "Epoch 14/100\n",
            "469/469 [==============================] - 1s 3ms/step - loss: 0.4217 - accuracy: 0.8707 - val_loss: 0.4185 - val_accuracy: 0.8717\n",
            "Epoch 15/100\n",
            "469/469 [==============================] - 1s 3ms/step - loss: 0.4255 - accuracy: 0.8687 - val_loss: 0.4285 - val_accuracy: 0.8642\n",
            "Epoch 16/100\n",
            "469/469 [==============================] - 1s 3ms/step - loss: 0.4197 - accuracy: 0.8713 - val_loss: 0.4051 - val_accuracy: 0.8756\n",
            "Epoch 17/100\n",
            "469/469 [==============================] - 1s 3ms/step - loss: 0.3964 - accuracy: 0.8792 - val_loss: 0.4339 - val_accuracy: 0.8644\n",
            "Epoch 18/100\n",
            "469/469 [==============================] - 1s 2ms/step - loss: 0.4157 - accuracy: 0.8740 - val_loss: 0.4168 - val_accuracy: 0.8725\n",
            "Epoch 19/100\n",
            "469/469 [==============================] - 1s 3ms/step - loss: 0.4087 - accuracy: 0.8745 - val_loss: 0.4126 - val_accuracy: 0.8716\n",
            "Epoch 20/100\n",
            "469/469 [==============================] - 1s 3ms/step - loss: 0.4046 - accuracy: 0.8749 - val_loss: 0.3665 - val_accuracy: 0.8870\n",
            "Epoch 21/100\n",
            "469/469 [==============================] - 1s 2ms/step - loss: 0.3815 - accuracy: 0.8826 - val_loss: 0.3969 - val_accuracy: 0.8768\n",
            "Epoch 22/100\n",
            "469/469 [==============================] - 1s 3ms/step - loss: 0.3947 - accuracy: 0.8779 - val_loss: 0.3821 - val_accuracy: 0.8823\n",
            "Epoch 23/100\n",
            "469/469 [==============================] - 1s 3ms/step - loss: 0.3845 - accuracy: 0.8820 - val_loss: 0.3978 - val_accuracy: 0.8732\n",
            "Epoch 24/100\n",
            "469/469 [==============================] - 1s 3ms/step - loss: 0.3848 - accuracy: 0.8813 - val_loss: 0.3880 - val_accuracy: 0.8773\n",
            "Epoch 25/100\n",
            "469/469 [==============================] - 1s 3ms/step - loss: 0.3860 - accuracy: 0.8801 - val_loss: 0.4024 - val_accuracy: 0.8732\n",
            "Epoch 26/100\n",
            "469/469 [==============================] - 1s 3ms/step - loss: 0.4051 - accuracy: 0.8748 - val_loss: 0.3991 - val_accuracy: 0.8789\n",
            "Epoch 27/100\n",
            "469/469 [==============================] - 1s 3ms/step - loss: 0.3708 - accuracy: 0.8874 - val_loss: 0.3742 - val_accuracy: 0.8872\n",
            "Epoch 28/100\n",
            "469/469 [==============================] - 1s 3ms/step - loss: 0.3629 - accuracy: 0.8900 - val_loss: 0.3433 - val_accuracy: 0.8987\n",
            "Epoch 29/100\n",
            "469/469 [==============================] - 1s 3ms/step - loss: 0.3657 - accuracy: 0.8902 - val_loss: 0.3652 - val_accuracy: 0.8873\n",
            "Epoch 30/100\n",
            "469/469 [==============================] - 1s 3ms/step - loss: 0.3526 - accuracy: 0.8927 - val_loss: 0.3504 - val_accuracy: 0.8928\n",
            "Epoch 31/100\n",
            "469/469 [==============================] - 1s 3ms/step - loss: 0.3557 - accuracy: 0.8927 - val_loss: 0.3702 - val_accuracy: 0.8879\n",
            "Epoch 32/100\n",
            "469/469 [==============================] - 1s 3ms/step - loss: 0.3755 - accuracy: 0.8869 - val_loss: 0.3837 - val_accuracy: 0.8843\n",
            "Epoch 33/100\n",
            "469/469 [==============================] - 1s 3ms/step - loss: 0.3716 - accuracy: 0.8873 - val_loss: 0.3466 - val_accuracy: 0.8927\n",
            "Epoch 34/100\n",
            "469/469 [==============================] - 1s 3ms/step - loss: 0.3528 - accuracy: 0.8914 - val_loss: 0.3754 - val_accuracy: 0.8852\n",
            "Epoch 35/100\n",
            "469/469 [==============================] - 2s 3ms/step - loss: 0.3577 - accuracy: 0.8913 - val_loss: 0.3644 - val_accuracy: 0.8856\n",
            "Epoch 36/100\n",
            "469/469 [==============================] - 1s 3ms/step - loss: 0.3389 - accuracy: 0.8966 - val_loss: 0.3240 - val_accuracy: 0.9028\n",
            "Epoch 37/100\n",
            "469/469 [==============================] - 1s 3ms/step - loss: 0.3344 - accuracy: 0.8991 - val_loss: 0.3426 - val_accuracy: 0.8961\n",
            "Epoch 38/100\n",
            "469/469 [==============================] - 1s 3ms/step - loss: 0.3587 - accuracy: 0.8901 - val_loss: 0.3603 - val_accuracy: 0.8883\n",
            "Epoch 39/100\n",
            "469/469 [==============================] - 1s 3ms/step - loss: 0.3593 - accuracy: 0.8903 - val_loss: 0.3439 - val_accuracy: 0.8917\n",
            "Epoch 40/100\n",
            "469/469 [==============================] - 1s 3ms/step - loss: 0.3393 - accuracy: 0.8955 - val_loss: 0.3488 - val_accuracy: 0.8898\n",
            "Epoch 41/100\n",
            "469/469 [==============================] - 1s 3ms/step - loss: 0.3414 - accuracy: 0.8954 - val_loss: 0.3529 - val_accuracy: 0.8915\n",
            "Epoch 42/100\n",
            "469/469 [==============================] - 1s 3ms/step - loss: 0.3553 - accuracy: 0.8920 - val_loss: 0.3756 - val_accuracy: 0.8892\n",
            "Epoch 43/100\n",
            "469/469 [==============================] - 1s 3ms/step - loss: 0.3730 - accuracy: 0.8846 - val_loss: 0.3630 - val_accuracy: 0.8878\n",
            "Epoch 44/100\n",
            "469/469 [==============================] - 1s 3ms/step - loss: 0.3613 - accuracy: 0.8905 - val_loss: 0.3615 - val_accuracy: 0.8869\n",
            "Epoch 45/100\n",
            "469/469 [==============================] - 1s 3ms/step - loss: 0.3439 - accuracy: 0.8943 - val_loss: 0.3319 - val_accuracy: 0.9004\n",
            "Epoch 46/100\n",
            "469/469 [==============================] - 1s 3ms/step - loss: 0.3176 - accuracy: 0.9046 - val_loss: 0.3271 - val_accuracy: 0.9012\n",
            "Epoch 47/100\n",
            "469/469 [==============================] - 1s 3ms/step - loss: 0.3463 - accuracy: 0.8954 - val_loss: 0.3524 - val_accuracy: 0.8937\n",
            "Epoch 48/100\n",
            "469/469 [==============================] - 1s 3ms/step - loss: 0.3647 - accuracy: 0.8887 - val_loss: 0.3674 - val_accuracy: 0.8877\n",
            "Epoch 49/100\n",
            "469/469 [==============================] - 1s 3ms/step - loss: 0.3412 - accuracy: 0.8944 - val_loss: 0.3344 - val_accuracy: 0.8954\n",
            "Epoch 50/100\n",
            "469/469 [==============================] - 1s 3ms/step - loss: 0.3300 - accuracy: 0.8989 - val_loss: 0.3189 - val_accuracy: 0.9054\n",
            "Epoch 51/100\n",
            "469/469 [==============================] - 1s 3ms/step - loss: 0.3128 - accuracy: 0.9054 - val_loss: 0.3221 - val_accuracy: 0.9004\n",
            "Epoch 52/100\n",
            "469/469 [==============================] - 1s 3ms/step - loss: 0.3191 - accuracy: 0.9016 - val_loss: 0.3101 - val_accuracy: 0.9061\n",
            "Epoch 53/100\n",
            "469/469 [==============================] - 1s 3ms/step - loss: 0.3131 - accuracy: 0.9047 - val_loss: 0.3237 - val_accuracy: 0.9030\n",
            "Epoch 54/100\n",
            "469/469 [==============================] - 1s 3ms/step - loss: 0.3255 - accuracy: 0.8993 - val_loss: 0.3213 - val_accuracy: 0.9020\n",
            "Epoch 55/100\n",
            "469/469 [==============================] - 1s 3ms/step - loss: 0.3187 - accuracy: 0.9033 - val_loss: 0.3449 - val_accuracy: 0.8909\n",
            "Epoch 56/100\n",
            "469/469 [==============================] - 1s 3ms/step - loss: 0.3091 - accuracy: 0.9040 - val_loss: 0.3063 - val_accuracy: 0.9061\n",
            "Epoch 57/100\n",
            "469/469 [==============================] - 1s 3ms/step - loss: 0.2958 - accuracy: 0.9103 - val_loss: 0.3099 - val_accuracy: 0.9073\n",
            "Epoch 58/100\n",
            "469/469 [==============================] - 1s 3ms/step - loss: 0.2883 - accuracy: 0.9121 - val_loss: 0.2989 - val_accuracy: 0.9095\n",
            "Epoch 59/100\n",
            "469/469 [==============================] - 1s 3ms/step - loss: 0.2949 - accuracy: 0.9105 - val_loss: 0.2950 - val_accuracy: 0.9088\n",
            "Epoch 60/100\n",
            "469/469 [==============================] - 1s 3ms/step - loss: 0.2893 - accuracy: 0.9116 - val_loss: 0.2832 - val_accuracy: 0.9118\n",
            "Epoch 61/100\n",
            "469/469 [==============================] - 1s 3ms/step - loss: 0.2921 - accuracy: 0.9106 - val_loss: 0.2969 - val_accuracy: 0.9077\n",
            "Epoch 62/100\n",
            "469/469 [==============================] - 1s 3ms/step - loss: 0.2927 - accuracy: 0.9110 - val_loss: 0.3034 - val_accuracy: 0.9070\n",
            "Epoch 63/100\n",
            "469/469 [==============================] - 1s 3ms/step - loss: 0.2956 - accuracy: 0.9089 - val_loss: 0.3011 - val_accuracy: 0.9062\n",
            "Epoch 64/100\n",
            "469/469 [==============================] - 1s 2ms/step - loss: 0.3023 - accuracy: 0.9068 - val_loss: 0.3109 - val_accuracy: 0.9042\n",
            "Epoch 65/100\n",
            "469/469 [==============================] - 1s 3ms/step - loss: 0.2921 - accuracy: 0.9106 - val_loss: 0.3044 - val_accuracy: 0.9085\n",
            "Epoch 66/100\n",
            "469/469 [==============================] - 1s 3ms/step - loss: 0.2922 - accuracy: 0.9115 - val_loss: 0.3116 - val_accuracy: 0.9040\n",
            "Epoch 67/100\n",
            "469/469 [==============================] - 1s 2ms/step - loss: 0.3073 - accuracy: 0.9061 - val_loss: 0.3089 - val_accuracy: 0.9046\n",
            "Epoch 68/100\n",
            "469/469 [==============================] - 1s 3ms/step - loss: 0.2932 - accuracy: 0.9090 - val_loss: 0.2915 - val_accuracy: 0.9092\n",
            "Epoch 69/100\n",
            "469/469 [==============================] - 1s 3ms/step - loss: 0.2895 - accuracy: 0.9120 - val_loss: 0.2770 - val_accuracy: 0.9132\n",
            "Epoch 70/100\n",
            "469/469 [==============================] - 1s 2ms/step - loss: 0.2752 - accuracy: 0.9169 - val_loss: 0.2817 - val_accuracy: 0.9102\n",
            "Epoch 71/100\n",
            "469/469 [==============================] - 1s 3ms/step - loss: 0.2663 - accuracy: 0.9188 - val_loss: 0.2643 - val_accuracy: 0.9207\n",
            "Epoch 72/100\n",
            "469/469 [==============================] - 1s 3ms/step - loss: 0.2724 - accuracy: 0.9161 - val_loss: 0.2766 - val_accuracy: 0.9177\n",
            "Epoch 73/100\n",
            "469/469 [==============================] - 1s 2ms/step - loss: 0.2770 - accuracy: 0.9147 - val_loss: 0.2779 - val_accuracy: 0.9128\n",
            "Epoch 74/100\n",
            "469/469 [==============================] - 1s 3ms/step - loss: 0.2632 - accuracy: 0.9212 - val_loss: 0.2610 - val_accuracy: 0.9190\n",
            "Epoch 75/100\n",
            "469/469 [==============================] - 1s 3ms/step - loss: 0.2672 - accuracy: 0.9189 - val_loss: 0.2952 - val_accuracy: 0.9066\n",
            "Epoch 76/100\n",
            "469/469 [==============================] - 1s 3ms/step - loss: 0.2884 - accuracy: 0.9121 - val_loss: 0.2979 - val_accuracy: 0.9099\n",
            "Epoch 77/100\n",
            "469/469 [==============================] - 1s 3ms/step - loss: 0.2854 - accuracy: 0.9117 - val_loss: 0.2880 - val_accuracy: 0.9124\n",
            "Epoch 78/100\n",
            "469/469 [==============================] - 1s 3ms/step - loss: 0.2754 - accuracy: 0.9156 - val_loss: 0.2746 - val_accuracy: 0.9159\n",
            "Epoch 79/100\n",
            "469/469 [==============================] - 1s 3ms/step - loss: 0.2685 - accuracy: 0.9181 - val_loss: 0.2697 - val_accuracy: 0.9202\n",
            "Epoch 80/100\n",
            "469/469 [==============================] - 1s 3ms/step - loss: 0.2755 - accuracy: 0.9142 - val_loss: 0.2750 - val_accuracy: 0.9160\n",
            "Epoch 81/100\n",
            "469/469 [==============================] - 2s 3ms/step - loss: 0.2704 - accuracy: 0.9160 - val_loss: 0.2672 - val_accuracy: 0.9171\n",
            "Epoch 82/100\n",
            "469/469 [==============================] - 2s 3ms/step - loss: 0.2679 - accuracy: 0.9184 - val_loss: 0.2934 - val_accuracy: 0.9084\n",
            "Epoch 83/100\n",
            "469/469 [==============================] - 1s 3ms/step - loss: 0.2769 - accuracy: 0.9143 - val_loss: 0.2739 - val_accuracy: 0.9150\n",
            "Epoch 84/100\n",
            "469/469 [==============================] - 1s 3ms/step - loss: 0.2767 - accuracy: 0.9141 - val_loss: 0.2699 - val_accuracy: 0.9157\n",
            "Epoch 85/100\n",
            "469/469 [==============================] - 1s 2ms/step - loss: 0.2812 - accuracy: 0.9126 - val_loss: 0.2834 - val_accuracy: 0.9144\n",
            "Epoch 86/100\n",
            "469/469 [==============================] - 1s 3ms/step - loss: 0.2696 - accuracy: 0.9175 - val_loss: 0.2735 - val_accuracy: 0.9180\n",
            "Epoch 87/100\n",
            "469/469 [==============================] - 1s 2ms/step - loss: 0.2804 - accuracy: 0.9139 - val_loss: 0.2940 - val_accuracy: 0.9108\n",
            "Epoch 88/100\n",
            "469/469 [==============================] - 1s 3ms/step - loss: 0.2822 - accuracy: 0.9133 - val_loss: 0.2687 - val_accuracy: 0.9174\n",
            "Epoch 89/100\n",
            "469/469 [==============================] - 1s 3ms/step - loss: 0.2632 - accuracy: 0.9187 - val_loss: 0.2708 - val_accuracy: 0.9166\n",
            "Epoch 90/100\n",
            "469/469 [==============================] - 1s 3ms/step - loss: 0.2586 - accuracy: 0.9203 - val_loss: 0.2647 - val_accuracy: 0.9191\n",
            "Epoch 91/100\n",
            "469/469 [==============================] - 1s 2ms/step - loss: 0.2581 - accuracy: 0.9206 - val_loss: 0.2682 - val_accuracy: 0.9184\n",
            "Epoch 92/100\n",
            "469/469 [==============================] - 1s 3ms/step - loss: 0.2675 - accuracy: 0.9173 - val_loss: 0.2729 - val_accuracy: 0.9211\n",
            "Epoch 93/100\n",
            "469/469 [==============================] - 1s 3ms/step - loss: 0.2746 - accuracy: 0.9157 - val_loss: 0.2751 - val_accuracy: 0.9163\n",
            "Epoch 94/100\n",
            "469/469 [==============================] - 1s 2ms/step - loss: 0.2770 - accuracy: 0.9144 - val_loss: 0.2651 - val_accuracy: 0.9179\n",
            "Epoch 95/100\n",
            "469/469 [==============================] - 1s 3ms/step - loss: 0.2634 - accuracy: 0.9173 - val_loss: 0.2549 - val_accuracy: 0.9212\n",
            "Epoch 96/100\n",
            "469/469 [==============================] - 1s 3ms/step - loss: 0.2539 - accuracy: 0.9216 - val_loss: 0.2504 - val_accuracy: 0.9212\n",
            "Epoch 97/100\n",
            "469/469 [==============================] - 1s 2ms/step - loss: 0.2557 - accuracy: 0.9223 - val_loss: 0.2627 - val_accuracy: 0.9203\n",
            "Epoch 98/100\n",
            "469/469 [==============================] - 1s 3ms/step - loss: 0.2382 - accuracy: 0.9263 - val_loss: 0.2417 - val_accuracy: 0.9276\n",
            "Epoch 99/100\n",
            "469/469 [==============================] - 1s 3ms/step - loss: 0.2360 - accuracy: 0.9280 - val_loss: 0.2489 - val_accuracy: 0.9240\n",
            "Epoch 100/100\n",
            "469/469 [==============================] - 1s 3ms/step - loss: 0.2357 - accuracy: 0.9283 - val_loss: 0.2494 - val_accuracy: 0.9225\n"
          ],
          "name": "stdout"
        },
        {
          "output_type": "execute_result",
          "data": {
            "text/plain": [
              "<tensorflow.python.keras.callbacks.History at 0x7feb6c3fdf60>"
            ]
          },
          "metadata": {
            "tags": []
          },
          "execution_count": 10
        }
      ]
    },
    {
      "cell_type": "markdown",
      "metadata": {
        "id": "oWCAm0xgzmkE"
      },
      "source": [
        "모델 평가\n"
      ]
    },
    {
      "cell_type": "code",
      "metadata": {
        "id": "GnxTP2eMzRxb",
        "outputId": "dc47be38-f959-4852-d573-2af5ed021b88",
        "colab": {
          "base_uri": "https://localhost:8080/",
          "height": 53
        }
      },
      "source": [
        "model.evaluate(x_test, y_test )"
      ],
      "execution_count": null,
      "outputs": [
        {
          "output_type": "stream",
          "text": [
            "313/313 [==============================] - 0s 979us/step - loss: 0.2494 - accuracy: 0.9225\n"
          ],
          "name": "stdout"
        },
        {
          "output_type": "execute_result",
          "data": {
            "text/plain": [
              "[0.24936574697494507, 0.9225000143051147]"
            ]
          },
          "metadata": {
            "tags": []
          },
          "execution_count": 11
        }
      ]
    }
  ]
}