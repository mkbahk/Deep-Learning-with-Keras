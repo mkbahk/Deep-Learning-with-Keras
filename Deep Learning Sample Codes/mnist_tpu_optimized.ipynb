{
  "nbformat": 4,
  "nbformat_minor": 0,
  "metadata": {
    "colab": {
      "name": "mnist-tpu-optimized.ipynb",
      "provenance": [],
      "include_colab_link": true
    },
    "kernelspec": {
      "name": "python3",
      "display_name": "Python 3"
    },
    "accelerator": "TPU"
  },
  "cells": [
    {
      "cell_type": "markdown",
      "metadata": {
        "id": "view-in-github",
        "colab_type": "text"
      },
      "source": [
        "<a href=\"https://colab.research.google.com/github/mkbahk/DeepLearningwithKeras/blob/master/mnist_tpu_optimized.ipynb\" target=\"_parent\"><img src=\"https://colab.research.google.com/assets/colab-badge.svg\" alt=\"Open In Colab\"/></a>"
      ]
    },
    {
      "cell_type": "code",
      "metadata": {
        "id": "FpvUOuC3j27n",
        "outputId": "74ba5cde-43df-4c34-adba-5f7e39b8fffd",
        "colab": {
          "base_uri": "https://localhost:8080/",
          "height": 748
        }
      },
      "source": [
        "%tensorflow_version 2.x\n",
        "import tensorflow as tf\n",
        "\n",
        "from tensorflow import keras\n",
        "import time\n",
        "import os\n",
        "\n",
        "print(\"Tensorflow version \" + tf.__version__)\n",
        "print(tf.config.list_physical_devices(\"CPU\"))\n",
        "print(tf.config.list_physical_devices(\"GPU\"))\n",
        "\n",
        "\n",
        "resolver = tf.distribute.cluster_resolver.TPUClusterResolver(tpu='grpc://'+os.environ['COLAB_TPU_ADDR'])\n",
        "#Connect to the TPU handle and initialise it\n",
        "tf.config.experimental_connect_to_cluster(resolver)\n",
        "tf.tpu.experimental.initialize_tpu_system(resolver)\n",
        "strategy = tf.distribute.TPUStrategy(resolver)"
      ],
      "execution_count": 1,
      "outputs": [
        {
          "output_type": "stream",
          "text": [
            "Tensorflow version 2.3.0\n",
            "[PhysicalDevice(name='/physical_device:CPU:0', device_type='CPU')]\n",
            "[]\n",
            "INFO:tensorflow:Initializing the TPU system: grpc://10.69.106.194:8470\n"
          ],
          "name": "stdout"
        },
        {
          "output_type": "stream",
          "text": [
            "INFO:tensorflow:Initializing the TPU system: grpc://10.69.106.194:8470\n"
          ],
          "name": "stderr"
        },
        {
          "output_type": "stream",
          "text": [
            "INFO:tensorflow:Clearing out eager caches\n"
          ],
          "name": "stdout"
        },
        {
          "output_type": "stream",
          "text": [
            "INFO:tensorflow:Clearing out eager caches\n"
          ],
          "name": "stderr"
        },
        {
          "output_type": "stream",
          "text": [
            "INFO:tensorflow:Finished initializing TPU system.\n"
          ],
          "name": "stdout"
        },
        {
          "output_type": "stream",
          "text": [
            "INFO:tensorflow:Finished initializing TPU system.\n"
          ],
          "name": "stderr"
        },
        {
          "output_type": "stream",
          "text": [
            "INFO:tensorflow:Found TPU system:\n"
          ],
          "name": "stdout"
        },
        {
          "output_type": "stream",
          "text": [
            "INFO:tensorflow:Found TPU system:\n"
          ],
          "name": "stderr"
        },
        {
          "output_type": "stream",
          "text": [
            "INFO:tensorflow:*** Num TPU Cores: 8\n"
          ],
          "name": "stdout"
        },
        {
          "output_type": "stream",
          "text": [
            "INFO:tensorflow:*** Num TPU Cores: 8\n"
          ],
          "name": "stderr"
        },
        {
          "output_type": "stream",
          "text": [
            "INFO:tensorflow:*** Num TPU Workers: 1\n"
          ],
          "name": "stdout"
        },
        {
          "output_type": "stream",
          "text": [
            "INFO:tensorflow:*** Num TPU Workers: 1\n"
          ],
          "name": "stderr"
        },
        {
          "output_type": "stream",
          "text": [
            "INFO:tensorflow:*** Num TPU Cores Per Worker: 8\n"
          ],
          "name": "stdout"
        },
        {
          "output_type": "stream",
          "text": [
            "INFO:tensorflow:*** Num TPU Cores Per Worker: 8\n"
          ],
          "name": "stderr"
        },
        {
          "output_type": "stream",
          "text": [
            "INFO:tensorflow:*** Available Device: _DeviceAttributes(/job:localhost/replica:0/task:0/device:CPU:0, CPU, 0, 0)\n"
          ],
          "name": "stdout"
        },
        {
          "output_type": "stream",
          "text": [
            "INFO:tensorflow:*** Available Device: _DeviceAttributes(/job:localhost/replica:0/task:0/device:CPU:0, CPU, 0, 0)\n"
          ],
          "name": "stderr"
        },
        {
          "output_type": "stream",
          "text": [
            "INFO:tensorflow:*** Available Device: _DeviceAttributes(/job:localhost/replica:0/task:0/device:XLA_CPU:0, XLA_CPU, 0, 0)\n"
          ],
          "name": "stdout"
        },
        {
          "output_type": "stream",
          "text": [
            "INFO:tensorflow:*** Available Device: _DeviceAttributes(/job:localhost/replica:0/task:0/device:XLA_CPU:0, XLA_CPU, 0, 0)\n"
          ],
          "name": "stderr"
        },
        {
          "output_type": "stream",
          "text": [
            "INFO:tensorflow:*** Available Device: _DeviceAttributes(/job:worker/replica:0/task:0/device:CPU:0, CPU, 0, 0)\n"
          ],
          "name": "stdout"
        },
        {
          "output_type": "stream",
          "text": [
            "INFO:tensorflow:*** Available Device: _DeviceAttributes(/job:worker/replica:0/task:0/device:CPU:0, CPU, 0, 0)\n"
          ],
          "name": "stderr"
        },
        {
          "output_type": "stream",
          "text": [
            "INFO:tensorflow:*** Available Device: _DeviceAttributes(/job:worker/replica:0/task:0/device:TPU:0, TPU, 0, 0)\n"
          ],
          "name": "stdout"
        },
        {
          "output_type": "stream",
          "text": [
            "INFO:tensorflow:*** Available Device: _DeviceAttributes(/job:worker/replica:0/task:0/device:TPU:0, TPU, 0, 0)\n"
          ],
          "name": "stderr"
        },
        {
          "output_type": "stream",
          "text": [
            "INFO:tensorflow:*** Available Device: _DeviceAttributes(/job:worker/replica:0/task:0/device:TPU:1, TPU, 0, 0)\n"
          ],
          "name": "stdout"
        },
        {
          "output_type": "stream",
          "text": [
            "INFO:tensorflow:*** Available Device: _DeviceAttributes(/job:worker/replica:0/task:0/device:TPU:1, TPU, 0, 0)\n"
          ],
          "name": "stderr"
        },
        {
          "output_type": "stream",
          "text": [
            "INFO:tensorflow:*** Available Device: _DeviceAttributes(/job:worker/replica:0/task:0/device:TPU:2, TPU, 0, 0)\n"
          ],
          "name": "stdout"
        },
        {
          "output_type": "stream",
          "text": [
            "INFO:tensorflow:*** Available Device: _DeviceAttributes(/job:worker/replica:0/task:0/device:TPU:2, TPU, 0, 0)\n"
          ],
          "name": "stderr"
        },
        {
          "output_type": "stream",
          "text": [
            "INFO:tensorflow:*** Available Device: _DeviceAttributes(/job:worker/replica:0/task:0/device:TPU:3, TPU, 0, 0)\n"
          ],
          "name": "stdout"
        },
        {
          "output_type": "stream",
          "text": [
            "INFO:tensorflow:*** Available Device: _DeviceAttributes(/job:worker/replica:0/task:0/device:TPU:3, TPU, 0, 0)\n"
          ],
          "name": "stderr"
        },
        {
          "output_type": "stream",
          "text": [
            "INFO:tensorflow:*** Available Device: _DeviceAttributes(/job:worker/replica:0/task:0/device:TPU:4, TPU, 0, 0)\n"
          ],
          "name": "stdout"
        },
        {
          "output_type": "stream",
          "text": [
            "INFO:tensorflow:*** Available Device: _DeviceAttributes(/job:worker/replica:0/task:0/device:TPU:4, TPU, 0, 0)\n"
          ],
          "name": "stderr"
        },
        {
          "output_type": "stream",
          "text": [
            "INFO:tensorflow:*** Available Device: _DeviceAttributes(/job:worker/replica:0/task:0/device:TPU:5, TPU, 0, 0)\n"
          ],
          "name": "stdout"
        },
        {
          "output_type": "stream",
          "text": [
            "INFO:tensorflow:*** Available Device: _DeviceAttributes(/job:worker/replica:0/task:0/device:TPU:5, TPU, 0, 0)\n"
          ],
          "name": "stderr"
        },
        {
          "output_type": "stream",
          "text": [
            "INFO:tensorflow:*** Available Device: _DeviceAttributes(/job:worker/replica:0/task:0/device:TPU:6, TPU, 0, 0)\n"
          ],
          "name": "stdout"
        },
        {
          "output_type": "stream",
          "text": [
            "INFO:tensorflow:*** Available Device: _DeviceAttributes(/job:worker/replica:0/task:0/device:TPU:6, TPU, 0, 0)\n"
          ],
          "name": "stderr"
        },
        {
          "output_type": "stream",
          "text": [
            "INFO:tensorflow:*** Available Device: _DeviceAttributes(/job:worker/replica:0/task:0/device:TPU:7, TPU, 0, 0)\n"
          ],
          "name": "stdout"
        },
        {
          "output_type": "stream",
          "text": [
            "INFO:tensorflow:*** Available Device: _DeviceAttributes(/job:worker/replica:0/task:0/device:TPU:7, TPU, 0, 0)\n"
          ],
          "name": "stderr"
        },
        {
          "output_type": "stream",
          "text": [
            "INFO:tensorflow:*** Available Device: _DeviceAttributes(/job:worker/replica:0/task:0/device:TPU_SYSTEM:0, TPU_SYSTEM, 0, 0)\n"
          ],
          "name": "stdout"
        },
        {
          "output_type": "stream",
          "text": [
            "INFO:tensorflow:*** Available Device: _DeviceAttributes(/job:worker/replica:0/task:0/device:TPU_SYSTEM:0, TPU_SYSTEM, 0, 0)\n"
          ],
          "name": "stderr"
        },
        {
          "output_type": "stream",
          "text": [
            "INFO:tensorflow:*** Available Device: _DeviceAttributes(/job:worker/replica:0/task:0/device:XLA_CPU:0, XLA_CPU, 0, 0)\n"
          ],
          "name": "stdout"
        },
        {
          "output_type": "stream",
          "text": [
            "INFO:tensorflow:*** Available Device: _DeviceAttributes(/job:worker/replica:0/task:0/device:XLA_CPU:0, XLA_CPU, 0, 0)\n"
          ],
          "name": "stderr"
        }
      ]
    },
    {
      "cell_type": "code",
      "metadata": {
        "id": "HCGy1S8_mPnV"
      },
      "source": [
        "start = time.time() # 시작 시간 저장"
      ],
      "execution_count": 2,
      "outputs": []
    },
    {
      "cell_type": "code",
      "metadata": {
        "id": "bVgp531qczsO"
      },
      "source": [
        "if tf.__version__[0] != '2':\n",
        "    raise ImportError(\"TensorFlow 2 is required for this example\")"
      ],
      "execution_count": 3,
      "outputs": []
    },
    {
      "cell_type": "code",
      "metadata": {
        "id": "nHDDw4H8c2qJ",
        "outputId": "feb7c45f-f870-4c04-d5cf-06cdaf56467b",
        "colab": {
          "base_uri": "https://localhost:8080/",
          "height": 51
        }
      },
      "source": [
        "# The input data and labels.\n",
        "mnist = tf.keras.datasets.mnist\n",
        "\n",
        "(x_train, y_train), (x_test, y_test) = mnist.load_data()\n",
        "(x_train, x_test) = (x_train / 255.0, x_test / 255.0)\n",
        "\n",
        "# Add a channels dimension.\n",
        "x_train = x_train[..., tf.newaxis]\n",
        "x_test = x_test[..., tf.newaxis]"
      ],
      "execution_count": 4,
      "outputs": [
        {
          "output_type": "stream",
          "text": [
            "Downloading data from https://storage.googleapis.com/tensorflow/tf-keras-datasets/mnist.npz\n",
            "11493376/11490434 [==============================] - 0s 0us/step\n"
          ],
          "name": "stdout"
        }
      ]
    },
    {
      "cell_type": "code",
      "metadata": {
        "id": "eKKTURm8c5jP"
      },
      "source": [
        "def create_train_dataset():\n",
        "    print(\"==============================Processing Training DataSet==============================\\n\\n\")\n",
        "    train_ds = tf.data.Dataset.from_tensor_slices((x_train, y_train)).shuffle(60000).batch(32, drop_remainder=True)\n",
        "    train_ds = train_ds.map(lambda d, l: (tf.cast(d, tf.float32), tf.cast(l, tf.float32)))\n",
        "    return train_ds.repeat()\n",
        "\n",
        "def create_test_dataset():\n",
        "    print(\"==============================Processing Test  DataSet==============================\\n\\n\")\n",
        "    test_ds = tf.data.Dataset.from_tensor_slices((x_test, y_test)).shuffle(10000).batch(32, drop_remainder=True)\n",
        "    test_ds = test_ds.map(lambda d, l: (tf.cast(d, tf.float32), tf.cast(l, tf.float32)))\n",
        "    return test_ds.repeat()"
      ],
      "execution_count": 5,
      "outputs": []
    },
    {
      "cell_type": "code",
      "metadata": {
        "id": "fuP7KABnc8rV"
      },
      "source": [
        "# Create the model using the IPU-specific Sequential class instead of the\n",
        "# standard tf.keras.Sequential class\n",
        "def create_model():\n",
        "    model = tf.keras.Sequential([\n",
        "        keras.layers.Flatten(),\n",
        "        keras.layers.Dense(128, activation='relu'),\n",
        "        keras.layers.Dense(256, activation='relu'),\n",
        "        keras.layers.Dense(128, activation='relu'),\n",
        "        keras.layers.Dense(10, activation='softmax')])\n",
        "    \n",
        "    model.compile(loss = tf.keras.losses.SparseCategoricalCrossentropy(), \n",
        "                  optimizer = tf.keras.optimizers.Adam(), \n",
        "                  experimental_steps_per_execution = 50, \n",
        "                  metrics=['sparse_categorical_accuracy'])\n",
        "    return model"
      ],
      "execution_count": 6,
      "outputs": []
    },
    {
      "cell_type": "code",
      "metadata": {
        "id": "Jw6kNn_kc_IK"
      },
      "source": [
        "def main():\n",
        "      # Get the training dataset.\n",
        "      print(\"==============================Getting Training DataSet==============================\\n\\n\")\n",
        "      ds1 = create_train_dataset()\n",
        "      print(\"==============================Getting Test DataSet==============================\\n\\n\")\n",
        "      ds2 = create_test_dataset()\n",
        "\n",
        "      with strategy.scope():   \n",
        "        # Create an instance of the model.\n",
        "        print(\"==============================Building Model & Compile ==============================\\n\\n\")\n",
        "        model = create_model()\n",
        "      #end of with\n",
        "      \n",
        "      print(\"==============================Model Training ==============================\\n\\n\")\n",
        "      model.fit(ds1, steps_per_epoch=2000, epochs=50)\n",
        "\n",
        "      print(\"\\n\\n==============================Checking the result==============================\\n\\n\")\n",
        "      loss, accuracy = model.evaluate(ds2, steps=1000)\n",
        "      print(\"Validation loss: {}\".format(loss))\n",
        "      print(\"Validation accuracy: {}%\".format(100.0 * accuracy))\n",
        "      print(\"\\n\\n==============================Job Done by TPU !!!==============================\")"
      ],
      "execution_count": 7,
      "outputs": []
    },
    {
      "cell_type": "code",
      "metadata": {
        "id": "08N38eYodElH",
        "outputId": "c327e3cf-9f63-4738-9b5a-ea7c9999cc5f",
        "colab": {
          "base_uri": "https://localhost:8080/",
          "height": 1000
        }
      },
      "source": [
        "if __name__ == '__main__':\n",
        "    main()"
      ],
      "execution_count": null,
      "outputs": [
        {
          "output_type": "stream",
          "text": [
            "==============================Getting Training DataSet==============================\n",
            "\n",
            "\n",
            "==============================Processing Training DataSet==============================\n",
            "\n",
            "\n",
            "==============================Getting Test DataSet==============================\n",
            "\n",
            "\n",
            "==============================Processing Test  DataSet==============================\n",
            "\n",
            "\n",
            "==============================Building Model & Compile ==============================\n",
            "\n",
            "\n",
            "==============================Model Training ==============================\n",
            "\n",
            "\n",
            "Epoch 1/50\n",
            "2000/2000 [==============================] - 5s 3ms/step - loss: 0.2099 - sparse_categorical_accuracy: 0.9369\n",
            "Epoch 2/50\n",
            "2000/2000 [==============================] - 4s 2ms/step - loss: 0.0936 - sparse_categorical_accuracy: 0.9707\n",
            "Epoch 3/50\n",
            "2000/2000 [==============================] - 4s 2ms/step - loss: 0.0657 - sparse_categorical_accuracy: 0.9791\n",
            "Epoch 4/50\n",
            "2000/2000 [==============================] - 4s 2ms/step - loss: 0.0518 - sparse_categorical_accuracy: 0.9831\n",
            "Epoch 5/50\n",
            "2000/2000 [==============================] - 4s 2ms/step - loss: 0.0423 - sparse_categorical_accuracy: 0.9868\n",
            "Epoch 6/50\n",
            "2000/2000 [==============================] - 4s 2ms/step - loss: 0.0343 - sparse_categorical_accuracy: 0.9888\n",
            "Epoch 7/50\n",
            "2000/2000 [==============================] - 4s 2ms/step - loss: 0.0300 - sparse_categorical_accuracy: 0.9902\n",
            "Epoch 8/50\n",
            "2000/2000 [==============================] - 4s 2ms/step - loss: 0.0288 - sparse_categorical_accuracy: 0.9910\n",
            "Epoch 9/50\n",
            "2000/2000 [==============================] - 4s 2ms/step - loss: 0.0229 - sparse_categorical_accuracy: 0.9925\n",
            "Epoch 10/50\n",
            "2000/2000 [==============================] - 4s 2ms/step - loss: 0.0226 - sparse_categorical_accuracy: 0.9925\n",
            "Epoch 11/50\n",
            "2000/2000 [==============================] - 4s 2ms/step - loss: 0.0197 - sparse_categorical_accuracy: 0.9935\n",
            "Epoch 12/50\n",
            "2000/2000 [==============================] - 4s 2ms/step - loss: 0.0185 - sparse_categorical_accuracy: 0.9942\n",
            "Epoch 13/50\n",
            "2000/2000 [==============================] - 4s 2ms/step - loss: 0.0181 - sparse_categorical_accuracy: 0.9944\n",
            "Epoch 14/50\n",
            "2000/2000 [==============================] - 4s 2ms/step - loss: 0.0173 - sparse_categorical_accuracy: 0.9949\n",
            "Epoch 15/50\n",
            "2000/2000 [==============================] - 4s 2ms/step - loss: 0.0138 - sparse_categorical_accuracy: 0.9958\n",
            "Epoch 16/50\n",
            "2000/2000 [==============================] - 5s 2ms/step - loss: 0.0147 - sparse_categorical_accuracy: 0.9957\n",
            "Epoch 17/50\n",
            "2000/2000 [==============================] - 4s 2ms/step - loss: 0.0121 - sparse_categorical_accuracy: 0.9964\n",
            "Epoch 18/50\n",
            "2000/2000 [==============================] - 4s 2ms/step - loss: 0.0158 - sparse_categorical_accuracy: 0.9954\n",
            "Epoch 19/50\n",
            "2000/2000 [==============================] - 4s 2ms/step - loss: 0.0099 - sparse_categorical_accuracy: 0.9969\n",
            "Epoch 20/50\n",
            "2000/2000 [==============================] - 4s 2ms/step - loss: 0.0140 - sparse_categorical_accuracy: 0.9963\n",
            "Epoch 21/50\n",
            "2000/2000 [==============================] - 4s 2ms/step - loss: 0.0122 - sparse_categorical_accuracy: 0.9964\n",
            "Epoch 22/50\n",
            "2000/2000 [==============================] - 5s 2ms/step - loss: 0.0123 - sparse_categorical_accuracy: 0.9968\n",
            "Epoch 23/50\n",
            "2000/2000 [==============================] - 5s 2ms/step - loss: 0.0104 - sparse_categorical_accuracy: 0.9970\n",
            "Epoch 24/50\n",
            "2000/2000 [==============================] - 5s 2ms/step - loss: 0.0104 - sparse_categorical_accuracy: 0.9971\n",
            "Epoch 25/50\n",
            "2000/2000 [==============================] - 5s 2ms/step - loss: 0.0118 - sparse_categorical_accuracy: 0.9968\n",
            "Epoch 26/50\n",
            "2000/2000 [==============================] - 4s 2ms/step - loss: 0.0085 - sparse_categorical_accuracy: 0.9973\n",
            "Epoch 27/50\n",
            "2000/2000 [==============================] - 4s 2ms/step - loss: 0.0115 - sparse_categorical_accuracy: 0.9969\n",
            "Epoch 28/50\n",
            "2000/2000 [==============================] - 4s 2ms/step - loss: 0.0099 - sparse_categorical_accuracy: 0.9974\n",
            "Epoch 29/50\n",
            "1100/2000 [===============>..............] - ETA: 2s - loss: 0.0081 - sparse_categorical_accuracy: 0.9974"
          ],
          "name": "stdout"
        }
      ]
    },
    {
      "cell_type": "code",
      "metadata": {
        "id": "xsAhmmdbdhg0"
      },
      "source": [
        "print(\"실행시간 :\", time.time() - start,\"(초)\")  # 현재시각 - 시작시간 = 실행 시간"
      ],
      "execution_count": null,
      "outputs": []
    }
  ]
}