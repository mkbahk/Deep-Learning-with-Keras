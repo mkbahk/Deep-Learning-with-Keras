{
  "nbformat": 4,
  "nbformat_minor": 0,
  "metadata": {
    "colab": {
      "name": "3-5-뉴스기사 분류-다중분류문제.ipynb",
      "provenance": [],
      "authorship_tag": "ABX9TyO6zP0EtLexnWqIxIHuTsfq",
      "include_colab_link": true
    },
    "kernelspec": {
      "name": "python3",
      "display_name": "Python 3"
    },
    "accelerator": "TPU"
  },
  "cells": [
    {
      "cell_type": "markdown",
      "metadata": {
        "id": "view-in-github",
        "colab_type": "text"
      },
      "source": [
        "<a href=\"https://colab.research.google.com/github/mkbahk/DeepLearningwithKeras/blob/master/3_5_%EB%89%B4%EC%8A%A4%EA%B8%B0%EC%82%AC_%EB%B6%84%EB%A5%98_%EB%8B%A4%EC%A4%91%EB%B6%84%EB%A5%98%EB%AC%B8%EC%A0%9C.ipynb\" target=\"_parent\"><img src=\"https://colab.research.google.com/assets/colab-badge.svg\" alt=\"Open In Colab\"/></a>"
      ]
    },
    {
      "cell_type": "markdown",
      "metadata": {
        "id": "tQmRIGjDxiQO"
      },
      "source": [
        "로이터 데이타텟 로드하기\n",
        "\n",
        "\n",
        "\n",
        "\n"
      ]
    },
    {
      "cell_type": "code",
      "metadata": {
        "id": "8S6Jo8AvxTnI"
      },
      "source": [
        "from keras.datasets import reuters\n",
        "(train_data, train_labels), (test_data, test_labels) = reuters.load_data(num_words=10000)"
      ],
      "execution_count": 88,
      "outputs": []
    },
    {
      "cell_type": "code",
      "metadata": {
        "id": "q1SVH1hRx7Zl",
        "outputId": "bbbb96c5-9088-4c1b-8d37-7dae6deb0d7f",
        "colab": {
          "base_uri": "https://localhost:8080/",
          "height": 36
        }
      },
      "source": [
        "len(train_data)"
      ],
      "execution_count": 89,
      "outputs": [
        {
          "output_type": "execute_result",
          "data": {
            "text/plain": [
              "8982"
            ]
          },
          "metadata": {
            "tags": []
          },
          "execution_count": 89
        }
      ]
    },
    {
      "cell_type": "code",
      "metadata": {
        "id": "Du69fXfkyDBD",
        "outputId": "fac709cd-6455-4f81-f6bf-5ba61a50e230",
        "colab": {
          "base_uri": "https://localhost:8080/",
          "height": 36
        }
      },
      "source": [
        "len(test_data)"
      ],
      "execution_count": 90,
      "outputs": [
        {
          "output_type": "execute_result",
          "data": {
            "text/plain": [
              "2246"
            ]
          },
          "metadata": {
            "tags": []
          },
          "execution_count": 90
        }
      ]
    },
    {
      "cell_type": "code",
      "metadata": {
        "id": "siYY9ZJqyFGZ",
        "outputId": "45c31cbc-a04e-45c8-ca22-40f637ea6786",
        "colab": {
          "base_uri": "https://localhost:8080/",
          "height": 592
        }
      },
      "source": [
        "train_data[10]"
      ],
      "execution_count": 91,
      "outputs": [
        {
          "output_type": "execute_result",
          "data": {
            "text/plain": [
              "[1,\n",
              " 245,\n",
              " 273,\n",
              " 207,\n",
              " 156,\n",
              " 53,\n",
              " 74,\n",
              " 160,\n",
              " 26,\n",
              " 14,\n",
              " 46,\n",
              " 296,\n",
              " 26,\n",
              " 39,\n",
              " 74,\n",
              " 2979,\n",
              " 3554,\n",
              " 14,\n",
              " 46,\n",
              " 4689,\n",
              " 4329,\n",
              " 86,\n",
              " 61,\n",
              " 3499,\n",
              " 4795,\n",
              " 14,\n",
              " 61,\n",
              " 451,\n",
              " 4329,\n",
              " 17,\n",
              " 12]"
            ]
          },
          "metadata": {
            "tags": []
          },
          "execution_count": 91
        }
      ]
    },
    {
      "cell_type": "code",
      "metadata": {
        "id": "wBlX8LmqyLAv"
      },
      "source": [
        "word_index = reuters.get_word_index()\n",
        "reverse_word_index = dict([(value, key) for (key, value) in word_index.items()])\n",
        "decoded_newswire = ' '.join([reverse_word_index.get(i - 3, '?') for i in train_data[0]])"
      ],
      "execution_count": 92,
      "outputs": []
    },
    {
      "cell_type": "code",
      "metadata": {
        "id": "7jTice-MzIK8",
        "outputId": "8ff438b5-2f5f-4eb2-c01a-e114241b44a8",
        "colab": {
          "base_uri": "https://localhost:8080/",
          "height": 36
        }
      },
      "source": [
        "train_labels[10]"
      ],
      "execution_count": 93,
      "outputs": [
        {
          "output_type": "execute_result",
          "data": {
            "text/plain": [
              "3"
            ]
          },
          "metadata": {
            "tags": []
          },
          "execution_count": 93
        }
      ]
    },
    {
      "cell_type": "markdown",
      "metadata": {
        "id": "EWY7q7XtzWi9"
      },
      "source": [
        "데이터 인코딩하기"
      ]
    },
    {
      "cell_type": "code",
      "metadata": {
        "id": "ScUtrGyLzOz7"
      },
      "source": [
        "import numpy as np\n",
        "\n",
        "def vectorize_sequences(sequences, dimension=10000):\n",
        "  results = np.zeros((len(sequences), dimension))\n",
        "  for i, sequence in enumerate(sequences):\n",
        "    results[i, sequence] = 1\n",
        "  return results\n",
        "# end of def\n",
        "\n",
        "x_train = vectorize_sequences(train_data) #훈련데이타 벡터 변환\n",
        "x_test = vectorize_sequences(test_data) #테스트 데이타 벡터 변환"
      ],
      "execution_count": 94,
      "outputs": []
    },
    {
      "cell_type": "code",
      "metadata": {
        "id": "3a1QOVeb0Gj_"
      },
      "source": [
        "def to_one_hot(labels, dimension=46):\n",
        "  results = np.zeros((len(labels), dimension))\n",
        "  for i, label in enumerate(labels):\n",
        "    results[i, label] = 1.\n",
        "  return results\n",
        "# end of def\n",
        "\n",
        "one_hot_train_labels = to_one_hot(train_labels) #훈련 레이블 벡터 변환\n",
        "one_hot_test_labels = to_one_hot(test_labels) #테스트 레이블 벡터 변환"
      ],
      "execution_count": 95,
      "outputs": []
    },
    {
      "cell_type": "markdown",
      "metadata": {
        "id": "tF1q3s9K1xiw"
      },
      "source": [
        "모델정의하기"
      ]
    },
    {
      "cell_type": "code",
      "metadata": {
        "id": "ouNoxt_11Kgj",
        "outputId": "e9c2688b-a673-436c-98b9-998c12b9d062",
        "colab": {
          "base_uri": "https://localhost:8080/",
          "height": 573
        }
      },
      "source": [
        "from keras import models, layers, regularizers\n",
        "\n",
        "model = models.Sequential()\n",
        "model.add(layers.Dense(64, kernel_regularizer=regularizers.l1_l2(l1=0.001, l2=0.001), activation='relu', input_shape=(10000,)))\n",
        "model.add(layers.Dropout(0.5))\n",
        "model.add(layers.Dense(128, kernel_regularizer=regularizers.l1_l2(l1=0.001, l2=0.001), activation='relu'))\n",
        "model.add(layers.Dropout(0.5))\n",
        "model.add(layers.Dense(256, kernel_regularizer=regularizers.l1_l2(l1=0.001, l2=0.001), activation='relu'))\n",
        "model.add(layers.Dropout(0.5))\n",
        "model.add(layers.Dense(128, kernel_regularizer=regularizers.l1_l2(l1=0.001, l2=0.001), activation='relu'))\n",
        "model.add(layers.Dropout(0.5))\n",
        "model.add(layers.Dense(64, kernel_regularizer=regularizers.l1_l2(l1=0.001, l2=0.001), activation='relu'))\n",
        "model.add(layers.Dropout(0.5))\n",
        "model.add(layers.Dense(46, kernel_regularizer=regularizers.l1_l2(l1=0.001, l2=0.001), activation='softmax'))\n",
        "model.summary()"
      ],
      "execution_count": 96,
      "outputs": [
        {
          "output_type": "stream",
          "text": [
            "Model: \"sequential_7\"\n",
            "_________________________________________________________________\n",
            "Layer (type)                 Output Shape              Param #   \n",
            "=================================================================\n",
            "dense_30 (Dense)             (None, 64)                640064    \n",
            "_________________________________________________________________\n",
            "dropout_25 (Dropout)         (None, 64)                0         \n",
            "_________________________________________________________________\n",
            "dense_31 (Dense)             (None, 128)               8320      \n",
            "_________________________________________________________________\n",
            "dropout_26 (Dropout)         (None, 128)               0         \n",
            "_________________________________________________________________\n",
            "dense_32 (Dense)             (None, 256)               33024     \n",
            "_________________________________________________________________\n",
            "dropout_27 (Dropout)         (None, 256)               0         \n",
            "_________________________________________________________________\n",
            "dense_33 (Dense)             (None, 128)               32896     \n",
            "_________________________________________________________________\n",
            "dropout_28 (Dropout)         (None, 128)               0         \n",
            "_________________________________________________________________\n",
            "dense_34 (Dense)             (None, 64)                8256      \n",
            "_________________________________________________________________\n",
            "dropout_29 (Dropout)         (None, 64)                0         \n",
            "_________________________________________________________________\n",
            "dense_35 (Dense)             (None, 46)                2990      \n",
            "=================================================================\n",
            "Total params: 725,550\n",
            "Trainable params: 725,550\n",
            "Non-trainable params: 0\n",
            "_________________________________________________________________\n"
          ],
          "name": "stdout"
        }
      ]
    },
    {
      "cell_type": "markdown",
      "metadata": {
        "id": "0oRK79tB3V_X"
      },
      "source": [
        "모델 컴파일"
      ]
    },
    {
      "cell_type": "code",
      "metadata": {
        "id": "7JtBNK0P2AgP"
      },
      "source": [
        "model.compile(optimizer='rmsprop', loss='categorical_crossentropy', metrics=['accuracy'])"
      ],
      "execution_count": 97,
      "outputs": []
    },
    {
      "cell_type": "markdown",
      "metadata": {
        "id": "kWyBubkP3VTb"
      },
      "source": [
        "검증 세트 준비하기"
      ]
    },
    {
      "cell_type": "code",
      "metadata": {
        "id": "5bn0jpgv3Tgk"
      },
      "source": [
        "x_val = x_train[:1000]\n",
        "partial_x_train = x_train[1000:]\n",
        "\n",
        "y_val = one_hot_train_labels[:1000]\n",
        "partial_y_train = one_hot_train_labels[1000:]"
      ],
      "execution_count": 98,
      "outputs": []
    },
    {
      "cell_type": "markdown",
      "metadata": {
        "id": "26RltRTn31V8"
      },
      "source": [
        "모델 훈련하기"
      ]
    },
    {
      "cell_type": "code",
      "metadata": {
        "id": "uHG-DWix3z6G",
        "outputId": "6c61da0e-5276-47cf-cdc5-17593923a6fd",
        "colab": {
          "base_uri": "https://localhost:8080/",
          "height": 777
        }
      },
      "source": [
        "history = model.fit(x=partial_x_train, y=partial_y_train, epochs=20, batch_size=256, validation_data=(x_val, y_val))\n",
        "result = model.evaluate(x=x_test, y=one_hot_test_labels)"
      ],
      "execution_count": 99,
      "outputs": [
        {
          "output_type": "stream",
          "text": [
            "Epoch 1/20\n",
            "32/32 [==============================] - 2s 47ms/step - loss: 9.4841 - accuracy: 0.2764 - val_loss: 6.2843 - val_accuracy: 0.3540\n",
            "Epoch 2/20\n",
            "32/32 [==============================] - 1s 39ms/step - loss: 5.6825 - accuracy: 0.3636 - val_loss: 4.6981 - val_accuracy: 0.3530\n",
            "Epoch 3/20\n",
            "32/32 [==============================] - 1s 37ms/step - loss: 4.3389 - accuracy: 0.3988 - val_loss: 3.6014 - val_accuracy: 0.5330\n",
            "Epoch 4/20\n",
            "32/32 [==============================] - 1s 38ms/step - loss: 3.4928 - accuracy: 0.4786 - val_loss: 3.1051 - val_accuracy: 0.5340\n",
            "Epoch 5/20\n",
            "32/32 [==============================] - 1s 37ms/step - loss: 3.1418 - accuracy: 0.5061 - val_loss: 2.8566 - val_accuracy: 0.5450\n",
            "Epoch 6/20\n",
            "32/32 [==============================] - 1s 37ms/step - loss: 2.9464 - accuracy: 0.5202 - val_loss: 2.7120 - val_accuracy: 0.5420\n",
            "Epoch 7/20\n",
            "32/32 [==============================] - 1s 36ms/step - loss: 2.8539 - accuracy: 0.5237 - val_loss: 2.6704 - val_accuracy: 0.5460\n",
            "Epoch 8/20\n",
            "32/32 [==============================] - 1s 36ms/step - loss: 2.7846 - accuracy: 0.5256 - val_loss: 2.6104 - val_accuracy: 0.5460\n",
            "Epoch 9/20\n",
            "32/32 [==============================] - 1s 37ms/step - loss: 2.7530 - accuracy: 0.5271 - val_loss: 2.5836 - val_accuracy: 0.5430\n",
            "Epoch 10/20\n",
            "32/32 [==============================] - 1s 37ms/step - loss: 2.7150 - accuracy: 0.5278 - val_loss: 2.6222 - val_accuracy: 0.5370\n",
            "Epoch 11/20\n",
            "32/32 [==============================] - 1s 37ms/step - loss: 2.6903 - accuracy: 0.5286 - val_loss: 2.5600 - val_accuracy: 0.5440\n",
            "Epoch 12/20\n",
            "32/32 [==============================] - 1s 36ms/step - loss: 2.6765 - accuracy: 0.5313 - val_loss: 2.5216 - val_accuracy: 0.5430\n",
            "Epoch 13/20\n",
            "32/32 [==============================] - 1s 36ms/step - loss: 2.6649 - accuracy: 0.5333 - val_loss: 2.4890 - val_accuracy: 0.5480\n",
            "Epoch 14/20\n",
            "32/32 [==============================] - 1s 36ms/step - loss: 2.6342 - accuracy: 0.5351 - val_loss: 2.4850 - val_accuracy: 0.5510\n",
            "Epoch 15/20\n",
            "32/32 [==============================] - 1s 36ms/step - loss: 2.6275 - accuracy: 0.5377 - val_loss: 2.4664 - val_accuracy: 0.5480\n",
            "Epoch 16/20\n",
            "32/32 [==============================] - 1s 36ms/step - loss: 2.6216 - accuracy: 0.5361 - val_loss: 2.4591 - val_accuracy: 0.5480\n",
            "Epoch 17/20\n",
            "32/32 [==============================] - 1s 36ms/step - loss: 2.6058 - accuracy: 0.5417 - val_loss: 2.4843 - val_accuracy: 0.5400\n",
            "Epoch 18/20\n",
            "32/32 [==============================] - 1s 36ms/step - loss: 2.6027 - accuracy: 0.5405 - val_loss: 2.4911 - val_accuracy: 0.5430\n",
            "Epoch 19/20\n",
            "32/32 [==============================] - 1s 37ms/step - loss: 2.5887 - accuracy: 0.5467 - val_loss: 2.4462 - val_accuracy: 0.5590\n",
            "Epoch 20/20\n",
            "32/32 [==============================] - 1s 36ms/step - loss: 2.6013 - accuracy: 0.5497 - val_loss: 2.4423 - val_accuracy: 0.5600\n",
            "71/71 [==============================] - 0s 4ms/step - loss: 2.5043 - accuracy: 0.5597\n"
          ],
          "name": "stdout"
        }
      ]
    },
    {
      "cell_type": "markdown",
      "metadata": {
        "id": "e60fjrUCBCnZ"
      },
      "source": [
        "CPU, GPU, TPU 사용시의 결과비교:\n",
        "\n",
        "CPU:\n",
        "\n",
        "Epoch 20/20\n",
        "16/16 [==============================] - 1s 46ms/step - loss: 0.1315 - accuracy: 0.9550 - val_loss: 1.5239 - val_accuracy: 0.7670\n",
        "71/71 [==============================] - 0s 3ms/step - loss: 1.8289 - accuracy: 0.7524\n",
        "\n",
        "GPU:\n",
        "\n",
        "Epoch 20/20\n",
        "16/16 [==============================] - 0s 14ms/step - loss: 0.1678 - accuracy: 0.9422 - val_loss: 1.4124 - val_accuracy: 0.7930\n",
        "71/71 [==============================] - 0s 3ms/step - loss: 1.7150 - accuracy: 0.7596\n",
        "\n",
        "TPU:\n",
        "\n",
        "Epoch 20/20\n",
        "16/16 [==============================] - 1s 48ms/step - loss: 0.1108 - accuracy: 0.9573 - val_loss: 1.4943 - val_accuracy: 0.7760\n",
        "71/71 [==============================] - 0s 3ms/step - loss: 1.7421 - accuracy: 0.7609\n",
        "\n",
        "dropout 적용 후:\n",
        "\n",
        "Epoch 20/20\n",
        "16/16 [==============================] - 1s 54ms/step - loss: 1.1207 - accuracy: 0.6953 - val_loss: 1.7655 - val_accuracy: 0.6920\n",
        "71/71 [==============================] - 0s 3ms/step - loss: 1.9858 - accuracy: 0.6719\n",
        "\n",
        "l1_l2 regularization 적용 후:\n",
        "\n",
        "Epoch 20/20\n",
        "16/16 [==============================] - 1s 60ms/step - loss: 2.7187 - accuracy: 0.4607 - val_loss: 2.5987 - val_accuracy: 0.5150\n",
        "71/71 [==============================] - 0s 4ms/step - loss: 2.6204 - accuracy: 0.5165\n",
        "\n"
      ]
    },
    {
      "cell_type": "markdown",
      "metadata": {
        "id": "zsxhibx_4wtq"
      },
      "source": [
        "훈련과 검증 손실"
      ]
    },
    {
      "cell_type": "code",
      "metadata": {
        "id": "iACuYJ8J6ocT",
        "outputId": "0d9e0544-0b57-4064-fc80-ef5ac087d76f",
        "colab": {
          "base_uri": "https://localhost:8080/",
          "height": 1000
        }
      },
      "source": [
        "history.history"
      ],
      "execution_count": 100,
      "outputs": [
        {
          "output_type": "execute_result",
          "data": {
            "text/plain": [
              "{'accuracy': [0.2763718366622925,\n",
              "  0.3635680377483368,\n",
              "  0.3987722396850586,\n",
              "  0.47857680916786194,\n",
              "  0.506138801574707,\n",
              "  0.5201703906059265,\n",
              "  0.5236783027648926,\n",
              "  0.5255575180053711,\n",
              "  0.527060866355896,\n",
              "  0.5278126001358032,\n",
              "  0.5285642743110657,\n",
              "  0.5313204526901245,\n",
              "  0.5333249568939209,\n",
              "  0.5350789427757263,\n",
              "  0.5377098321914673,\n",
              "  0.5360811948776245,\n",
              "  0.5417188405990601,\n",
              "  0.5404660701751709,\n",
              "  0.5467301607131958,\n",
              "  0.5497369170188904],\n",
              " 'loss': [9.484103202819824,\n",
              "  5.682516574859619,\n",
              "  4.338872909545898,\n",
              "  3.4928224086761475,\n",
              "  3.141772747039795,\n",
              "  2.94635272026062,\n",
              "  2.8538832664489746,\n",
              "  2.7846298217773438,\n",
              "  2.7529773712158203,\n",
              "  2.7150485515594482,\n",
              "  2.69031023979187,\n",
              "  2.6764931678771973,\n",
              "  2.664902448654175,\n",
              "  2.6341614723205566,\n",
              "  2.6275393962860107,\n",
              "  2.6215505599975586,\n",
              "  2.6057586669921875,\n",
              "  2.602742910385132,\n",
              "  2.5887372493743896,\n",
              "  2.6012802124023438],\n",
              " 'val_accuracy': [0.3540000021457672,\n",
              "  0.3529999852180481,\n",
              "  0.5329999923706055,\n",
              "  0.5339999794960022,\n",
              "  0.5450000166893005,\n",
              "  0.5419999957084656,\n",
              "  0.5460000038146973,\n",
              "  0.5460000038146973,\n",
              "  0.5429999828338623,\n",
              "  0.5370000004768372,\n",
              "  0.5440000295639038,\n",
              "  0.5429999828338623,\n",
              "  0.5479999780654907,\n",
              "  0.5509999990463257,\n",
              "  0.5479999780654907,\n",
              "  0.5479999780654907,\n",
              "  0.5400000214576721,\n",
              "  0.5429999828338623,\n",
              "  0.5590000152587891,\n",
              "  0.5600000023841858],\n",
              " 'val_loss': [6.284256935119629,\n",
              "  4.6980791091918945,\n",
              "  3.601424217224121,\n",
              "  3.1050615310668945,\n",
              "  2.856625556945801,\n",
              "  2.7119534015655518,\n",
              "  2.670365810394287,\n",
              "  2.6103556156158447,\n",
              "  2.5836002826690674,\n",
              "  2.6222012042999268,\n",
              "  2.560007333755493,\n",
              "  2.521577835083008,\n",
              "  2.4889893531799316,\n",
              "  2.4850196838378906,\n",
              "  2.46643328666687,\n",
              "  2.4591236114501953,\n",
              "  2.4842734336853027,\n",
              "  2.4911341667175293,\n",
              "  2.4461538791656494,\n",
              "  2.442308187484741]}"
            ]
          },
          "metadata": {
            "tags": []
          },
          "execution_count": 100
        }
      ]
    },
    {
      "cell_type": "code",
      "metadata": {
        "id": "gw-b6yhq41dW",
        "outputId": "449faace-d21c-42e9-b895-82738e23e735",
        "colab": {
          "base_uri": "https://localhost:8080/",
          "height": 295
        }
      },
      "source": [
        "import matplotlib.pyplot as plt\n",
        "\n",
        "loss = history.history['loss']\n",
        "val_loss = history.history['val_loss']\n",
        "\n",
        "epochs = range(1, len(loss) + 1)\n",
        "\n",
        "plt.plot(epochs, loss, 'bo', label='Training loss') #'bo'는 파란색 점을 의미\n",
        "plt.plot(epochs, val_loss, 'b', label='Validation loss') #'b'는 파란색 실선을 의미합니다.\n",
        "\n",
        "plt.title('Training and validation loss')\n",
        "plt.xlabel('Epochs')\n",
        "plt.ylabel('Loss')\n",
        "plt.legend()\n",
        "\n",
        "plt.show()\n"
      ],
      "execution_count": 101,
      "outputs": [
        {
          "output_type": "display_data",
          "data": {
            "image/png": "[encoded data removed]",
            "text/plain": [
              "<Figure size 432x288 with 1 Axes>"
            ]
          },
          "metadata": {
            "tags": [],
            "needs_background": "light"
          }
        }
      ]
    },
    {
      "cell_type": "markdown",
      "metadata": {
        "id": "KxtKJiQX5MOY"
      },
      "source": [
        "훈련 검증 정확도 그리기"
      ]
    },
    {
      "cell_type": "code",
      "metadata": {
        "id": "Y3ks6Ft85RUw",
        "outputId": "2906753f-5a8a-4b8a-c3e1-1107596065df",
        "colab": {
          "base_uri": "https://localhost:8080/",
          "height": 295
        }
      },
      "source": [
        "plt.clf() #그래프 초기화\n",
        "\n",
        "acc = history.history['accuracy']\n",
        "val_acc = history.history['val_accuracy']\n",
        "\n",
        "plt.plot(epochs, acc, 'bo', label='Training acc')\n",
        "plt.plot(epochs, val_acc, 'b', label = 'Validation acc')\n",
        "plt.title('Training and validation accuracy')\n",
        "plt.xlabel('Epochs')\n",
        "plt.ylabel('Accuracy')\n",
        "plt.legend()\n",
        "\n",
        "plt.show()"
      ],
      "execution_count": 102,
      "outputs": [
        {
          "output_type": "display_data",
          "data": {
            "image/png": "[encoded data removed]",
            "text/plain": [
              "<Figure size 432x288 with 1 Axes>"
            ]
          },
          "metadata": {
            "tags": [],
            "needs_background": "light"
          }
        }
      ]
    },
    {
      "cell_type": "markdown",
      "metadata": {
        "id": "76Q1NDBB8awu"
      },
      "source": [
        "새로운 데이타로 예측하기"
      ]
    },
    {
      "cell_type": "code",
      "metadata": {
        "id": "Xojitgbm8fhn"
      },
      "source": [
        "predictions =  model.predict(x_test)"
      ],
      "execution_count": 103,
      "outputs": []
    },
    {
      "cell_type": "code",
      "metadata": {
        "id": "iw9qGArv8lJo",
        "outputId": "300f4ce6-aba6-485b-fe05-0fd641e09e6b",
        "colab": {
          "base_uri": "https://localhost:8080/",
          "height": 36
        }
      },
      "source": [
        "predictions[0].shape"
      ],
      "execution_count": 104,
      "outputs": [
        {
          "output_type": "execute_result",
          "data": {
            "text/plain": [
              "(46,)"
            ]
          },
          "metadata": {
            "tags": []
          },
          "execution_count": 104
        }
      ]
    },
    {
      "cell_type": "code",
      "metadata": {
        "id": "VBMAsUo78uPy",
        "outputId": "7ef66b28-bcf8-4f66-e7d0-67d5a6f69cc6",
        "colab": {
          "base_uri": "https://localhost:8080/",
          "height": 36
        }
      },
      "source": [
        "np.sum(predictions[0])"
      ],
      "execution_count": 105,
      "outputs": [
        {
          "output_type": "execute_result",
          "data": {
            "text/plain": [
              "0.9999999"
            ]
          },
          "metadata": {
            "tags": []
          },
          "execution_count": 105
        }
      ]
    },
    {
      "cell_type": "code",
      "metadata": {
        "id": "Qc4igSj98xgN",
        "outputId": "16f3f389-13d0-4597-857a-ff5e7b5859e8",
        "colab": {
          "base_uri": "https://localhost:8080/",
          "height": 36
        }
      },
      "source": [
        "np.argmax(predictions[0])"
      ],
      "execution_count": 106,
      "outputs": [
        {
          "output_type": "execute_result",
          "data": {
            "text/plain": [
              "3"
            ]
          },
          "metadata": {
            "tags": []
          },
          "execution_count": 106
        }
      ]
    },
    {
      "cell_type": "code",
      "metadata": {
        "id": "rLKRrwyI8-rx"
      },
      "source": [
        ""
      ],
      "execution_count": 106,
      "outputs": []
    }
  ]
}