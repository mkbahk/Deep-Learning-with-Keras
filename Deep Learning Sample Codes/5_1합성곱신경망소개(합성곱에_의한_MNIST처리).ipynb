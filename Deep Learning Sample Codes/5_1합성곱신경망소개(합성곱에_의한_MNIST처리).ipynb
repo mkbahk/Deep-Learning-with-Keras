{
  "nbformat": 4,
  "nbformat_minor": 0,
  "metadata": {
    "colab": {
      "name": "5.1합성곱신경망소개(합성곱에 의한 MNIST처리).ipynb",
      "provenance": [],
      "authorship_tag": "ABX9TyOOIB5zv93FOaCqinffWZvJ",
      "include_colab_link": true
    },
    "kernelspec": {
      "name": "python3",
      "display_name": "Python 3"
    },
    "accelerator": "TPU"
  },
  "cells": [
    {
      "cell_type": "markdown",
      "metadata": {
        "id": "view-in-github",
        "colab_type": "text"
      },
      "source": [
        "<a href=\"https://colab.research.google.com/github/mkbahk/DeepLearningwithKeras/blob/master/5_1%ED%95%A9%EC%84%B1%EA%B3%B1%EC%8B%A0%EA%B2%BD%EB%A7%9D%EC%86%8C%EA%B0%9C(%ED%95%A9%EC%84%B1%EA%B3%B1%EC%97%90_%EC%9D%98%ED%95%9C_MNIST%EC%B2%98%EB%A6%AC).ipynb\" target=\"_parent\"><img src=\"https://colab.research.google.com/assets/colab-badge.svg\" alt=\"Open In Colab\"/></a>"
      ]
    },
    {
      "cell_type": "code",
      "metadata": {
        "id": "qdy3EWEI2HIJ"
      },
      "source": [
        "from keras import layers, models\n",
        "from keras.datasets import mnist\n",
        "from keras.utils import to_categorical"
      ],
      "execution_count": 19,
      "outputs": []
    },
    {
      "cell_type": "markdown",
      "metadata": {
        "id": "ZLji-v3C6ARk"
      },
      "source": [
        "간단한 컨브넷 만들기"
      ]
    },
    {
      "cell_type": "code",
      "metadata": {
        "id": "4PQGsz2p2SDc"
      },
      "source": [
        "model = models.Sequential()\n",
        "model.add(layers.Conv2D(32, (3,3), activation='relu', input_shape=(28, 28, 1)))\n",
        "model.add(layers.MaxPooling2D(pool_size=(2,2)))\n",
        "model.add(layers.Conv2D(64, (3,3), activation='relu'))\n",
        "model.add(layers.MaxPooling2D(pool_size=(2,2)))\n",
        "model.add(layers.Conv2D(64, (3,3), activation='relu'))"
      ],
      "execution_count": 20,
      "outputs": []
    },
    {
      "cell_type": "code",
      "metadata": {
        "id": "gfSrNO1QCv2k"
      },
      "source": [
        "#model = models.Sequential()\n",
        "#model.add(layers.Conv2D(32, (5,5), activation='relu', input_shape=(28, 28, 1)))\n",
        "#model.add(layers.MaxPooling2D(pool_size=(2,2)))\n",
        "#model.add(layers.Conv2D(64, (5,5), activation='relu'))\n",
        "#model.add(layers.MaxPooling2D(pool_size=(2,2)))\n",
        "#model.add(layers.Conv2D(64, (3,3), activation='relu'))"
      ],
      "execution_count": 21,
      "outputs": []
    },
    {
      "cell_type": "markdown",
      "metadata": {
        "id": "Pam9Zdky6EQ6"
      },
      "source": [
        "컨브넷 위에 분류기 추가하기"
      ]
    },
    {
      "cell_type": "code",
      "metadata": {
        "id": "y1EV8ugJ6Id7"
      },
      "source": [
        "model.add(layers.Flatten())\n",
        "model.add(layers.Dense(64, activation='relu'))\n",
        "model.add(layers.Dense(10, activation='softmax'))"
      ],
      "execution_count": 22,
      "outputs": []
    },
    {
      "cell_type": "code",
      "metadata": {
        "id": "rrAd0LrB324k",
        "outputId": "6f66d49f-a10d-4a9a-9e5d-ab06473206ba",
        "colab": {
          "base_uri": "https://localhost:8080/",
          "height": 449
        }
      },
      "source": [
        "model.summary()"
      ],
      "execution_count": 23,
      "outputs": [
        {
          "output_type": "stream",
          "text": [
            "Model: \"sequential_3\"\n",
            "_________________________________________________________________\n",
            "Layer (type)                 Output Shape              Param #   \n",
            "=================================================================\n",
            "conv2d_9 (Conv2D)            (None, 26, 26, 32)        320       \n",
            "_________________________________________________________________\n",
            "max_pooling2d_6 (MaxPooling2 (None, 13, 13, 32)        0         \n",
            "_________________________________________________________________\n",
            "conv2d_10 (Conv2D)           (None, 11, 11, 64)        18496     \n",
            "_________________________________________________________________\n",
            "max_pooling2d_7 (MaxPooling2 (None, 5, 5, 64)          0         \n",
            "_________________________________________________________________\n",
            "conv2d_11 (Conv2D)           (None, 3, 3, 64)          36928     \n",
            "_________________________________________________________________\n",
            "flatten_2 (Flatten)          (None, 576)               0         \n",
            "_________________________________________________________________\n",
            "dense_4 (Dense)              (None, 64)                36928     \n",
            "_________________________________________________________________\n",
            "dense_5 (Dense)              (None, 10)                650       \n",
            "=================================================================\n",
            "Total params: 93,322\n",
            "Trainable params: 93,322\n",
            "Non-trainable params: 0\n",
            "_________________________________________________________________\n"
          ],
          "name": "stdout"
        }
      ]
    },
    {
      "cell_type": "markdown",
      "metadata": {
        "id": "cgRpNprZ7Eii"
      },
      "source": [
        "MNIST 이미지에 컨브넷 훈련하기"
      ]
    },
    {
      "cell_type": "code",
      "metadata": {
        "id": "iY9CLuzz7Jc1"
      },
      "source": [
        "(train_images, train_labels), (test_images, test_labels) = mnist.load_data()\n",
        "\n",
        "train_images = train_images.reshape((60000, 28, 28, 1))\n",
        "train_images = train_images.astype('float32') / 255\n",
        "\n",
        "test_images = test_images.reshape((10000, 28, 28, 1))\n",
        "test_images = test_images.astype('float32') / 255\n",
        "\n",
        "train_labels = to_categorical(train_labels)\n",
        "test_labels = to_categorical(test_labels)"
      ],
      "execution_count": 24,
      "outputs": []
    },
    {
      "cell_type": "markdown",
      "metadata": {
        "id": "WjnO6EPp8Lkm"
      },
      "source": [
        "모델 컴파일"
      ]
    },
    {
      "cell_type": "code",
      "metadata": {
        "id": "vpDt0PMy8N1a"
      },
      "source": [
        "model.compile(optimizer='rmsprop', loss='categorical_crossentropy', metrics=['accuracy'])"
      ],
      "execution_count": 25,
      "outputs": []
    },
    {
      "cell_type": "markdown",
      "metadata": {
        "id": "KYSOicfZ8d1T"
      },
      "source": [
        "모델 훈련"
      ]
    },
    {
      "cell_type": "code",
      "metadata": {
        "id": "iHPgdFhH8gm4",
        "outputId": "1b5f2891-6b6e-4b4b-cbd6-3d4038155cbd",
        "colab": {
          "base_uri": "https://localhost:8080/",
          "height": 215
        }
      },
      "source": [
        "model.fit(x=train_images, y=train_labels, epochs=5, batch_size=64)"
      ],
      "execution_count": 26,
      "outputs": [
        {
          "output_type": "stream",
          "text": [
            "Epoch 1/5\n",
            "938/938 [==============================] - 51s 54ms/step - loss: 0.1875 - accuracy: 0.9404\n",
            "Epoch 2/5\n",
            "938/938 [==============================] - 51s 54ms/step - loss: 0.0490 - accuracy: 0.9853\n",
            "Epoch 3/5\n",
            "938/938 [==============================] - 51s 54ms/step - loss: 0.0345 - accuracy: 0.9900\n",
            "Epoch 4/5\n",
            "938/938 [==============================] - 49s 53ms/step - loss: 0.0261 - accuracy: 0.9920\n",
            "Epoch 5/5\n",
            "938/938 [==============================] - 49s 53ms/step - loss: 0.0205 - accuracy: 0.9936\n"
          ],
          "name": "stdout"
        },
        {
          "output_type": "execute_result",
          "data": {
            "text/plain": [
              "<tensorflow.python.keras.callbacks.History at 0x7f9e7747eda0>"
            ]
          },
          "metadata": {
            "tags": []
          },
          "execution_count": 26
        }
      ]
    },
    {
      "cell_type": "markdown",
      "metadata": {
        "id": "1LxNGOFh8wNf"
      },
      "source": [
        "모델 평가"
      ]
    },
    {
      "cell_type": "code",
      "metadata": {
        "id": "QmANP1vF8xuI",
        "outputId": "6c3ab61d-8a29-4a24-8065-db38d91725ef",
        "colab": {
          "base_uri": "https://localhost:8080/",
          "height": 53
        }
      },
      "source": [
        "test_loss, test_acc = model.evaluate(x=test_images, y=test_labels)\n",
        "print(\"loss = {0}, Accuracy = {1}\".format(test_loss, test_acc))"
      ],
      "execution_count": 27,
      "outputs": [
        {
          "output_type": "stream",
          "text": [
            "313/313 [==============================] - 3s 10ms/step - loss: 0.0376 - accuracy: 0.9887\n",
            "loss = 0.03763469681143761, Accuracy = 0.9886999726295471\n"
          ],
          "name": "stdout"
        }
      ]
    },
    {
      "cell_type": "markdown",
      "metadata": {
        "id": "J8sf_nLT9_nX"
      },
      "source": [
        "CPU:\n",
        "\n",
        "313/313 [==============================] - 4s 11ms/step - loss: 0.0309 - accuracy: 0.9916\n",
        "\n",
        "loss = 0.030870346352458, Accuracy = 0.991599977016449\n",
        "\n",
        "GPU:\n",
        "\n",
        "313/313 [==============================] - 1s 2ms/step - loss: 0.0272 - accuracy: 0.9913\n",
        "\n",
        "loss = 0.027224764227867126, Accuracy = 0.9912999868392944\n",
        "\n",
        "TPU:\n",
        "\n",
        "313/313 [==============================] - 3s 10ms/step - loss: 0.0314 - accuracy: 0.9913\n",
        "\n",
        "loss = 0.031357698142528534, Accuracy = 0.9912999868392944\n",
        "\n",
        "5:5 특성맹 사용시:\n",
        "\n",
        "313/313 [==============================] - 4s 12ms/step - loss: 0.0322 - accuracy: 0.9915\n",
        "\n",
        "loss = 0.03221999853849411, Accuracy = 0.9915000200271606"
      ]
    },
    {
      "cell_type": "code",
      "metadata": {
        "id": "v_vxfK5mEpaQ"
      },
      "source": [
        ""
      ],
      "execution_count": 27,
      "outputs": []
    }
  ]
}