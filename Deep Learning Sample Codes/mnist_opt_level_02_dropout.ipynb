{
  "nbformat": 4,
  "nbformat_minor": 0,
  "metadata": {
    "colab": {
      "name": "mnist_opt_level_02_dropout.ipynb",
      "provenance": [],
      "collapsed_sections": [],
      "authorship_tag": "ABX9TyNvxeHkFoZSJRGTaBcXDlqu",
      "include_colab_link": true
    },
    "kernelspec": {
      "name": "python3",
      "display_name": "Python 3"
    }
  },
  "cells": [
    {
      "cell_type": "markdown",
      "metadata": {
        "id": "view-in-github",
        "colab_type": "text"
      },
      "source": [
        "<a href=\"https://colab.research.google.com/github/mkbahk/DeepLearningwithKeras/blob/master/mnist_opt_level_02_dropout.ipynb\" target=\"_parent\"><img src=\"https://colab.research.google.com/assets/colab-badge.svg\" alt=\"Open In Colab\"/></a>"
      ]
    },
    {
      "cell_type": "code",
      "metadata": {
        "id": "CLiJzZJNsPOB"
      },
      "source": [
        "import tensorflow as tf\n",
        "import numpy as np\n",
        "from tensorflow import keras"
      ],
      "execution_count": 16,
      "outputs": []
    },
    {
      "cell_type": "code",
      "metadata": {
        "id": "ZmA6HYaoseKM"
      },
      "source": [
        "#하이퍼 파라메터 정의(매개변수들)\n",
        "EPOCHS = 200\n",
        "BATCH_SIZE = 128\n",
        "VERBOSE = 1\n",
        "NB_CLASSES = 10 #출력갯수 = 숫자의 갯수\n",
        "N_HIDDEN = 128 \n",
        "VALIDATION_SPLIT = 0.2 #검증을 위해 남겨둘 훈련 데이타\n",
        "DROPOUT = 0.3"
      ],
      "execution_count": 17,
      "outputs": []
    },
    {
      "cell_type": "code",
      "metadata": {
        "colab": {
          "base_uri": "https://localhost:8080/"
        },
        "id": "6a_uWCrqtEIJ",
        "outputId": "ae716f9c-7ede-4e6f-ab92-850883b95327"
      },
      "source": [
        "# MNIST 데이타셋 로드(MNIST는 숫자만, eMNIST는 숫자+알파벳, 패션MNIST는 옷그림들이 있다)\n",
        "# X값 훈련용, 테스트 데이터를 각각 60,000개와 10,000개로 나눈다\n",
        "# 레이블(정답, Y값)에 대한 원핫 인코딩을 자동으로 적용한다\n",
        "# 아래 데이타셋을 .png 형태의 이미지를 이미 숫자화한 배열형태로 바꾸어 놓은 것이며, .csv형태가 분석 초기 데이타이다.\n",
        "mnist = keras.datasets.mnist\n",
        "(X_train, Y_train), (X_test, Y_test) = mnist.load_data()\n",
        "\n",
        "# X_train은 60,000개 행으로 28x28 값을 가진다. 이를 60,000 x 784(28x28)의 행렬형태로 변환한다.\n",
        "RESHAPED = 784\n",
        "\n",
        "X_train = X_train.reshape(60000, RESHAPED)\n",
        "X_test = X_test.reshape(10000, RESHAPED)\n",
        "\n",
        "X_train = X_train.astype('float32')\n",
        "X_test = X_test.astype('float32')\n",
        "\n",
        "# 입력을 [0, 1] 사이로 정규화\n",
        "X_train /= 255.0\n",
        "X_train /= 255.0\n",
        "\n",
        "print(X_train.shape[0], 'train samples')\n",
        "print(X_test.shape[0], 'train samples')\n",
        "\n",
        "# 레이블을 원한 엔코딩, 그래야 행렬 연산이 가능함\n",
        "Y_train = tf.keras.utils.to_categorical(Y_train, NB_CLASSES)\n",
        "Y_test = tf.keras.utils.to_categorical(Y_test, NB_CLASSES)"
      ],
      "execution_count": 18,
      "outputs": [
        {
          "output_type": "stream",
          "text": [
            "60000 train samples\n",
            "10000 train samples\n"
          ],
          "name": "stdout"
        }
      ]
    },
    {
      "cell_type": "code",
      "metadata": {
        "id": "yLoTJoMXvC4S"
      },
      "source": [
        "# 모델 구축(정의)\n",
        "model = tf.keras.models.Sequential()\n",
        "model.add(keras.layers.Dense(N_HIDDEN, input_shape=(RESHAPED,), name='input_Dense_layer_1', activation='relu'))\n",
        "model.add(keras.layers.Dropout(DROPOUT))\n",
        "model.add(keras.layers.Dense(N_HIDDEN, name='hidden_Dense_layer_2', activation='relu'))\n",
        "model.add(keras.layers.Dropout(DROPOUT))\n",
        "model.add(keras.layers.Dense(NB_CLASSES, name='output_Dense_layer_3', activation='softmax'))"
      ],
      "execution_count": 19,
      "outputs": []
    },
    {
      "cell_type": "code",
      "metadata": {
        "id": "rfRXM9Nhw5Kt"
      },
      "source": [
        "# 모델 컴파일\n",
        "model.compile(optimizer='SGD',\n",
        "             loss='categorical_crossentropy',\n",
        "             metrics=['accuracy'])"
      ],
      "execution_count": 20,
      "outputs": []
    },
    {
      "cell_type": "code",
      "metadata": {
        "colab": {
          "base_uri": "https://localhost:8080/"
        },
        "id": "RsSr7R9RzMFm",
        "outputId": "7e66a7d2-2447-4b72-b9d1-eb1333fd338e"
      },
      "source": [
        "# 모델 형태 보기\n",
        "model.summary()"
      ],
      "execution_count": 21,
      "outputs": [
        {
          "output_type": "stream",
          "text": [
            "Model: \"sequential_1\"\n",
            "_________________________________________________________________\n",
            "Layer (type)                 Output Shape              Param #   \n",
            "=================================================================\n",
            "input_Dense_layer_1 (Dense)  (None, 128)               100480    \n",
            "_________________________________________________________________\n",
            "dropout_2 (Dropout)          (None, 128)               0         \n",
            "_________________________________________________________________\n",
            "hidden_Dense_layer_2 (Dense) (None, 128)               16512     \n",
            "_________________________________________________________________\n",
            "dropout_3 (Dropout)          (None, 128)               0         \n",
            "_________________________________________________________________\n",
            "output_Dense_layer_3 (Dense) (None, 10)                1290      \n",
            "=================================================================\n",
            "Total params: 118,282\n",
            "Trainable params: 118,282\n",
            "Non-trainable params: 0\n",
            "_________________________________________________________________\n"
          ],
          "name": "stdout"
        }
      ]
    },
    {
      "cell_type": "code",
      "metadata": {
        "colab": {
          "base_uri": "https://localhost:8080/"
        },
        "id": "ru4BliBKxrkG",
        "outputId": "37ff572a-3f60-4059-911c-98381040f6b9"
      },
      "source": [
        "# 모델 훈련\n",
        "from keras.callbacks import EarlyStopping\n",
        "\n",
        "early_stopping = EarlyStopping(patience=15, mode='auto', monitor='val_accuracy')\n",
        "\n",
        "hist = model.fit(x = X_train, y = Y_train, \n",
        "          batch_size = BATCH_SIZE, epochs=EPOCHS,\n",
        "          verbose=VERBOSE, validation_split=VALIDATION_SPLIT,\n",
        "          callbacks=[early_stopping])"
      ],
      "execution_count": 27,
      "outputs": [
        {
          "output_type": "stream",
          "text": [
            "Epoch 1/200\n",
            "375/375 [==============================] - 2s 4ms/step - loss: 1.3772 - accuracy: 0.4945 - val_loss: 1.2497 - val_accuracy: 0.5964\n",
            "Epoch 2/200\n",
            "375/375 [==============================] - 2s 4ms/step - loss: 1.3829 - accuracy: 0.4969 - val_loss: 1.2573 - val_accuracy: 0.6034\n",
            "Epoch 3/200\n",
            "375/375 [==============================] - 2s 4ms/step - loss: 1.3731 - accuracy: 0.5001 - val_loss: 1.2990 - val_accuracy: 0.5487\n",
            "Epoch 4/200\n",
            "375/375 [==============================] - 2s 4ms/step - loss: 1.3687 - accuracy: 0.5027 - val_loss: 1.2418 - val_accuracy: 0.6056\n",
            "Epoch 5/200\n",
            "375/375 [==============================] - 2s 4ms/step - loss: 1.3565 - accuracy: 0.5062 - val_loss: 1.2276 - val_accuracy: 0.6193\n",
            "Epoch 6/200\n",
            "375/375 [==============================] - 2s 4ms/step - loss: 1.3477 - accuracy: 0.5086 - val_loss: 1.2471 - val_accuracy: 0.5932\n",
            "Epoch 7/200\n",
            "375/375 [==============================] - 2s 4ms/step - loss: 1.3480 - accuracy: 0.5124 - val_loss: 1.3589 - val_accuracy: 0.5423\n",
            "Epoch 8/200\n",
            "375/375 [==============================] - 2s 4ms/step - loss: 1.3376 - accuracy: 0.5178 - val_loss: 1.2156 - val_accuracy: 0.5904\n",
            "Epoch 9/200\n",
            "375/375 [==============================] - 2s 4ms/step - loss: 1.3370 - accuracy: 0.5186 - val_loss: 1.2650 - val_accuracy: 0.5608\n",
            "Epoch 10/200\n",
            "375/375 [==============================] - 2s 4ms/step - loss: 1.3250 - accuracy: 0.5215 - val_loss: 1.1985 - val_accuracy: 0.6161\n",
            "Epoch 11/200\n",
            "375/375 [==============================] - 2s 4ms/step - loss: 1.3302 - accuracy: 0.5210 - val_loss: 1.2156 - val_accuracy: 0.6173\n",
            "Epoch 12/200\n",
            "375/375 [==============================] - 2s 4ms/step - loss: 1.3186 - accuracy: 0.5272 - val_loss: 1.1950 - val_accuracy: 0.6284\n",
            "Epoch 13/200\n",
            "375/375 [==============================] - 2s 4ms/step - loss: 1.3140 - accuracy: 0.5254 - val_loss: 1.1835 - val_accuracy: 0.6290\n",
            "Epoch 14/200\n",
            "375/375 [==============================] - 2s 4ms/step - loss: 1.2977 - accuracy: 0.5337 - val_loss: 1.1598 - val_accuracy: 0.6260\n",
            "Epoch 15/200\n",
            "375/375 [==============================] - 1s 4ms/step - loss: 1.2961 - accuracy: 0.5331 - val_loss: 1.1845 - val_accuracy: 0.6002\n",
            "Epoch 16/200\n",
            "375/375 [==============================] - 2s 4ms/step - loss: 1.2979 - accuracy: 0.5347 - val_loss: 1.2334 - val_accuracy: 0.5782\n",
            "Epoch 17/200\n",
            "375/375 [==============================] - 2s 4ms/step - loss: 1.2753 - accuracy: 0.5437 - val_loss: 1.1940 - val_accuracy: 0.6013\n",
            "Epoch 18/200\n",
            "375/375 [==============================] - 2s 4ms/step - loss: 1.2754 - accuracy: 0.5429 - val_loss: 1.1439 - val_accuracy: 0.6504\n",
            "Epoch 19/200\n",
            "375/375 [==============================] - 2s 4ms/step - loss: 1.2629 - accuracy: 0.5474 - val_loss: 1.1946 - val_accuracy: 0.6105\n",
            "Epoch 20/200\n",
            "375/375 [==============================] - 2s 4ms/step - loss: 1.2617 - accuracy: 0.5501 - val_loss: 1.1171 - val_accuracy: 0.6431\n",
            "Epoch 21/200\n",
            "375/375 [==============================] - 1s 4ms/step - loss: 1.2581 - accuracy: 0.5524 - val_loss: 1.2741 - val_accuracy: 0.5790\n",
            "Epoch 22/200\n",
            "375/375 [==============================] - 2s 4ms/step - loss: 1.2498 - accuracy: 0.5542 - val_loss: 1.1282 - val_accuracy: 0.6531\n",
            "Epoch 23/200\n",
            "375/375 [==============================] - 2s 4ms/step - loss: 1.2344 - accuracy: 0.5593 - val_loss: 1.0859 - val_accuracy: 0.6633\n",
            "Epoch 24/200\n",
            "375/375 [==============================] - 2s 4ms/step - loss: 1.2350 - accuracy: 0.5603 - val_loss: 1.1296 - val_accuracy: 0.6203\n",
            "Epoch 25/200\n",
            "375/375 [==============================] - 2s 4ms/step - loss: 1.2289 - accuracy: 0.5619 - val_loss: 1.3007 - val_accuracy: 0.5460\n",
            "Epoch 26/200\n",
            "375/375 [==============================] - 2s 4ms/step - loss: 1.2218 - accuracy: 0.5661 - val_loss: 1.0867 - val_accuracy: 0.6587\n",
            "Epoch 27/200\n",
            "375/375 [==============================] - 2s 4ms/step - loss: 1.2113 - accuracy: 0.5711 - val_loss: 1.1353 - val_accuracy: 0.6316\n",
            "Epoch 28/200\n",
            "375/375 [==============================] - 2s 4ms/step - loss: 1.2079 - accuracy: 0.5711 - val_loss: 1.1045 - val_accuracy: 0.6453\n",
            "Epoch 29/200\n",
            "375/375 [==============================] - 2s 4ms/step - loss: 1.1997 - accuracy: 0.5720 - val_loss: 1.0466 - val_accuracy: 0.6710\n",
            "Epoch 30/200\n",
            "375/375 [==============================] - 2s 4ms/step - loss: 1.2016 - accuracy: 0.5724 - val_loss: 1.0543 - val_accuracy: 0.6706\n",
            "Epoch 31/200\n",
            "375/375 [==============================] - 2s 4ms/step - loss: 1.1995 - accuracy: 0.5734 - val_loss: 1.0715 - val_accuracy: 0.6593\n",
            "Epoch 32/200\n",
            "375/375 [==============================] - 2s 4ms/step - loss: 1.1884 - accuracy: 0.5802 - val_loss: 1.0273 - val_accuracy: 0.6817\n",
            "Epoch 33/200\n",
            "375/375 [==============================] - 2s 4ms/step - loss: 1.1767 - accuracy: 0.5807 - val_loss: 1.0216 - val_accuracy: 0.6908\n",
            "Epoch 34/200\n",
            "375/375 [==============================] - 2s 4ms/step - loss: 1.1658 - accuracy: 0.5861 - val_loss: 1.0244 - val_accuracy: 0.6733\n",
            "Epoch 35/200\n",
            "375/375 [==============================] - 2s 4ms/step - loss: 1.1708 - accuracy: 0.5828 - val_loss: 1.0167 - val_accuracy: 0.6874\n",
            "Epoch 36/200\n",
            "375/375 [==============================] - 2s 4ms/step - loss: 1.1728 - accuracy: 0.5815 - val_loss: 1.0176 - val_accuracy: 0.6838\n",
            "Epoch 37/200\n",
            "375/375 [==============================] - 2s 4ms/step - loss: 1.1496 - accuracy: 0.5924 - val_loss: 1.0086 - val_accuracy: 0.6812\n",
            "Epoch 38/200\n",
            "375/375 [==============================] - 2s 4ms/step - loss: 1.1450 - accuracy: 0.5900 - val_loss: 1.0342 - val_accuracy: 0.6628\n",
            "Epoch 39/200\n",
            "375/375 [==============================] - 2s 4ms/step - loss: 1.1382 - accuracy: 0.5959 - val_loss: 1.0228 - val_accuracy: 0.6710\n",
            "Epoch 40/200\n",
            "375/375 [==============================] - 2s 4ms/step - loss: 1.1313 - accuracy: 0.5997 - val_loss: 1.0928 - val_accuracy: 0.6357\n",
            "Epoch 41/200\n",
            "375/375 [==============================] - 2s 4ms/step - loss: 1.1307 - accuracy: 0.5994 - val_loss: 0.9710 - val_accuracy: 0.6992\n",
            "Epoch 42/200\n",
            "375/375 [==============================] - 2s 4ms/step - loss: 1.1253 - accuracy: 0.6009 - val_loss: 0.9776 - val_accuracy: 0.6998\n",
            "Epoch 43/200\n",
            "375/375 [==============================] - 2s 4ms/step - loss: 1.1177 - accuracy: 0.6025 - val_loss: 0.9726 - val_accuracy: 0.7042\n",
            "Epoch 44/200\n",
            "375/375 [==============================] - 2s 4ms/step - loss: 1.1087 - accuracy: 0.6044 - val_loss: 1.0107 - val_accuracy: 0.6671\n",
            "Epoch 45/200\n",
            "375/375 [==============================] - 2s 4ms/step - loss: 1.1039 - accuracy: 0.6082 - val_loss: 1.0259 - val_accuracy: 0.6659\n",
            "Epoch 46/200\n",
            "375/375 [==============================] - 2s 4ms/step - loss: 1.1003 - accuracy: 0.6078 - val_loss: 0.9739 - val_accuracy: 0.7066\n",
            "Epoch 47/200\n",
            "375/375 [==============================] - 2s 4ms/step - loss: 1.0894 - accuracy: 0.6128 - val_loss: 0.9919 - val_accuracy: 0.6854\n",
            "Epoch 48/200\n",
            "375/375 [==============================] - 2s 4ms/step - loss: 1.0906 - accuracy: 0.6128 - val_loss: 0.9570 - val_accuracy: 0.6908\n",
            "Epoch 49/200\n",
            "375/375 [==============================] - 2s 4ms/step - loss: 1.0829 - accuracy: 0.6149 - val_loss: 0.9363 - val_accuracy: 0.6952\n",
            "Epoch 50/200\n",
            "375/375 [==============================] - 2s 4ms/step - loss: 1.0825 - accuracy: 0.6147 - val_loss: 0.9658 - val_accuracy: 0.6946\n",
            "Epoch 51/200\n",
            "375/375 [==============================] - 2s 4ms/step - loss: 1.0741 - accuracy: 0.6186 - val_loss: 0.9276 - val_accuracy: 0.7143\n",
            "Epoch 52/200\n",
            "375/375 [==============================] - 2s 4ms/step - loss: 1.0669 - accuracy: 0.6242 - val_loss: 0.9247 - val_accuracy: 0.6975\n",
            "Epoch 53/200\n",
            "375/375 [==============================] - 2s 4ms/step - loss: 1.0677 - accuracy: 0.6189 - val_loss: 0.9220 - val_accuracy: 0.7044\n",
            "Epoch 54/200\n",
            "375/375 [==============================] - 2s 4ms/step - loss: 1.0520 - accuracy: 0.6281 - val_loss: 0.9873 - val_accuracy: 0.6875\n",
            "Epoch 55/200\n",
            "375/375 [==============================] - 2s 4ms/step - loss: 1.0574 - accuracy: 0.6229 - val_loss: 0.9124 - val_accuracy: 0.7167\n",
            "Epoch 56/200\n",
            "375/375 [==============================] - 2s 4ms/step - loss: 1.0618 - accuracy: 0.6220 - val_loss: 0.8950 - val_accuracy: 0.7297\n",
            "Epoch 57/200\n",
            "375/375 [==============================] - 2s 4ms/step - loss: 1.0437 - accuracy: 0.6306 - val_loss: 0.9896 - val_accuracy: 0.6672\n",
            "Epoch 58/200\n",
            "375/375 [==============================] - 2s 4ms/step - loss: 1.0401 - accuracy: 0.6343 - val_loss: 0.8983 - val_accuracy: 0.7138\n",
            "Epoch 59/200\n",
            "375/375 [==============================] - 2s 4ms/step - loss: 1.0392 - accuracy: 0.6336 - val_loss: 0.9055 - val_accuracy: 0.7036\n",
            "Epoch 60/200\n",
            "375/375 [==============================] - 2s 4ms/step - loss: 1.0365 - accuracy: 0.6331 - val_loss: 0.8884 - val_accuracy: 0.7193\n",
            "Epoch 61/200\n",
            "375/375 [==============================] - 2s 4ms/step - loss: 1.0236 - accuracy: 0.6367 - val_loss: 0.8754 - val_accuracy: 0.7218\n",
            "Epoch 62/200\n",
            "375/375 [==============================] - 2s 4ms/step - loss: 1.0280 - accuracy: 0.6360 - val_loss: 0.8804 - val_accuracy: 0.7251\n",
            "Epoch 63/200\n",
            "375/375 [==============================] - 2s 4ms/step - loss: 1.0264 - accuracy: 0.6383 - val_loss: 0.8851 - val_accuracy: 0.7069\n",
            "Epoch 64/200\n",
            "375/375 [==============================] - 2s 4ms/step - loss: 1.0193 - accuracy: 0.6385 - val_loss: 0.8942 - val_accuracy: 0.7107\n",
            "Epoch 65/200\n",
            "375/375 [==============================] - 2s 4ms/step - loss: 1.0195 - accuracy: 0.6398 - val_loss: 0.9529 - val_accuracy: 0.7012\n",
            "Epoch 66/200\n",
            "375/375 [==============================] - 2s 4ms/step - loss: 1.0100 - accuracy: 0.6470 - val_loss: 0.8621 - val_accuracy: 0.7351\n",
            "Epoch 67/200\n",
            "375/375 [==============================] - 2s 4ms/step - loss: 1.0133 - accuracy: 0.6421 - val_loss: 0.8459 - val_accuracy: 0.7427\n",
            "Epoch 68/200\n",
            "375/375 [==============================] - 2s 4ms/step - loss: 1.0011 - accuracy: 0.6479 - val_loss: 0.9301 - val_accuracy: 0.6877\n",
            "Epoch 69/200\n",
            "375/375 [==============================] - 2s 4ms/step - loss: 1.0007 - accuracy: 0.6497 - val_loss: 0.8473 - val_accuracy: 0.7392\n",
            "Epoch 70/200\n",
            "375/375 [==============================] - 2s 4ms/step - loss: 1.0019 - accuracy: 0.6474 - val_loss: 0.8582 - val_accuracy: 0.7284\n",
            "Epoch 71/200\n",
            "375/375 [==============================] - 2s 4ms/step - loss: 0.9969 - accuracy: 0.6475 - val_loss: 0.9272 - val_accuracy: 0.6862\n",
            "Epoch 72/200\n",
            "375/375 [==============================] - 2s 4ms/step - loss: 0.9915 - accuracy: 0.6512 - val_loss: 0.8638 - val_accuracy: 0.7447\n",
            "Epoch 73/200\n",
            "375/375 [==============================] - 2s 4ms/step - loss: 0.9837 - accuracy: 0.6541 - val_loss: 0.8297 - val_accuracy: 0.7576\n",
            "Epoch 74/200\n",
            "375/375 [==============================] - 2s 4ms/step - loss: 0.9917 - accuracy: 0.6535 - val_loss: 0.8557 - val_accuracy: 0.7380\n",
            "Epoch 75/200\n",
            "375/375 [==============================] - 2s 4ms/step - loss: 0.9795 - accuracy: 0.6547 - val_loss: 0.8295 - val_accuracy: 0.7480\n",
            "Epoch 76/200\n",
            "375/375 [==============================] - 2s 4ms/step - loss: 0.9815 - accuracy: 0.6561 - val_loss: 0.8540 - val_accuracy: 0.7186\n",
            "Epoch 77/200\n",
            "375/375 [==============================] - 2s 4ms/step - loss: 0.9806 - accuracy: 0.6546 - val_loss: 0.8150 - val_accuracy: 0.7558\n",
            "Epoch 78/200\n",
            "375/375 [==============================] - 2s 4ms/step - loss: 0.9737 - accuracy: 0.6588 - val_loss: 0.8529 - val_accuracy: 0.7354\n",
            "Epoch 79/200\n",
            "375/375 [==============================] - 2s 4ms/step - loss: 0.9767 - accuracy: 0.6598 - val_loss: 0.8779 - val_accuracy: 0.7203\n",
            "Epoch 80/200\n",
            "375/375 [==============================] - 2s 4ms/step - loss: 0.9634 - accuracy: 0.6630 - val_loss: 0.8179 - val_accuracy: 0.7513\n",
            "Epoch 81/200\n",
            "375/375 [==============================] - 2s 4ms/step - loss: 0.9617 - accuracy: 0.6651 - val_loss: 0.8115 - val_accuracy: 0.7629\n",
            "Epoch 82/200\n",
            "375/375 [==============================] - 2s 4ms/step - loss: 0.9602 - accuracy: 0.6643 - val_loss: 0.8228 - val_accuracy: 0.7362\n",
            "Epoch 83/200\n",
            "375/375 [==============================] - 2s 4ms/step - loss: 0.9652 - accuracy: 0.6636 - val_loss: 0.8004 - val_accuracy: 0.7602\n",
            "Epoch 84/200\n",
            "375/375 [==============================] - 2s 4ms/step - loss: 0.9548 - accuracy: 0.6692 - val_loss: 0.8097 - val_accuracy: 0.7452\n",
            "Epoch 85/200\n",
            "375/375 [==============================] - 2s 4ms/step - loss: 0.9551 - accuracy: 0.6679 - val_loss: 0.8030 - val_accuracy: 0.7606\n",
            "Epoch 86/200\n",
            "375/375 [==============================] - 2s 4ms/step - loss: 0.9502 - accuracy: 0.6712 - val_loss: 0.8249 - val_accuracy: 0.7598\n",
            "Epoch 87/200\n",
            "375/375 [==============================] - 2s 4ms/step - loss: 0.9534 - accuracy: 0.6701 - val_loss: 0.7868 - val_accuracy: 0.7614\n",
            "Epoch 88/200\n",
            "375/375 [==============================] - 2s 4ms/step - loss: 0.9441 - accuracy: 0.6740 - val_loss: 0.8148 - val_accuracy: 0.7383\n",
            "Epoch 89/200\n",
            "375/375 [==============================] - 2s 5ms/step - loss: 0.9443 - accuracy: 0.6735 - val_loss: 0.7866 - val_accuracy: 0.7544\n",
            "Epoch 90/200\n",
            "375/375 [==============================] - 2s 5ms/step - loss: 0.9393 - accuracy: 0.6744 - val_loss: 0.7889 - val_accuracy: 0.7737\n",
            "Epoch 91/200\n",
            "375/375 [==============================] - 2s 5ms/step - loss: 0.9374 - accuracy: 0.6767 - val_loss: 0.8736 - val_accuracy: 0.6755\n",
            "Epoch 92/200\n",
            "375/375 [==============================] - 2s 4ms/step - loss: 0.9390 - accuracy: 0.6780 - val_loss: 0.7906 - val_accuracy: 0.7577\n",
            "Epoch 93/200\n",
            "375/375 [==============================] - 2s 4ms/step - loss: 0.9330 - accuracy: 0.6794 - val_loss: 0.8131 - val_accuracy: 0.7289\n",
            "Epoch 94/200\n",
            "375/375 [==============================] - 2s 4ms/step - loss: 0.9298 - accuracy: 0.6755 - val_loss: 0.8923 - val_accuracy: 0.7021\n",
            "Epoch 95/200\n",
            "375/375 [==============================] - 2s 4ms/step - loss: 0.9180 - accuracy: 0.6860 - val_loss: 0.7773 - val_accuracy: 0.7618\n",
            "Epoch 96/200\n",
            "375/375 [==============================] - 2s 4ms/step - loss: 0.9264 - accuracy: 0.6810 - val_loss: 0.7665 - val_accuracy: 0.7723\n",
            "Epoch 97/200\n",
            "375/375 [==============================] - 2s 4ms/step - loss: 0.9226 - accuracy: 0.6822 - val_loss: 0.8060 - val_accuracy: 0.7258\n",
            "Epoch 98/200\n",
            "375/375 [==============================] - 2s 4ms/step - loss: 0.9179 - accuracy: 0.6850 - val_loss: 0.7673 - val_accuracy: 0.7644\n",
            "Epoch 99/200\n",
            "375/375 [==============================] - 2s 4ms/step - loss: 0.9175 - accuracy: 0.6857 - val_loss: 0.7589 - val_accuracy: 0.7673\n",
            "Epoch 100/200\n",
            "375/375 [==============================] - 2s 4ms/step - loss: 0.9167 - accuracy: 0.6841 - val_loss: 0.8068 - val_accuracy: 0.7358\n",
            "Epoch 101/200\n",
            "375/375 [==============================] - 2s 4ms/step - loss: 0.9156 - accuracy: 0.6864 - val_loss: 0.7821 - val_accuracy: 0.7582\n",
            "Epoch 102/200\n",
            "375/375 [==============================] - 2s 4ms/step - loss: 0.9095 - accuracy: 0.6875 - val_loss: 0.7614 - val_accuracy: 0.7709\n",
            "Epoch 103/200\n",
            "375/375 [==============================] - 2s 4ms/step - loss: 0.9113 - accuracy: 0.6876 - val_loss: 0.8311 - val_accuracy: 0.7265\n",
            "Epoch 104/200\n",
            "375/375 [==============================] - 2s 4ms/step - loss: 0.9023 - accuracy: 0.6895 - val_loss: 0.7587 - val_accuracy: 0.7943\n",
            "Epoch 105/200\n",
            "375/375 [==============================] - 2s 4ms/step - loss: 0.9031 - accuracy: 0.6922 - val_loss: 0.7946 - val_accuracy: 0.7397\n",
            "Epoch 106/200\n",
            "375/375 [==============================] - 2s 4ms/step - loss: 0.8979 - accuracy: 0.6938 - val_loss: 0.7531 - val_accuracy: 0.7761\n",
            "Epoch 107/200\n",
            "375/375 [==============================] - 2s 4ms/step - loss: 0.8932 - accuracy: 0.6974 - val_loss: 0.7661 - val_accuracy: 0.7712\n",
            "Epoch 108/200\n",
            "375/375 [==============================] - 2s 4ms/step - loss: 0.8939 - accuracy: 0.6970 - val_loss: 0.7799 - val_accuracy: 0.7520\n",
            "Epoch 109/200\n",
            "375/375 [==============================] - 2s 4ms/step - loss: 0.8890 - accuracy: 0.6978 - val_loss: 0.7783 - val_accuracy: 0.7519\n",
            "Epoch 110/200\n",
            "375/375 [==============================] - 2s 4ms/step - loss: 0.8964 - accuracy: 0.6940 - val_loss: 0.8120 - val_accuracy: 0.7373\n",
            "Epoch 111/200\n",
            "375/375 [==============================] - 2s 4ms/step - loss: 0.8823 - accuracy: 0.7032 - val_loss: 0.7214 - val_accuracy: 0.7888\n",
            "Epoch 112/200\n",
            "375/375 [==============================] - 2s 4ms/step - loss: 0.8842 - accuracy: 0.7016 - val_loss: 0.7210 - val_accuracy: 0.7922\n",
            "Epoch 113/200\n",
            "375/375 [==============================] - 2s 4ms/step - loss: 0.8859 - accuracy: 0.6981 - val_loss: 0.7873 - val_accuracy: 0.7346\n",
            "Epoch 114/200\n",
            "375/375 [==============================] - 2s 4ms/step - loss: 0.8750 - accuracy: 0.7040 - val_loss: 0.7234 - val_accuracy: 0.7918\n",
            "Epoch 115/200\n",
            "375/375 [==============================] - 2s 4ms/step - loss: 0.8854 - accuracy: 0.7020 - val_loss: 0.7672 - val_accuracy: 0.7576\n",
            "Epoch 116/200\n",
            "375/375 [==============================] - 2s 4ms/step - loss: 0.8794 - accuracy: 0.7025 - val_loss: 0.8103 - val_accuracy: 0.7395\n",
            "Epoch 117/200\n",
            "375/375 [==============================] - 2s 4ms/step - loss: 0.8722 - accuracy: 0.7066 - val_loss: 0.7354 - val_accuracy: 0.7782\n",
            "Epoch 118/200\n",
            "375/375 [==============================] - 2s 4ms/step - loss: 0.8754 - accuracy: 0.7042 - val_loss: 0.7964 - val_accuracy: 0.7407\n",
            "Epoch 119/200\n",
            "375/375 [==============================] - 2s 4ms/step - loss: 0.8667 - accuracy: 0.7072 - val_loss: 0.7176 - val_accuracy: 0.7828\n"
          ],
          "name": "stdout"
        }
      ]
    },
    {
      "cell_type": "code",
      "metadata": {
        "colab": {
          "base_uri": "https://localhost:8080/"
        },
        "id": "PeYbgpQTyoXo",
        "outputId": "6a6dad4f-0a82-470f-a7c5-e9bb0219cd09"
      },
      "source": [
        "# 모델 평가\n",
        "test_loss, test_acc = model.evaluate(X_test, Y_test)\n",
        "print(\"Test loss: \", test_loss, \"Test accuracy:\", test_acc)"
      ],
      "execution_count": 28,
      "outputs": [
        {
          "output_type": "stream",
          "text": [
            "313/313 [==============================] - 0s 1ms/step - loss: 13288.0410 - accuracy: 0.6532\n",
            "Test loss:  13288.041015625 Test accuracy: 0.6531999707221985\n"
          ],
          "name": "stdout"
        }
      ]
    },
    {
      "cell_type": "code",
      "metadata": {
        "id": "zX9gUPumzVVB"
      },
      "source": [
        "# 모델 저장\n",
        "model.save('mnist_opt_level_02_dropout.h5')"
      ],
      "execution_count": 29,
      "outputs": []
    },
    {
      "cell_type": "code",
      "metadata": {
        "colab": {
          "base_uri": "https://localhost:8080/",
          "height": 265
        },
        "id": "1b4NPyHk5M1P",
        "outputId": "b63ea35f-b5e3-4a53-a45f-9e21a82b0b93"
      },
      "source": [
        "import matplotlib\n",
        "import matplotlib.pyplot as plt\n",
        "\n",
        "fig, loss_ax =  plt.subplots()\n",
        "acc_ax = loss_ax.twinx()\n",
        "\n",
        "loss_ax.plot(hist.history['loss'], 'y', label='train loss')\n",
        "loss_ax.plot(hist.history['val_loss'], 'g', label='validation loss')\n",
        "acc_ax.plot(hist.history['accuracy'], 'b', label='train accuracy')\n",
        "acc_ax.plot(hist.history['val_accuracy'], 'r', label='validation accuracy')\n",
        "\n",
        "plt.legend(['train loss', 'train accuracy'])\n",
        "plt.show()"
      ],
      "execution_count": 37,
      "outputs": [
        {
          "output_type": "display_data",
          "data": {
            "image/png": "[encoded data removed]",
            "text/plain": [
              "<Figure size 432x288 with 2 Axes>"
            ]
          },
          "metadata": {
            "tags": [],
            "needs_background": "light"
          }
        }
      ]
    }
  ]
}