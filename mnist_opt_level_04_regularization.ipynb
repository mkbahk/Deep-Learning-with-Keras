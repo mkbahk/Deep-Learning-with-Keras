{
  "nbformat": 4,
  "nbformat_minor": 0,
  "metadata": {
    "colab": {
      "name": "mnist_opt_level_04_regularization.ipynb",
      "provenance": [],
      "collapsed_sections": [],
      "authorship_tag": "ABX9TyNvaZk0eDYhPxXQTekWdbdD",
      "include_colab_link": true
    },
    "kernelspec": {
      "name": "python3",
      "display_name": "Python 3"
    },
    "accelerator": "GPU"
  },
  "cells": [
    {
      "cell_type": "markdown",
      "metadata": {
        "id": "view-in-github",
        "colab_type": "text"
      },
      "source": [
        "<a href=\"https://colab.research.google.com/github/mkbahk/DeepLearningwithKeras/blob/master/mnist_opt_level_04_regularization.ipynb\" target=\"_parent\"><img src=\"https://colab.research.google.com/assets/colab-badge.svg\" alt=\"Open In Colab\"/></a>"
      ]
    },
    {
      "cell_type": "code",
      "metadata": {
        "id": "CLiJzZJNsPOB"
      },
      "source": [
        "import tensorflow as tf\n",
        "import numpy as np\n",
        "from tensorflow import keras"
      ],
      "execution_count": null,
      "outputs": []
    },
    {
      "cell_type": "code",
      "metadata": {
        "id": "ZmA6HYaoseKM"
      },
      "source": [
        "#하이퍼 파라메터 정의(매개변수들)\n",
        "EPOCHS = 200\n",
        "BATCH_SIZE = 128\n",
        "VERBOSE = 1\n",
        "NB_CLASSES = 10 #출력갯수 = 숫자의 갯수\n",
        "N_HIDDEN = 128 \n",
        "VALIDATION_SPLIT = 0.2 #검증을 위해 남겨둘 훈련 데이타\n",
        "DROPOUT = 0.3"
      ],
      "execution_count": null,
      "outputs": []
    },
    {
      "cell_type": "code",
      "metadata": {
        "colab": {
          "base_uri": "https://localhost:8080/"
        },
        "id": "6a_uWCrqtEIJ",
        "outputId": "18706c1b-c71c-4cf7-c741-c316d7049de7"
      },
      "source": [
        "# MNIST 데이타셋 로드(MNIST는 숫자만, eMNIST는 숫자+알파벳, 패션MNIST는 옷그림들이 있다)\n",
        "# X값 훈련용, 테스트 데이터를 각각 60,000개와 10,000개로 나눈다\n",
        "# 레이블(정답, Y값)에 대한 원핫 인코딩을 자동으로 적용한다\n",
        "# 아래 데이타셋을 .png 형태의 이미지를 이미 숫자화한 배열형태로 바꾸어 놓은 것이며, .csv형태가 분석 초기 데이타이다.\n",
        "mnist = keras.datasets.mnist\n",
        "(X_train, Y_train), (X_test, Y_test) = mnist.load_data()\n",
        "\n",
        "# X_train은 60,000개 행으로 28x28 값을 가진다. 이를 60,000 x 784(28x28)의 행렬형태로 변환한다.\n",
        "RESHAPED = 784\n",
        "\n",
        "X_train = X_train.reshape(60000, RESHAPED)\n",
        "X_test = X_test.reshape(10000, RESHAPED)\n",
        "\n",
        "X_train = X_train.astype('float32')\n",
        "X_test = X_test.astype('float32')\n",
        "\n",
        "# 입력을 [0, 1] 사이로 정규화\n",
        "X_train /= 255.0\n",
        "X_train /= 255.0\n",
        "\n",
        "print(X_train.shape[0], 'train samples')\n",
        "print(X_test.shape[0], 'train samples')\n",
        "\n",
        "# 레이블을 원한 엔코딩, 그래야 행렬 연산이 가능함\n",
        "Y_train = tf.keras.utils.to_categorical(Y_train, NB_CLASSES)\n",
        "Y_test = tf.keras.utils.to_categorical(Y_test, NB_CLASSES)"
      ],
      "execution_count": null,
      "outputs": [
        {
          "output_type": "stream",
          "text": [
            "60000 train samples\n",
            "10000 train samples\n"
          ],
          "name": "stdout"
        }
      ]
    },
    {
      "cell_type": "code",
      "metadata": {
        "id": "yLoTJoMXvC4S"
      },
      "source": [
        "# 모델 구축(정의)\n",
        "model = tf.keras.models.Sequential()\n",
        "model.add(keras.layers.Dense(N_HIDDEN, input_shape=(RESHAPED,), name='input_Dense_layer_1', activation='relu', kernel_regularizer=l2(0.01), activity_regularizer=l2(0.01)))\n",
        "model.add(keras.layers.Dropout(DROPOUT))\n",
        "model.add(keras.layers.Dense(N_HIDDEN, name='hidden_Dense_layer_2', activation='relu'))\n",
        "model.add(keras.layers.Dropout(DROPOUT))\n",
        "model.add(keras.layers.Dense(NB_CLASSES, name='output_Dense_layer_3', activation='softmax'))"
      ],
      "execution_count": null,
      "outputs": []
    },
    {
      "cell_type": "code",
      "metadata": {
        "id": "rfRXM9Nhw5Kt"
      },
      "source": [
        "# 모델 컴파일\n",
        "model.compile(optimizer='Adam',\n",
        "             loss='categorical_crossentropy',\n",
        "             metrics=['accuracy'])"
      ],
      "execution_count": null,
      "outputs": []
    },
    {
      "cell_type": "code",
      "metadata": {
        "colab": {
          "base_uri": "https://localhost:8080/"
        },
        "id": "RsSr7R9RzMFm",
        "outputId": "8e5960d5-54d7-45d5-b65e-f84e56f84dc2"
      },
      "source": [
        "# 모델 형태 보기\n",
        "model.summary()"
      ],
      "execution_count": null,
      "outputs": [
        {
          "output_type": "stream",
          "text": [
            "Model: \"sequential_4\"\n",
            "_________________________________________________________________\n",
            "Layer (type)                 Output Shape              Param #   \n",
            "=================================================================\n",
            "input_Dense_layer_1 (Dense)  (None, 128)               100480    \n",
            "_________________________________________________________________\n",
            "dropout_4 (Dropout)          (None, 128)               0         \n",
            "_________________________________________________________________\n",
            "hidden_Dense_layer_2 (Dense) (None, 128)               16512     \n",
            "_________________________________________________________________\n",
            "dropout_5 (Dropout)          (None, 128)               0         \n",
            "_________________________________________________________________\n",
            "output_Dense_layer_3 (Dense) (None, 10)                1290      \n",
            "=================================================================\n",
            "Total params: 118,282\n",
            "Trainable params: 118,282\n",
            "Non-trainable params: 0\n",
            "_________________________________________________________________\n"
          ],
          "name": "stdout"
        }
      ]
    },
    {
      "cell_type": "code",
      "metadata": {
        "colab": {
          "base_uri": "https://localhost:8080/"
        },
        "id": "ru4BliBKxrkG",
        "outputId": "fd7cffd0-a3f0-4812-fe8f-d50a4580903c"
      },
      "source": [
        "# 모델 훈련\n",
        "from keras.callbacks import EarlyStopping\n",
        "\n",
        "early_stopping = EarlyStopping(patience=15, mode='auto', monitor='val_accuracy')\n",
        "\n",
        "hist = model.fit(x = X_train, y = Y_train, \n",
        "          batch_size = BATCH_SIZE, epochs=EPOCHS,\n",
        "          verbose=VERBOSE, validation_split=VALIDATION_SPLIT,\n",
        "          callbacks=[early_stopping])"
      ],
      "execution_count": null,
      "outputs": [
        {
          "output_type": "stream",
          "text": [
            "Epoch 1/200\n",
            "375/375 [==============================] - 1s 4ms/step - loss: 2.4015 - accuracy: 0.1625 - val_loss: 2.0724 - val_accuracy: 0.2462\n",
            "Epoch 2/200\n",
            "375/375 [==============================] - 1s 3ms/step - loss: 1.8341 - accuracy: 0.3685 - val_loss: 1.5735 - val_accuracy: 0.4758\n",
            "Epoch 3/200\n",
            "375/375 [==============================] - 1s 3ms/step - loss: 1.5350 - accuracy: 0.4743 - val_loss: 1.3669 - val_accuracy: 0.5855\n",
            "Epoch 4/200\n",
            "375/375 [==============================] - 1s 3ms/step - loss: 1.3931 - accuracy: 0.5462 - val_loss: 1.2591 - val_accuracy: 0.6337\n",
            "Epoch 5/200\n",
            "375/375 [==============================] - 1s 3ms/step - loss: 1.2916 - accuracy: 0.6078 - val_loss: 1.1509 - val_accuracy: 0.7079\n",
            "Epoch 6/200\n",
            "375/375 [==============================] - 1s 3ms/step - loss: 1.2023 - accuracy: 0.6609 - val_loss: 1.0405 - val_accuracy: 0.7666\n",
            "Epoch 7/200\n",
            "375/375 [==============================] - 1s 3ms/step - loss: 1.1075 - accuracy: 0.7179 - val_loss: 0.9299 - val_accuracy: 0.8211\n",
            "Epoch 8/200\n",
            "375/375 [==============================] - 1s 3ms/step - loss: 1.0123 - accuracy: 0.7524 - val_loss: 0.8575 - val_accuracy: 0.8254\n",
            "Epoch 9/200\n",
            "375/375 [==============================] - 1s 3ms/step - loss: 0.9557 - accuracy: 0.7693 - val_loss: 0.8048 - val_accuracy: 0.8380\n",
            "Epoch 10/200\n",
            "375/375 [==============================] - 1s 3ms/step - loss: 0.9068 - accuracy: 0.7820 - val_loss: 0.7761 - val_accuracy: 0.8435\n",
            "Epoch 11/200\n",
            "375/375 [==============================] - 1s 3ms/step - loss: 0.8736 - accuracy: 0.7937 - val_loss: 0.7035 - val_accuracy: 0.8627\n",
            "Epoch 12/200\n",
            "375/375 [==============================] - 1s 3ms/step - loss: 0.8455 - accuracy: 0.8009 - val_loss: 0.6928 - val_accuracy: 0.8668\n",
            "Epoch 13/200\n",
            "375/375 [==============================] - 1s 3ms/step - loss: 0.8192 - accuracy: 0.8096 - val_loss: 0.7499 - val_accuracy: 0.8351\n",
            "Epoch 14/200\n",
            "375/375 [==============================] - 1s 3ms/step - loss: 0.7887 - accuracy: 0.8158 - val_loss: 0.6294 - val_accuracy: 0.8770\n",
            "Epoch 15/200\n",
            "375/375 [==============================] - 1s 3ms/step - loss: 0.7707 - accuracy: 0.8231 - val_loss: 0.6528 - val_accuracy: 0.8593\n",
            "Epoch 16/200\n",
            "375/375 [==============================] - 1s 3ms/step - loss: 0.7517 - accuracy: 0.8289 - val_loss: 0.6149 - val_accuracy: 0.8767\n",
            "Epoch 17/200\n",
            "375/375 [==============================] - 1s 3ms/step - loss: 0.7280 - accuracy: 0.8336 - val_loss: 0.5715 - val_accuracy: 0.8909\n",
            "Epoch 18/200\n",
            "375/375 [==============================] - 1s 3ms/step - loss: 0.7107 - accuracy: 0.8375 - val_loss: 0.5839 - val_accuracy: 0.8818\n",
            "Epoch 19/200\n",
            "375/375 [==============================] - 1s 3ms/step - loss: 0.6993 - accuracy: 0.8412 - val_loss: 0.5707 - val_accuracy: 0.8808\n",
            "Epoch 20/200\n",
            "375/375 [==============================] - 1s 3ms/step - loss: 0.6813 - accuracy: 0.8449 - val_loss: 0.5425 - val_accuracy: 0.8959\n",
            "Epoch 21/200\n",
            "375/375 [==============================] - 1s 3ms/step - loss: 0.6699 - accuracy: 0.8499 - val_loss: 0.5096 - val_accuracy: 0.9054\n",
            "Epoch 22/200\n",
            "375/375 [==============================] - 1s 3ms/step - loss: 0.6478 - accuracy: 0.8543 - val_loss: 0.5040 - val_accuracy: 0.9039\n",
            "Epoch 23/200\n",
            "375/375 [==============================] - 1s 3ms/step - loss: 0.6398 - accuracy: 0.8582 - val_loss: 0.4857 - val_accuracy: 0.9073\n",
            "Epoch 24/200\n",
            "375/375 [==============================] - 1s 3ms/step - loss: 0.6252 - accuracy: 0.8610 - val_loss: 0.4780 - val_accuracy: 0.9120\n",
            "Epoch 25/200\n",
            "375/375 [==============================] - 1s 3ms/step - loss: 0.6152 - accuracy: 0.8628 - val_loss: 0.5229 - val_accuracy: 0.8926\n",
            "Epoch 26/200\n",
            "375/375 [==============================] - 1s 3ms/step - loss: 0.6084 - accuracy: 0.8639 - val_loss: 0.4677 - val_accuracy: 0.9058\n",
            "Epoch 27/200\n",
            "375/375 [==============================] - 1s 3ms/step - loss: 0.6060 - accuracy: 0.8651 - val_loss: 0.4573 - val_accuracy: 0.9190\n",
            "Epoch 28/200\n",
            "375/375 [==============================] - 1s 3ms/step - loss: 0.5980 - accuracy: 0.8659 - val_loss: 0.4421 - val_accuracy: 0.9228\n",
            "Epoch 29/200\n",
            "375/375 [==============================] - 1s 3ms/step - loss: 0.5901 - accuracy: 0.8686 - val_loss: 0.4435 - val_accuracy: 0.9133\n",
            "Epoch 30/200\n",
            "375/375 [==============================] - 1s 3ms/step - loss: 0.5878 - accuracy: 0.8698 - val_loss: 0.4414 - val_accuracy: 0.9170\n",
            "Epoch 31/200\n",
            "375/375 [==============================] - 1s 3ms/step - loss: 0.5706 - accuracy: 0.8735 - val_loss: 0.4359 - val_accuracy: 0.9153\n",
            "Epoch 32/200\n",
            "375/375 [==============================] - 1s 3ms/step - loss: 0.5766 - accuracy: 0.8692 - val_loss: 0.4212 - val_accuracy: 0.9226\n",
            "Epoch 33/200\n",
            "375/375 [==============================] - 1s 3ms/step - loss: 0.5706 - accuracy: 0.8708 - val_loss: 0.4292 - val_accuracy: 0.9197\n",
            "Epoch 34/200\n",
            "375/375 [==============================] - 1s 3ms/step - loss: 0.5606 - accuracy: 0.8737 - val_loss: 0.4290 - val_accuracy: 0.9165\n",
            "Epoch 35/200\n",
            "375/375 [==============================] - 1s 3ms/step - loss: 0.5749 - accuracy: 0.8694 - val_loss: 0.4242 - val_accuracy: 0.9272\n",
            "Epoch 36/200\n",
            "375/375 [==============================] - 1s 3ms/step - loss: 0.5678 - accuracy: 0.8727 - val_loss: 0.4214 - val_accuracy: 0.9170\n",
            "Epoch 37/200\n",
            "375/375 [==============================] - 1s 3ms/step - loss: 0.5640 - accuracy: 0.8704 - val_loss: 0.4035 - val_accuracy: 0.9214\n",
            "Epoch 38/200\n",
            "375/375 [==============================] - 1s 3ms/step - loss: 0.5547 - accuracy: 0.8739 - val_loss: 0.4202 - val_accuracy: 0.9215\n",
            "Epoch 39/200\n",
            "375/375 [==============================] - 1s 3ms/step - loss: 0.5558 - accuracy: 0.8724 - val_loss: 0.3845 - val_accuracy: 0.9324\n",
            "Epoch 40/200\n",
            "375/375 [==============================] - 1s 3ms/step - loss: 0.5405 - accuracy: 0.8759 - val_loss: 0.3834 - val_accuracy: 0.9298\n",
            "Epoch 41/200\n",
            "375/375 [==============================] - 1s 3ms/step - loss: 0.5361 - accuracy: 0.8762 - val_loss: 0.3832 - val_accuracy: 0.9281\n",
            "Epoch 42/200\n",
            "375/375 [==============================] - 1s 3ms/step - loss: 0.5455 - accuracy: 0.8742 - val_loss: 0.3889 - val_accuracy: 0.9255\n",
            "Epoch 43/200\n",
            "375/375 [==============================] - 1s 3ms/step - loss: 0.5417 - accuracy: 0.8734 - val_loss: 0.3862 - val_accuracy: 0.9273\n",
            "Epoch 44/200\n",
            "375/375 [==============================] - 1s 3ms/step - loss: 0.5387 - accuracy: 0.8754 - val_loss: 0.3912 - val_accuracy: 0.9318\n",
            "Epoch 45/200\n",
            "375/375 [==============================] - 1s 3ms/step - loss: 0.5378 - accuracy: 0.8748 - val_loss: 0.3803 - val_accuracy: 0.9264\n",
            "Epoch 46/200\n",
            "375/375 [==============================] - 1s 3ms/step - loss: 0.5369 - accuracy: 0.8747 - val_loss: 0.3844 - val_accuracy: 0.9298\n",
            "Epoch 47/200\n",
            "375/375 [==============================] - 1s 3ms/step - loss: 0.5329 - accuracy: 0.8743 - val_loss: 0.3876 - val_accuracy: 0.9247\n",
            "Epoch 48/200\n",
            "375/375 [==============================] - 1s 3ms/step - loss: 0.5370 - accuracy: 0.8747 - val_loss: 0.3641 - val_accuracy: 0.9320\n",
            "Epoch 49/200\n",
            "375/375 [==============================] - 1s 3ms/step - loss: 0.5305 - accuracy: 0.8756 - val_loss: 0.3748 - val_accuracy: 0.9256\n",
            "Epoch 50/200\n",
            "375/375 [==============================] - 1s 3ms/step - loss: 0.5289 - accuracy: 0.8760 - val_loss: 0.3781 - val_accuracy: 0.9253\n",
            "Epoch 51/200\n",
            "375/375 [==============================] - 1s 3ms/step - loss: 0.5358 - accuracy: 0.8745 - val_loss: 0.3739 - val_accuracy: 0.9313\n",
            "Epoch 52/200\n",
            "375/375 [==============================] - 1s 3ms/step - loss: 0.5301 - accuracy: 0.8741 - val_loss: 0.3660 - val_accuracy: 0.9317\n",
            "Epoch 53/200\n",
            "375/375 [==============================] - 1s 3ms/step - loss: 0.5434 - accuracy: 0.8694 - val_loss: 0.3719 - val_accuracy: 0.9299\n",
            "Epoch 54/200\n",
            "375/375 [==============================] - 1s 3ms/step - loss: 0.5415 - accuracy: 0.8705 - val_loss: 0.3849 - val_accuracy: 0.9248\n"
          ],
          "name": "stdout"
        }
      ]
    },
    {
      "cell_type": "code",
      "metadata": {
        "colab": {
          "base_uri": "https://localhost:8080/"
        },
        "id": "PeYbgpQTyoXo",
        "outputId": "88e9909d-1201-448a-dad1-dbb30c75f77f"
      },
      "source": [
        "# 모델 평가\n",
        "test_loss, test_acc = model.evaluate(X_test, Y_test)\n",
        "print(\"Test loss: \", round(test_loss,4), \"Test accuracy:\", round(test_acc,4))"
      ],
      "execution_count": null,
      "outputs": [
        {
          "output_type": "stream",
          "text": [
            "313/313 [==============================] - 1s 2ms/step - loss: 15200.9922 - accuracy: 0.8442\n",
            "Test loss:  15200.9922 Test accuracy: 0.8442\n"
          ],
          "name": "stdout"
        }
      ]
    },
    {
      "cell_type": "code",
      "metadata": {
        "id": "zX9gUPumzVVB"
      },
      "source": [
        "# 모델 저장\n",
        "model.save('mnist_opt_level_04_Adam.h5')"
      ],
      "execution_count": null,
      "outputs": []
    },
    {
      "cell_type": "code",
      "metadata": {
        "colab": {
          "base_uri": "https://localhost:8080/",
          "height": 266
        },
        "id": "1b4NPyHk5M1P",
        "outputId": "e951be96-c79d-43db-ea76-61aae934f18b"
      },
      "source": [
        "import matplotlib\n",
        "import matplotlib.pyplot as plt\n",
        "\n",
        "fig, loss_ax =  plt.subplots()\n",
        "acc_ax = loss_ax.twinx()\n",
        "\n",
        "loss_ax.plot(hist.history['loss'], 'y', label='train loss')\n",
        "#loss_ax.plot(hist.history['val_loss'], 'g', label='validation loss')\n",
        "acc_ax.plot(hist.history['accuracy'], 'b', label='train accuracy')\n",
        "#acc_ax.plot(hist.history['val_accuracy'], 'r', label='validation accuracy')\n",
        "\n",
        "plt.legend(['train loss', 'train accuracy'])\n",
        "plt.show()"
      ],
      "execution_count": null,
      "outputs": [
        {
          "output_type": "display_data",
          "data": {
            "image/png": "[encoded data removed]",
            "text/plain": [
              "<Figure size 432x288 with 2 Axes>"
            ]
          },
          "metadata": {
            "tags": [],
            "needs_background": "light"
          }
        }
      ]
    }
  ]
}