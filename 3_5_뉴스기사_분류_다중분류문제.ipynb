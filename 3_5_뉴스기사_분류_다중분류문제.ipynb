{
  "nbformat": 4,
  "nbformat_minor": 0,
  "metadata": {
    "colab": {
      "name": "3-5-뉴스기사 분류-다중분류문제.ipynb",
      "provenance": [],
      "authorship_tag": "ABX9TyOuxJz6It8R+x1ep2E8SCq5",
      "include_colab_link": true
    },
    "kernelspec": {
      "name": "python3",
      "display_name": "Python 3"
    },
    "accelerator": "TPU"
  },
  "cells": [
    {
      "cell_type": "markdown",
      "metadata": {
        "id": "view-in-github",
        "colab_type": "text"
      },
      "source": [
        "<a href=\"https://colab.research.google.com/github/mkbahk/DeepLearningwithKeras/blob/master/3_5_%EB%89%B4%EC%8A%A4%EA%B8%B0%EC%82%AC_%EB%B6%84%EB%A5%98_%EB%8B%A4%EC%A4%91%EB%B6%84%EB%A5%98%EB%AC%B8%EC%A0%9C.ipynb\" target=\"_parent\"><img src=\"https://colab.research.google.com/assets/colab-badge.svg\" alt=\"Open In Colab\"/></a>"
      ]
    },
    {
      "cell_type": "markdown",
      "metadata": {
        "id": "tQmRIGjDxiQO"
      },
      "source": [
        "로이터 데이타텟 로드하기\n",
        "\n",
        "\n",
        "\n",
        "\n"
      ]
    },
    {
      "cell_type": "code",
      "metadata": {
        "id": "8S6Jo8AvxTnI"
      },
      "source": [
        "from keras.datasets import reuters\n",
        "(train_data, train_labels), (test_data, test_labels) = reuters.load_data(num_words=10000)"
      ],
      "execution_count": 207,
      "outputs": []
    },
    {
      "cell_type": "code",
      "metadata": {
        "id": "q1SVH1hRx7Zl",
        "outputId": "7a2caa8c-2c28-44fb-d00c-82e5721caecc",
        "colab": {
          "base_uri": "https://localhost:8080/",
          "height": 36
        }
      },
      "source": [
        "len(train_data)"
      ],
      "execution_count": 208,
      "outputs": [
        {
          "output_type": "execute_result",
          "data": {
            "text/plain": [
              "8982"
            ]
          },
          "metadata": {
            "tags": []
          },
          "execution_count": 208
        }
      ]
    },
    {
      "cell_type": "code",
      "metadata": {
        "id": "Du69fXfkyDBD",
        "outputId": "69c20658-2a05-425c-e53f-32c082e063cf",
        "colab": {
          "base_uri": "https://localhost:8080/",
          "height": 36
        }
      },
      "source": [
        "len(test_data)"
      ],
      "execution_count": 209,
      "outputs": [
        {
          "output_type": "execute_result",
          "data": {
            "text/plain": [
              "2246"
            ]
          },
          "metadata": {
            "tags": []
          },
          "execution_count": 209
        }
      ]
    },
    {
      "cell_type": "code",
      "metadata": {
        "id": "siYY9ZJqyFGZ",
        "outputId": "b5051adf-41b6-4264-e72c-411deb3c647d",
        "colab": {
          "base_uri": "https://localhost:8080/",
          "height": 592
        }
      },
      "source": [
        "train_data[10]"
      ],
      "execution_count": 210,
      "outputs": [
        {
          "output_type": "execute_result",
          "data": {
            "text/plain": [
              "[1,\n",
              " 245,\n",
              " 273,\n",
              " 207,\n",
              " 156,\n",
              " 53,\n",
              " 74,\n",
              " 160,\n",
              " 26,\n",
              " 14,\n",
              " 46,\n",
              " 296,\n",
              " 26,\n",
              " 39,\n",
              " 74,\n",
              " 2979,\n",
              " 3554,\n",
              " 14,\n",
              " 46,\n",
              " 4689,\n",
              " 4329,\n",
              " 86,\n",
              " 61,\n",
              " 3499,\n",
              " 4795,\n",
              " 14,\n",
              " 61,\n",
              " 451,\n",
              " 4329,\n",
              " 17,\n",
              " 12]"
            ]
          },
          "metadata": {
            "tags": []
          },
          "execution_count": 210
        }
      ]
    },
    {
      "cell_type": "code",
      "metadata": {
        "id": "wBlX8LmqyLAv"
      },
      "source": [
        "word_index = reuters.get_word_index()\n",
        "reverse_word_index = dict([(value, key) for (key, value) in word_index.items()])\n",
        "decoded_newswire = ' '.join([reverse_word_index.get(i - 3, '?') for i in train_data[0]])"
      ],
      "execution_count": 211,
      "outputs": []
    },
    {
      "cell_type": "code",
      "metadata": {
        "id": "7jTice-MzIK8",
        "outputId": "0cef165f-726b-4634-c07a-774a990b501c",
        "colab": {
          "base_uri": "https://localhost:8080/",
          "height": 36
        }
      },
      "source": [
        "train_labels[10]"
      ],
      "execution_count": 212,
      "outputs": [
        {
          "output_type": "execute_result",
          "data": {
            "text/plain": [
              "3"
            ]
          },
          "metadata": {
            "tags": []
          },
          "execution_count": 212
        }
      ]
    },
    {
      "cell_type": "markdown",
      "metadata": {
        "id": "EWY7q7XtzWi9"
      },
      "source": [
        "데이터 인코딩하기"
      ]
    },
    {
      "cell_type": "code",
      "metadata": {
        "id": "ScUtrGyLzOz7"
      },
      "source": [
        "import numpy as np\n",
        "\n",
        "def vectorize_sequences(sequences, dimension=10000):\n",
        "  results = np.zeros((len(sequences), dimension))\n",
        "  for i, sequence in enumerate(sequences):\n",
        "    results[i, sequence] = 1\n",
        "  return results\n",
        "# end of def\n",
        "\n",
        "x_train = vectorize_sequences(train_data) #훈련데이타 벡터 변환\n",
        "x_test = vectorize_sequences(test_data) #테스트 데이타 벡터 변환"
      ],
      "execution_count": 213,
      "outputs": []
    },
    {
      "cell_type": "code",
      "metadata": {
        "id": "3a1QOVeb0Gj_"
      },
      "source": [
        "def to_one_hot(labels, dimension=46):\n",
        "  results = np.zeros((len(labels), dimension))\n",
        "  for i, label in enumerate(labels):\n",
        "    results[i, label] = 1.\n",
        "  return results\n",
        "# end of def\n",
        "\n",
        "one_hot_train_labels = to_one_hot(train_labels) #훈련 레이블 벡터 변환\n",
        "one_hot_test_labels = to_one_hot(test_labels) #테스트 레이블 벡터 변환"
      ],
      "execution_count": 214,
      "outputs": []
    },
    {
      "cell_type": "markdown",
      "metadata": {
        "id": "tF1q3s9K1xiw"
      },
      "source": [
        "모델정의하기"
      ]
    },
    {
      "cell_type": "code",
      "metadata": {
        "id": "ouNoxt_11Kgj",
        "outputId": "9448ff42-fe03-4e77-89ec-5db4285d5cd0",
        "colab": {
          "base_uri": "https://localhost:8080/",
          "height": 388
        }
      },
      "source": [
        "from keras import models, layers\n",
        "\n",
        "model = models.Sequential()\n",
        "model.add(layers.Dense(64, activation='relu', input_shape=(10000,)))\n",
        "model.add(layers.Dense(128, activation='relu'))\n",
        "model.add(layers.Dense(256, activation='relu'))\n",
        "model.add(layers.Dense(128, activation='relu'))\n",
        "model.add(layers.Dense(64, activation='relu'))\n",
        "model.add(layers.Dense(46, activation='softmax'))\n",
        "model.summary()\n"
      ],
      "execution_count": 215,
      "outputs": [
        {
          "output_type": "stream",
          "text": [
            "Model: \"sequential_10\"\n",
            "_________________________________________________________________\n",
            "Layer (type)                 Output Shape              Param #   \n",
            "=================================================================\n",
            "dense_51 (Dense)             (None, 64)                640064    \n",
            "_________________________________________________________________\n",
            "dense_52 (Dense)             (None, 128)               8320      \n",
            "_________________________________________________________________\n",
            "dense_53 (Dense)             (None, 256)               33024     \n",
            "_________________________________________________________________\n",
            "dense_54 (Dense)             (None, 128)               32896     \n",
            "_________________________________________________________________\n",
            "dense_55 (Dense)             (None, 64)                8256      \n",
            "_________________________________________________________________\n",
            "dense_56 (Dense)             (None, 46)                2990      \n",
            "=================================================================\n",
            "Total params: 725,550\n",
            "Trainable params: 725,550\n",
            "Non-trainable params: 0\n",
            "_________________________________________________________________\n"
          ],
          "name": "stdout"
        }
      ]
    },
    {
      "cell_type": "markdown",
      "metadata": {
        "id": "0oRK79tB3V_X"
      },
      "source": [
        "모델 컴파일"
      ]
    },
    {
      "cell_type": "code",
      "metadata": {
        "id": "7JtBNK0P2AgP"
      },
      "source": [
        "model.compile(optimizer='rmsprop', loss='categorical_crossentropy', metrics=['accuracy'])"
      ],
      "execution_count": 216,
      "outputs": []
    },
    {
      "cell_type": "markdown",
      "metadata": {
        "id": "kWyBubkP3VTb"
      },
      "source": [
        "검증 세트 준비하기"
      ]
    },
    {
      "cell_type": "code",
      "metadata": {
        "id": "5bn0jpgv3Tgk"
      },
      "source": [
        "x_val = x_train[:1000]\n",
        "partial_x_train = x_train[1000:]\n",
        "\n",
        "y_val = one_hot_train_labels[:1000]\n",
        "partial_y_train = one_hot_train_labels[1000:]"
      ],
      "execution_count": 217,
      "outputs": []
    },
    {
      "cell_type": "markdown",
      "metadata": {
        "id": "26RltRTn31V8"
      },
      "source": [
        "모델 훈련하기"
      ]
    },
    {
      "cell_type": "code",
      "metadata": {
        "id": "uHG-DWix3z6G",
        "outputId": "cdb128ac-88ff-4f9b-8ce2-4265f4b8178f",
        "colab": {
          "base_uri": "https://localhost:8080/",
          "height": 777
        }
      },
      "source": [
        "history = model.fit(x=partial_x_train, y=partial_y_train, epochs=20, batch_size=512, validation_data=(x_val, y_val))\n",
        "result = model.evaluate(x=x_test, y=one_hot_test_labels)"
      ],
      "execution_count": 218,
      "outputs": [
        {
          "output_type": "stream",
          "text": [
            "Epoch 1/20\n",
            "16/16 [==============================] - 1s 71ms/step - loss: 2.4024 - accuracy: 0.4544 - val_loss: 1.6091 - val_accuracy: 0.5990\n",
            "Epoch 2/20\n",
            "16/16 [==============================] - 1s 48ms/step - loss: 1.4121 - accuracy: 0.6756 - val_loss: 1.5024 - val_accuracy: 0.6480\n",
            "Epoch 3/20\n",
            "16/16 [==============================] - 1s 51ms/step - loss: 1.1327 - accuracy: 0.7196 - val_loss: 1.2349 - val_accuracy: 0.7110\n",
            "Epoch 4/20\n",
            "16/16 [==============================] - 1s 49ms/step - loss: 0.9466 - accuracy: 0.7633 - val_loss: 1.1708 - val_accuracy: 0.7310\n",
            "Epoch 5/20\n",
            "16/16 [==============================] - 1s 49ms/step - loss: 0.7648 - accuracy: 0.8051 - val_loss: 1.1222 - val_accuracy: 0.7630\n",
            "Epoch 6/20\n",
            "16/16 [==============================] - 1s 49ms/step - loss: 0.6347 - accuracy: 0.8282 - val_loss: 1.1603 - val_accuracy: 0.7400\n",
            "Epoch 7/20\n",
            "16/16 [==============================] - 1s 53ms/step - loss: 0.4974 - accuracy: 0.8668 - val_loss: 1.2647 - val_accuracy: 0.7590\n",
            "Epoch 8/20\n",
            "16/16 [==============================] - 1s 48ms/step - loss: 0.4071 - accuracy: 0.8938 - val_loss: 1.3850 - val_accuracy: 0.7410\n",
            "Epoch 9/20\n",
            "16/16 [==============================] - 1s 48ms/step - loss: 0.3629 - accuracy: 0.9053 - val_loss: 1.1782 - val_accuracy: 0.7780\n",
            "Epoch 10/20\n",
            "16/16 [==============================] - 1s 47ms/step - loss: 0.2567 - accuracy: 0.9347 - val_loss: 1.3393 - val_accuracy: 0.7640\n",
            "Epoch 11/20\n",
            "16/16 [==============================] - 1s 48ms/step - loss: 0.2295 - accuracy: 0.9392 - val_loss: 1.2729 - val_accuracy: 0.7930\n",
            "Epoch 12/20\n",
            "16/16 [==============================] - 1s 49ms/step - loss: 0.2291 - accuracy: 0.9409 - val_loss: 1.3610 - val_accuracy: 0.7880\n",
            "Epoch 13/20\n",
            "16/16 [==============================] - 1s 47ms/step - loss: 0.1640 - accuracy: 0.9524 - val_loss: 1.6735 - val_accuracy: 0.7410\n",
            "Epoch 14/20\n",
            "16/16 [==============================] - 1s 48ms/step - loss: 0.1672 - accuracy: 0.9530 - val_loss: 1.4445 - val_accuracy: 0.7670\n",
            "Epoch 15/20\n",
            "16/16 [==============================] - 1s 49ms/step - loss: 0.1479 - accuracy: 0.9526 - val_loss: 1.4586 - val_accuracy: 0.7640\n",
            "Epoch 16/20\n",
            "16/16 [==============================] - 1s 48ms/step - loss: 0.1326 - accuracy: 0.9570 - val_loss: 1.4953 - val_accuracy: 0.7750\n",
            "Epoch 17/20\n",
            "16/16 [==============================] - 1s 47ms/step - loss: 0.1674 - accuracy: 0.9446 - val_loss: 1.4761 - val_accuracy: 0.7800\n",
            "Epoch 18/20\n",
            "16/16 [==============================] - 1s 47ms/step - loss: 0.1185 - accuracy: 0.9565 - val_loss: 1.5645 - val_accuracy: 0.7740\n",
            "Epoch 19/20\n",
            "16/16 [==============================] - 1s 48ms/step - loss: 0.1116 - accuracy: 0.9589 - val_loss: 1.6461 - val_accuracy: 0.7640\n",
            "Epoch 20/20\n",
            "16/16 [==============================] - 1s 49ms/step - loss: 0.1277 - accuracy: 0.9546 - val_loss: 1.5189 - val_accuracy: 0.7800\n",
            "71/71 [==============================] - 0s 3ms/step - loss: 1.7076 - accuracy: 0.7680\n"
          ],
          "name": "stdout"
        }
      ]
    },
    {
      "cell_type": "markdown",
      "metadata": {
        "id": "e60fjrUCBCnZ"
      },
      "source": [
        "CPU, GPU, TPU 사용시의 결과비교:\n",
        "\n",
        "CPU:\n",
        "\n",
        "Epoch 20/20\n",
        "16/16 [==============================] - 1s 46ms/step - loss: 0.1315 - accuracy: 0.9550 - val_loss: 1.5239 - val_accuracy: 0.7670\n",
        "71/71 [==============================] - 0s 3ms/step - loss: 1.8289 - accuracy: 0.7524\n",
        "\n",
        "GPU:\n",
        "\n",
        "Epoch 20/20\n",
        "16/16 [==============================] - 0s 14ms/step - loss: 0.1678 - accuracy: 0.9422 - val_loss: 1.4124 - val_accuracy: 0.7930\n",
        "71/71 [==============================] - 0s 3ms/step - loss: 1.7150 - accuracy: 0.7596\n",
        "\n",
        "TPU:\n",
        "\n",
        "Epoch 20/20\n",
        "16/16 [==============================] - 1s 48ms/step - loss: 0.1108 - accuracy: 0.9573 - val_loss: 1.4943 - val_accuracy: 0.7760\n",
        "71/71 [==============================] - 0s 3ms/step - loss: 1.7421 - accuracy: 0.7609"
      ]
    },
    {
      "cell_type": "markdown",
      "metadata": {
        "id": "zsxhibx_4wtq"
      },
      "source": [
        "훈련과 검증 손실"
      ]
    },
    {
      "cell_type": "code",
      "metadata": {
        "id": "iACuYJ8J6ocT",
        "outputId": "0e47a4db-ac8c-48ec-db05-2a80907762e7",
        "colab": {
          "base_uri": "https://localhost:8080/",
          "height": 1000
        }
      },
      "source": [
        "history.history"
      ],
      "execution_count": 219,
      "outputs": [
        {
          "output_type": "execute_result",
          "data": {
            "text/plain": [
              "{'accuracy': [0.45439738035202026,\n",
              "  0.6756451725959778,\n",
              "  0.7196191549301147,\n",
              "  0.7633424997329712,\n",
              "  0.805061399936676,\n",
              "  0.8282385468482971,\n",
              "  0.8668253421783447,\n",
              "  0.8937609791755676,\n",
              "  0.9052869081497192,\n",
              "  0.9347281455993652,\n",
              "  0.9392383098602295,\n",
              "  0.9408669471740723,\n",
              "  0.9523928761482239,\n",
              "  0.9530193209648132,\n",
              "  0.9526434540748596,\n",
              "  0.957028329372406,\n",
              "  0.9446253776550293,\n",
              "  0.9565271735191345,\n",
              "  0.9589075446128845,\n",
              "  0.954647958278656],\n",
              " 'loss': [2.402430534362793,\n",
              "  1.4120903015136719,\n",
              "  1.13272225856781,\n",
              "  0.9465584754943848,\n",
              "  0.7648022770881653,\n",
              "  0.6346705555915833,\n",
              "  0.4973997473716736,\n",
              "  0.407078355550766,\n",
              "  0.3629268407821655,\n",
              "  0.25670957565307617,\n",
              "  0.22948001325130463,\n",
              "  0.22914904356002808,\n",
              "  0.16403646767139435,\n",
              "  0.16723203659057617,\n",
              "  0.14790646731853485,\n",
              "  0.13264474272727966,\n",
              "  0.16744263470172882,\n",
              "  0.11845460534095764,\n",
              "  0.11157197505235672,\n",
              "  0.12766008079051971],\n",
              " 'val_accuracy': [0.5989999771118164,\n",
              "  0.6480000019073486,\n",
              "  0.7110000252723694,\n",
              "  0.7310000061988831,\n",
              "  0.7630000114440918,\n",
              "  0.7400000095367432,\n",
              "  0.7590000033378601,\n",
              "  0.7409999966621399,\n",
              "  0.777999997138977,\n",
              "  0.7639999985694885,\n",
              "  0.7929999828338623,\n",
              "  0.7879999876022339,\n",
              "  0.7409999966621399,\n",
              "  0.7670000195503235,\n",
              "  0.7639999985694885,\n",
              "  0.7749999761581421,\n",
              "  0.7799999713897705,\n",
              "  0.7739999890327454,\n",
              "  0.7639999985694885,\n",
              "  0.7799999713897705],\n",
              " 'val_loss': [1.609143853187561,\n",
              "  1.5023765563964844,\n",
              "  1.2348910570144653,\n",
              "  1.1707985401153564,\n",
              "  1.1221965551376343,\n",
              "  1.1602944135665894,\n",
              "  1.264661431312561,\n",
              "  1.384979248046875,\n",
              "  1.178195834159851,\n",
              "  1.3393319845199585,\n",
              "  1.2729464769363403,\n",
              "  1.3610033988952637,\n",
              "  1.6735076904296875,\n",
              "  1.4445079565048218,\n",
              "  1.4586094617843628,\n",
              "  1.4953093528747559,\n",
              "  1.4761478900909424,\n",
              "  1.5645136833190918,\n",
              "  1.6461225748062134,\n",
              "  1.5188757181167603]}"
            ]
          },
          "metadata": {
            "tags": []
          },
          "execution_count": 219
        }
      ]
    },
    {
      "cell_type": "code",
      "metadata": {
        "id": "gw-b6yhq41dW",
        "outputId": "7bfc05fb-722b-46bb-a4b0-11bcbf5897d2",
        "colab": {
          "base_uri": "https://localhost:8080/",
          "height": 295
        }
      },
      "source": [
        "import matplotlib.pyplot as plt\n",
        "\n",
        "loss = history.history['loss']\n",
        "val_loss = history.history['val_loss']\n",
        "\n",
        "epochs = range(1, len(loss) + 1)\n",
        "\n",
        "plt.plot(epochs, loss, 'bo', label='Training loss') #'bo'는 파란색 점을 의미\n",
        "plt.plot(epochs, val_loss, 'b', label='Validation loss') #'b'는 파란색 실선을 의미합니다.\n",
        "\n",
        "plt.title('Training and validation loss')\n",
        "plt.xlabel('Epochs')\n",
        "plt.ylabel('Loss')\n",
        "plt.legend()\n",
        "\n",
        "plt.show()\n"
      ],
      "execution_count": 220,
      "outputs": [
        {
          "output_type": "display_data",
          "data": {
            "image/png": "[encoded data removed]",
            "text/plain": [
              "<Figure size 432x288 with 1 Axes>"
            ]
          },
          "metadata": {
            "tags": [],
            "needs_background": "light"
          }
        }
      ]
    },
    {
      "cell_type": "markdown",
      "metadata": {
        "id": "KxtKJiQX5MOY"
      },
      "source": [
        "훈련 검증 정확도 그리기"
      ]
    },
    {
      "cell_type": "code",
      "metadata": {
        "id": "Y3ks6Ft85RUw",
        "outputId": "eb74a36b-6cb9-46bb-91be-f6be9b8dcd67",
        "colab": {
          "base_uri": "https://localhost:8080/",
          "height": 295
        }
      },
      "source": [
        "plt.clf() #그래프 초기화\n",
        "\n",
        "acc = history.history['accuracy']\n",
        "val_acc = history.history['val_accuracy']\n",
        "\n",
        "plt.plot(epochs, acc, 'bo', label='Training acc')\n",
        "plt.plot(epochs, val_acc, 'b', label = 'Validation acc')\n",
        "plt.title('Training and validation accuracy')\n",
        "plt.xlabel('Epochs')\n",
        "plt.ylabel('Accuracy')\n",
        "plt.legend()\n",
        "\n",
        "plt.show()"
      ],
      "execution_count": 221,
      "outputs": [
        {
          "output_type": "display_data",
          "data": {
            "image/png": "[encoded data removed]",
            "text/plain": [
              "<Figure size 432x288 with 1 Axes>"
            ]
          },
          "metadata": {
            "tags": [],
            "needs_background": "light"
          }
        }
      ]
    },
    {
      "cell_type": "markdown",
      "metadata": {
        "id": "76Q1NDBB8awu"
      },
      "source": [
        "새로운 데이타로 예측하기"
      ]
    },
    {
      "cell_type": "code",
      "metadata": {
        "id": "Xojitgbm8fhn"
      },
      "source": [
        "predictions =  model.predict(x_test)"
      ],
      "execution_count": 222,
      "outputs": []
    },
    {
      "cell_type": "code",
      "metadata": {
        "id": "iw9qGArv8lJo",
        "outputId": "cf102261-6dc0-4780-ce15-8b11adfe70a4",
        "colab": {
          "base_uri": "https://localhost:8080/",
          "height": 36
        }
      },
      "source": [
        "predictions[0].shape"
      ],
      "execution_count": 223,
      "outputs": [
        {
          "output_type": "execute_result",
          "data": {
            "text/plain": [
              "(46,)"
            ]
          },
          "metadata": {
            "tags": []
          },
          "execution_count": 223
        }
      ]
    },
    {
      "cell_type": "code",
      "metadata": {
        "id": "VBMAsUo78uPy",
        "outputId": "73407dc2-3274-48c7-fbe3-a4739429780d",
        "colab": {
          "base_uri": "https://localhost:8080/",
          "height": 36
        }
      },
      "source": [
        "np.sum(predictions[0])"
      ],
      "execution_count": 224,
      "outputs": [
        {
          "output_type": "execute_result",
          "data": {
            "text/plain": [
              "1.0000001"
            ]
          },
          "metadata": {
            "tags": []
          },
          "execution_count": 224
        }
      ]
    },
    {
      "cell_type": "code",
      "metadata": {
        "id": "Qc4igSj98xgN",
        "outputId": "ca951ba4-969c-48e9-b87e-ca7f17a3304a",
        "colab": {
          "base_uri": "https://localhost:8080/",
          "height": 36
        }
      },
      "source": [
        "np.argmax(predictions[0])"
      ],
      "execution_count": 225,
      "outputs": [
        {
          "output_type": "execute_result",
          "data": {
            "text/plain": [
              "3"
            ]
          },
          "metadata": {
            "tags": []
          },
          "execution_count": 225
        }
      ]
    },
    {
      "cell_type": "code",
      "metadata": {
        "id": "rLKRrwyI8-rx"
      },
      "source": [
        ""
      ],
      "execution_count": 225,
      "outputs": []
    }
  ]
}