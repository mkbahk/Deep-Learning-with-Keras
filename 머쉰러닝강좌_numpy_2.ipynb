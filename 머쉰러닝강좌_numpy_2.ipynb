{
  "nbformat": 4,
  "nbformat_minor": 0,
  "metadata": {
    "colab": {
      "name": "머쉰러닝강좌-numpy-2.ipynb",
      "provenance": [],
      "collapsed_sections": [],
      "authorship_tag": "ABX9TyNkHGfynMDxLk3K0TY65Xi3",
      "include_colab_link": true
    },
    "kernelspec": {
      "name": "python3",
      "display_name": "Python 3"
    }
  },
  "cells": [
    {
      "cell_type": "markdown",
      "metadata": {
        "id": "view-in-github",
        "colab_type": "text"
      },
      "source": [
        "<a href=\"https://colab.research.google.com/github/mkbahk/DeepLearningwithKeras/blob/master/%EB%A8%B8%EC%89%B0%EB%9F%AC%EB%8B%9D%EA%B0%95%EC%A2%8C_numpy_2.ipynb\" target=\"_parent\"><img src=\"https://colab.research.google.com/assets/colab-badge.svg\" alt=\"Open In Colab\"/></a>"
      ]
    },
    {
      "cell_type": "code",
      "metadata": {
        "id": "6w0k_ilh_osr"
      },
      "source": [
        "import numpy as np"
      ],
      "execution_count": 1,
      "outputs": []
    },
    {
      "cell_type": "code",
      "metadata": {
        "id": "7qQzvx9KAJ1u"
      },
      "source": [
        "a = np.array([[1, 2, 3], [4, 5,6]])  # 2x3 행렬\n",
        "b = np.array([[-1, -2], [-3, -4], [-5, -6]])   #3x2행렬"
      ],
      "execution_count": 3,
      "outputs": []
    },
    {
      "cell_type": "markdown",
      "metadata": {
        "id": "FTcN6N6OAhId"
      },
      "source": [
        "# (2x3) dot product (3x2) == (2x2) 행렬"
      ]
    },
    {
      "cell_type": "code",
      "metadata": {
        "id": "QjkExIfwAo41",
        "outputId": "ffcdbbe5-6a35-42ae-9748-bb26880602fa",
        "colab": {
          "base_uri": "https://localhost:8080/"
        }
      },
      "source": [
        "c = np.dot(a, b)\n",
        "\n",
        "# matrix a, b 형상 출력 => shape\n",
        "print(\"a.shape ==\", a.shape, \", b.shape ==\", b.shape)\n",
        "print(\"c.shape ==\", c.shape)\n",
        "print(c)"
      ],
      "execution_count": 4,
      "outputs": [
        {
          "output_type": "stream",
          "text": [
            "a.shape == (2, 3) , b.shape == (3, 2)\n",
            "c.shape == (2, 2)\n",
            "[[-22 -28]\n",
            " [-49 -64]]\n"
          ],
          "name": "stdout"
        }
      ]
    },
    {
      "cell_type": "markdown",
      "metadata": {
        "id": "ULcYXbcwBOXl"
      },
      "source": [
        "numpy broadcast:\n",
        "\n",
        "행력의 사칙연산은 기본적으로 두 개의 행렬 크기가 같은 경우에만 수행할 수 있으나, numpy에서는 크기가 다른 두 행력간에도 사칙연산(+, -, *, /)을 할 수 있도록 하는데 이것은 브로드케스트(broadcast)라 한다."
      ]
    },
    {
      "cell_type": "code",
      "metadata": {
        "id": "c3kL1K16CCKZ",
        "outputId": "160253ca-9b37-42a1-8c85-17a69acd4778",
        "colab": {
          "base_uri": "https://localhost:8080/",
          "height": 198
        }
      },
      "source": [
        "a = [[1, 2], [3,4]]\n",
        "b = 5\n",
        "\n",
        "print(a + b)"
      ],
      "execution_count": 6,
      "outputs": [
        {
          "output_type": "error",
          "ename": "TypeError",
          "evalue": "ignored",
          "traceback": [
            "\u001b[0;31m---------------------------------------------------------------------------\u001b[0m",
            "\u001b[0;31mTypeError\u001b[0m                                 Traceback (most recent call last)",
            "\u001b[0;32m<ipython-input-6-0ded80de7bbe>\u001b[0m in \u001b[0;36m<module>\u001b[0;34m()\u001b[0m\n\u001b[1;32m      2\u001b[0m \u001b[0mb\u001b[0m \u001b[0;34m=\u001b[0m \u001b[0;36m5\u001b[0m\u001b[0;34m\u001b[0m\u001b[0;34m\u001b[0m\u001b[0m\n\u001b[1;32m      3\u001b[0m \u001b[0;34m\u001b[0m\u001b[0m\n\u001b[0;32m----> 4\u001b[0;31m \u001b[0mprint\u001b[0m\u001b[0;34m(\u001b[0m\u001b[0ma\u001b[0m \u001b[0;34m+\u001b[0m \u001b[0mb\u001b[0m\u001b[0;34m)\u001b[0m\u001b[0;34m\u001b[0m\u001b[0;34m\u001b[0m\u001b[0m\n\u001b[0m",
            "\u001b[0;31mTypeError\u001b[0m: can only concatenate list (not \"int\") to list"
          ]
        }
      ]
    },
    {
      "cell_type": "code",
      "metadata": {
        "id": "RnDiuwnsCbsv",
        "outputId": "a184f7fc-1bed-4107-be39-66b424891d0e",
        "colab": {
          "base_uri": "https://localhost:8080/"
        }
      },
      "source": [
        "a = [[1, 2], [3,4]]\n",
        "b = [5]\n",
        "\n",
        "print(a + b)"
      ],
      "execution_count": 11,
      "outputs": [
        {
          "output_type": "stream",
          "text": [
            "[[1, 2], [3, 4], 5]\n"
          ],
          "name": "stdout"
        }
      ]
    },
    {
      "cell_type": "code",
      "metadata": {
        "id": "3rKLJQCIC0PA",
        "outputId": "1ff46412-644f-4243-fa16-914b4e49b274",
        "colab": {
          "base_uri": "https://localhost:8080/",
          "height": 198
        }
      },
      "source": [
        "a = [[1, 2], [3,4]]\n",
        "b = [5]\n",
        "\n",
        "print(a - b)"
      ],
      "execution_count": 10,
      "outputs": [
        {
          "output_type": "error",
          "ename": "TypeError",
          "evalue": "ignored",
          "traceback": [
            "\u001b[0;31m---------------------------------------------------------------------------\u001b[0m",
            "\u001b[0;31mTypeError\u001b[0m                                 Traceback (most recent call last)",
            "\u001b[0;32m<ipython-input-10-f24d6717e689>\u001b[0m in \u001b[0;36m<module>\u001b[0;34m()\u001b[0m\n\u001b[1;32m      2\u001b[0m \u001b[0mb\u001b[0m \u001b[0;34m=\u001b[0m \u001b[0;34m[\u001b[0m\u001b[0;36m5\u001b[0m\u001b[0;34m]\u001b[0m\u001b[0;34m\u001b[0m\u001b[0;34m\u001b[0m\u001b[0m\n\u001b[1;32m      3\u001b[0m \u001b[0;34m\u001b[0m\u001b[0m\n\u001b[0;32m----> 4\u001b[0;31m \u001b[0mprint\u001b[0m\u001b[0;34m(\u001b[0m\u001b[0ma\u001b[0m \u001b[0;34m-\u001b[0m \u001b[0mb\u001b[0m\u001b[0;34m)\u001b[0m\u001b[0;34m\u001b[0m\u001b[0;34m\u001b[0m\u001b[0m\n\u001b[0m",
            "\u001b[0;31mTypeError\u001b[0m: unsupported operand type(s) for -: 'list' and 'list'"
          ]
        }
      ]
    },
    {
      "cell_type": "code",
      "metadata": {
        "id": "r8y2VMCrC66B",
        "outputId": "6335876b-fd26-4f79-e5dd-05b4137d0a10",
        "colab": {
          "base_uri": "https://localhost:8080/",
          "height": 198
        }
      },
      "source": [
        "a = [[1, 2], [3,4]]\n",
        "b = [5]\n",
        "\n",
        "print(a * b)"
      ],
      "execution_count": 12,
      "outputs": [
        {
          "output_type": "error",
          "ename": "TypeError",
          "evalue": "ignored",
          "traceback": [
            "\u001b[0;31m---------------------------------------------------------------------------\u001b[0m",
            "\u001b[0;31mTypeError\u001b[0m                                 Traceback (most recent call last)",
            "\u001b[0;32m<ipython-input-12-53aff0bf1017>\u001b[0m in \u001b[0;36m<module>\u001b[0;34m()\u001b[0m\n\u001b[1;32m      2\u001b[0m \u001b[0mb\u001b[0m \u001b[0;34m=\u001b[0m \u001b[0;34m[\u001b[0m\u001b[0;36m5\u001b[0m\u001b[0;34m]\u001b[0m\u001b[0;34m\u001b[0m\u001b[0;34m\u001b[0m\u001b[0m\n\u001b[1;32m      3\u001b[0m \u001b[0;34m\u001b[0m\u001b[0m\n\u001b[0;32m----> 4\u001b[0;31m \u001b[0mprint\u001b[0m\u001b[0;34m(\u001b[0m\u001b[0ma\u001b[0m \u001b[0;34m*\u001b[0m \u001b[0mb\u001b[0m\u001b[0;34m)\u001b[0m\u001b[0;34m\u001b[0m\u001b[0;34m\u001b[0m\u001b[0m\n\u001b[0m",
            "\u001b[0;31mTypeError\u001b[0m: can't multiply sequence by non-int of type 'list'"
          ]
        }
      ]
    },
    {
      "cell_type": "code",
      "metadata": {
        "id": "qIED3VAZC-ZV",
        "outputId": "e5b9f7a2-1bbb-4bbc-8a88-023b59971981",
        "colab": {
          "base_uri": "https://localhost:8080/",
          "height": 198
        }
      },
      "source": [
        "a = [[1, 2], [3,4]]\n",
        "b = [5]\n",
        "\n",
        "print(a / b)"
      ],
      "execution_count": 13,
      "outputs": [
        {
          "output_type": "error",
          "ename": "TypeError",
          "evalue": "ignored",
          "traceback": [
            "\u001b[0;31m---------------------------------------------------------------------------\u001b[0m",
            "\u001b[0;31mTypeError\u001b[0m                                 Traceback (most recent call last)",
            "\u001b[0;32m<ipython-input-13-41c5f68fae02>\u001b[0m in \u001b[0;36m<module>\u001b[0;34m()\u001b[0m\n\u001b[1;32m      2\u001b[0m \u001b[0mb\u001b[0m \u001b[0;34m=\u001b[0m \u001b[0;34m[\u001b[0m\u001b[0;36m5\u001b[0m\u001b[0;34m]\u001b[0m\u001b[0;34m\u001b[0m\u001b[0;34m\u001b[0m\u001b[0m\n\u001b[1;32m      3\u001b[0m \u001b[0;34m\u001b[0m\u001b[0m\n\u001b[0;32m----> 4\u001b[0;31m \u001b[0mprint\u001b[0m\u001b[0;34m(\u001b[0m\u001b[0ma\u001b[0m \u001b[0;34m/\u001b[0m \u001b[0mb\u001b[0m\u001b[0;34m)\u001b[0m\u001b[0;34m\u001b[0m\u001b[0;34m\u001b[0m\u001b[0m\n\u001b[0m",
            "\u001b[0;31mTypeError\u001b[0m: unsupported operand type(s) for /: 'list' and 'list'"
          ]
        }
      ]
    },
    {
      "cell_type": "code",
      "metadata": {
        "id": "brq8ym19BQ3R",
        "outputId": "f357f5e7-cf1e-4a16-c138-bb5d5d301ac0",
        "colab": {
          "base_uri": "https://localhost:8080/"
        }
      },
      "source": [
        "a =  np.array([[1, 2], [3, 4]])\n",
        "b = 5\n",
        "\n",
        "print(a + b)"
      ],
      "execution_count": 5,
      "outputs": [
        {
          "output_type": "stream",
          "text": [
            "[[6 7]\n",
            " [8 9]]\n"
          ],
          "name": "stdout"
        }
      ]
    },
    {
      "cell_type": "code",
      "metadata": {
        "id": "kzC41p7ADCt8",
        "outputId": "d45e6c07-f140-460a-bf44-f1b8fdc3199c",
        "colab": {
          "base_uri": "https://localhost:8080/"
        }
      },
      "source": [
        "a =  np.array([[1, 2], [3, 4]])\n",
        "b = 5\n",
        "\n",
        "print(a * b)"
      ],
      "execution_count": 14,
      "outputs": [
        {
          "output_type": "stream",
          "text": [
            "[[ 5 10]\n",
            " [15 20]]\n"
          ],
          "name": "stdout"
        }
      ]
    },
    {
      "cell_type": "code",
      "metadata": {
        "id": "fPp2xqiFDE6i",
        "outputId": "e87f389e-9c97-4c5d-a697-bc40b500f038",
        "colab": {
          "base_uri": "https://localhost:8080/"
        }
      },
      "source": [
        "a =  np.array([[1, 2], [3, 4]])\n",
        "b = 5\n",
        "\n",
        "print(a - b)"
      ],
      "execution_count": 15,
      "outputs": [
        {
          "output_type": "stream",
          "text": [
            "[[-4 -3]\n",
            " [-2 -1]]\n"
          ],
          "name": "stdout"
        }
      ]
    },
    {
      "cell_type": "code",
      "metadata": {
        "id": "WdsWeBtvDHKD",
        "outputId": "25c2e09b-257f-494e-820c-bf05015a1980",
        "colab": {
          "base_uri": "https://localhost:8080/"
        }
      },
      "source": [
        "a =  np.array([[1, 2], [3, 4]])\n",
        "b = 5\n",
        "\n",
        "print(a / b)"
      ],
      "execution_count": 16,
      "outputs": [
        {
          "output_type": "stream",
          "text": [
            "[[0.2 0.4]\n",
            " [0.6 0.8]]\n"
          ],
          "name": "stdout"
        }
      ]
    },
    {
      "cell_type": "markdown",
      "metadata": {
        "id": "j53J2pubDYTz"
      },
      "source": [
        "전치행렬(transpose)"
      ]
    },
    {
      "cell_type": "code",
      "metadata": {
        "id": "AZquj_uRDc2f",
        "outputId": "fdbef522-4c80-4bd1-b857-8bf65cf8358e",
        "colab": {
          "base_uri": "https://localhost:8080/"
        }
      },
      "source": [
        "A = np.array([ [1,2], [3, 4], [5, 6]])\n",
        "\n",
        "B = A.T #A의 전치행력, 2x3 행렬,  .T 연산자\n",
        "\n",
        "print(\"A.shape ==\", A.shape, \", B.shape ==\", B.shape)\n",
        "print(A)\n",
        "print(B)"
      ],
      "execution_count": 17,
      "outputs": [
        {
          "output_type": "stream",
          "text": [
            "A.shape == (3, 2) , B.shape == (2, 3)\n",
            "[[1 2]\n",
            " [3 4]\n",
            " [5 6]]\n",
            "[[1 3 5]\n",
            " [2 4 6]]\n"
          ],
          "name": "stdout"
        }
      ]
    },
    {
      "cell_type": "code",
      "metadata": {
        "id": "mhsqSmRvE6nY",
        "outputId": "99fe768d-1641-48f5-d8f4-39197068e41b",
        "colab": {
          "base_uri": "https://localhost:8080/"
        }
      },
      "source": [
        "# Vector 전치행렬\n",
        "\n",
        "C = np.array([1, 2, 3, 4, 5]) # vector임, matrix 아님\n",
        "D = C.T   #C는 벡터이므로 transpose 않됨\n",
        "\n",
        "E = C.reshape(1, 5) # 1x5 matrix\n",
        "F = E.T\n",
        "\n",
        "print(\"C.shape ==\", C.shape, \", D.shape ==\", D.shape)\n",
        "print(\"E.shape ==\", E.shape, \", F.shape ==\", F.shape)\n",
        "print(F)"
      ],
      "execution_count": 19,
      "outputs": [
        {
          "output_type": "stream",
          "text": [
            "C.shape == (5,) , D.shape == (5,)\n",
            "E.shape == (1, 5) , F.shape == (5, 1)\n",
            "[[1]\n",
            " [2]\n",
            " [3]\n",
            " [4]\n",
            " [5]]\n"
          ],
          "name": "stdout"
        }
      ]
    },
    {
      "cell_type": "markdown",
      "metadata": {
        "id": "uP3ALQBtGJWN"
      },
      "source": [
        "numpy 행렬 indexing / slicing"
      ]
    },
    {
      "cell_type": "code",
      "metadata": {
        "id": "hU0rn4aCGNxR",
        "outputId": "8a90daa5-9deb-43e1-f535-215d95eb2b79",
        "colab": {
          "base_uri": "https://localhost:8080/"
        }
      },
      "source": [
        "A = np.array([10, 20, 30, 40, 50, 60]).reshape(3,2)\n",
        "print(\"A.shape ==\", A.shape)\n",
        "print(A)\n",
        "\n",
        "print(\"A[0, 0] ==\", A[0, 0], \", A[0][0] ==\", A[0][0])\n",
        "print(\"A[2, 1] ==\", A[2, 1], \", A[2][1] ==\", A[1][1])\n",
        "\n",
        "#왜 값이 틀릴까요?\n",
        "print(\"A[0:-1, 1:2] ==\", A[0:-1,  1:2])\n",
        "print(\"A[0:-1][1:2] ==\", A[0:-1][1:2])\n",
        "\n",
        "print(\"A[:, 0] == \", A[:, 0])\n",
        "print(\"A[:, :] == \", A[:, :])"
      ],
      "execution_count": 25,
      "outputs": [
        {
          "output_type": "stream",
          "text": [
            "A.shape == (3, 2)\n",
            "[[10 20]\n",
            " [30 40]\n",
            " [50 60]]\n",
            "A[0, 0] == 10 , A[0][0] == 10\n",
            "A[2, 1] == 60 , A[2][1] == 40\n",
            "A[0:-1, 1:2] == [[20]\n",
            " [40]]\n",
            "A[0:-1][1:2] == [[30 40]]\n",
            "A[:, 0] ==  [10 30 50]\n",
            "A[:, :] ==  [[10 20]\n",
            " [30 40]\n",
            " [50 60]]\n"
          ],
          "name": "stdout"
        }
      ]
    },
    {
      "cell_type": "markdown",
      "metadata": {
        "id": "qV_dzxSRI6cA"
      },
      "source": [
        "numpy 행렬 iterator"
      ]
    },
    {
      "cell_type": "code",
      "metadata": {
        "id": "adDwjuanI9rr",
        "outputId": "b97cf52e-2e1c-48bd-ccd9-dddc42a61122",
        "colab": {
          "base_uri": "https://localhost:8080/"
        }
      },
      "source": [
        "A =  np.array([[10,20,30,40], [50, 60, 70, 80]])\n",
        "\n",
        "print(A, \"\\n\")\n",
        "print(\"A.shape ==\", A.shape, \"\\n\")\n",
        "\n",
        "#행렬 A의 itrator 생성\n",
        "\n",
        "it = np.nditer(A, flags=['multi_index'], op_flags=['readwrite'])\n",
        "\n",
        "while not it.finished:\n",
        "  idx = it.multi_index\n",
        "  print(\"Current Value => \", A[idx])\n",
        "  it.iternext()\n",
        "# end of while\n"
      ],
      "execution_count": 27,
      "outputs": [
        {
          "output_type": "stream",
          "text": [
            "[[10 20 30 40]\n",
            " [50 60 70 80]] \n",
            "\n",
            "A.shape == (2, 4) \n",
            "\n",
            "Current Value =>  10\n",
            "Current Value =>  20\n",
            "Current Value =>  30\n",
            "Current Value =>  40\n",
            "Current Value =>  50\n",
            "Current Value =>  60\n",
            "Current Value =>  70\n",
            "Current Value =>  80\n"
          ],
          "name": "stdout"
        }
      ]
    }
  ]
}