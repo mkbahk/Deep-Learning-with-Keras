{
  "nbformat": 4,
  "nbformat_minor": 0,
  "metadata": {
    "colab": {
      "name": "Predit8910-wo-TB.ipynb",
      "provenance": [],
      "collapsed_sections": [],
      "authorship_tag": "ABX9TyP4f2Y+PkoOaH62C3fVuOwh",
      "include_colab_link": true
    },
    "kernelspec": {
      "name": "python3",
      "display_name": "Python 3"
    }
  },
  "cells": [
    {
      "cell_type": "markdown",
      "metadata": {
        "id": "view-in-github",
        "colab_type": "text"
      },
      "source": [
        "<a href=\"https://colab.research.google.com/github/mkbahk/DeepLearningwithKeras/blob/master/Predit8910_wo_TB.ipynb\" target=\"_parent\"><img src=\"https://colab.research.google.com/assets/colab-badge.svg\" alt=\"Open In Colab\"/></a>"
      ]
    },
    {
      "cell_type": "markdown",
      "metadata": {
        "id": "PT1TBjjFZg9-"
      },
      "source": [
        "1~7을 학습해 다음 수 8, 9, 10을 예측하는 예제\n"
      ]
    },
    {
      "cell_type": "code",
      "metadata": {
        "id": "3SFaLsM6Za_t"
      },
      "source": [
        "import numpy as np\n",
        "from tensorflow import keras"
      ],
      "execution_count": null,
      "outputs": []
    },
    {
      "cell_type": "markdown",
      "metadata": {
        "id": "vbxWeKeIavYW"
      },
      "source": [
        "Input Data용 배열생성"
      ]
    },
    {
      "cell_type": "code",
      "metadata": {
        "id": "bxIVzFJYaA7h"
      },
      "source": [
        "x = np.array([1,2,3,4,5,6,7,8,9,10,11])\n",
        "y = np.array([1,2,3,4,5,6,7,8,9,10,11])"
      ],
      "execution_count": null,
      "outputs": []
    },
    {
      "cell_type": "markdown",
      "metadata": {
        "id": "ciieVAyzbAfS"
      },
      "source": [
        "훈련용과 테스트용 데이타셋으로 나누기: x는 입력값, y는 정답"
      ]
    },
    {
      "cell_type": "code",
      "metadata": {
        "id": "Vv26p59La_d9"
      },
      "source": [
        "x_train = x[:7]\n",
        "y_train = y[:7]\n",
        "x_test = x[7:]\n",
        "y_test = y[7:]"
      ],
      "execution_count": null,
      "outputs": []
    },
    {
      "cell_type": "markdown",
      "metadata": {
        "id": "Q6ga2OiDbXVa"
      },
      "source": [
        "모델정의\n"
      ]
    },
    {
      "cell_type": "code",
      "metadata": {
        "id": "Ee9YRAtMbU8V"
      },
      "source": [
        "model = keras.Sequential()\n",
        "model.add(keras.layers.Dense(10, input_dim = 1, activation='relu'))  #input layer\n",
        "model.add(keras.layers.Dense(5, activation='relu'))  # 1개의 hidden layer\n",
        "model.add(keras.layers.Dense(1)) # output layer"
      ],
      "execution_count": null,
      "outputs": []
    },
    {
      "cell_type": "markdown",
      "metadata": {
        "id": "_6YtphypcTkn"
      },
      "source": [
        "모델 컴파일"
      ]
    },
    {
      "cell_type": "code",
      "metadata": {
        "id": "RL4esS4GcI7O"
      },
      "source": [
        "model.compile(optimizer='adam', loss='mse', metrics=['accuracy'])"
      ],
      "execution_count": null,
      "outputs": []
    },
    {
      "cell_type": "markdown",
      "metadata": {
        "id": "t3pFkMTIcwAZ"
      },
      "source": [
        "모델 훈련"
      ]
    },
    {
      "cell_type": "code",
      "metadata": {
        "id": "p2xOgHNacuqF"
      },
      "source": [
        "model.fit(x=x_train, y=y_train, epochs=300, batch_size=1)"
      ],
      "execution_count": null,
      "outputs": []
    },
    {
      "cell_type": "markdown",
      "metadata": {
        "id": "x4fHjFAndwf3"
      },
      "source": [
        "예측하기"
      ]
    },
    {
      "cell_type": "code",
      "metadata": {
        "id": "BNDNYpk_dFR-",
        "outputId": "18ff41bb-ecf6-4387-c514-5bae391311ea",
        "colab": {
          "base_uri": "https://localhost:8080/",
          "height": 90
        }
      },
      "source": [
        "y_predict = model.predict(x=x_test)\n",
        "print(np.round(y_predict))"
      ],
      "execution_count": null,
      "outputs": [
        {
          "output_type": "stream",
          "text": [
            "[[ 8.]\n",
            " [ 9.]\n",
            " [10.]\n",
            " [11.]]\n"
          ],
          "name": "stdout"
        }
      ]
    },
    {
      "cell_type": "code",
      "metadata": {
        "id": "6tEbZ2k6QWhc",
        "outputId": "1468e9f5-7b35-44ef-acb7-37f38c549b59",
        "colab": {
          "base_uri": "https://localhost:8080/",
          "height": 422
        }
      },
      "source": [
        "keras.utils.plot_model(model, show_shapes=True)"
      ],
      "execution_count": null,
      "outputs": [
        {
          "output_type": "execute_result",
          "data": {
            "image/png": "[encoded data removed]",
            "text/plain": [
              "<IPython.core.display.Image object>"
            ]
          },
          "metadata": {
            "tags": []
          },
          "execution_count": 9
        }
      ]
    }
  ]
}