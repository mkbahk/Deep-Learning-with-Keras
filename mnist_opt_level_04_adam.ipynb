{
  "nbformat": 4,
  "nbformat_minor": 0,
  "metadata": {
    "colab": {
      "name": "mnist_opt_level_04_adam.ipynb",
      "provenance": [],
      "collapsed_sections": [],
      "authorship_tag": "ABX9TyPO90Ps7+O0NNCwwvnHXJvb",
      "include_colab_link": true
    },
    "kernelspec": {
      "name": "python3",
      "display_name": "Python 3"
    },
    "accelerator": "GPU"
  },
  "cells": [
    {
      "cell_type": "markdown",
      "metadata": {
        "id": "view-in-github",
        "colab_type": "text"
      },
      "source": [
        "<a href=\"https://colab.research.google.com/github/mkbahk/DeepLearningwithKeras/blob/master/mnist_opt_level_04_adam.ipynb\" target=\"_parent\"><img src=\"https://colab.research.google.com/assets/colab-badge.svg\" alt=\"Open In Colab\"/></a>"
      ]
    },
    {
      "cell_type": "code",
      "metadata": {
        "id": "CLiJzZJNsPOB"
      },
      "source": [
        "import tensorflow as tf\n",
        "import numpy as np\n",
        "from tensorflow import keras"
      ],
      "execution_count": 9,
      "outputs": []
    },
    {
      "cell_type": "code",
      "metadata": {
        "id": "ZmA6HYaoseKM"
      },
      "source": [
        "#하이퍼 파라메터 정의(매개변수들)\n",
        "EPOCHS = 200\n",
        "BATCH_SIZE = 128\n",
        "VERBOSE = 1\n",
        "NB_CLASSES = 10 #출력갯수 = 숫자의 갯수\n",
        "N_HIDDEN = 128 \n",
        "VALIDATION_SPLIT = 0.2 #검증을 위해 남겨둘 훈련 데이타\n",
        "DROPOUT = 0.3"
      ],
      "execution_count": 10,
      "outputs": []
    },
    {
      "cell_type": "code",
      "metadata": {
        "colab": {
          "base_uri": "https://localhost:8080/"
        },
        "id": "6a_uWCrqtEIJ",
        "outputId": "c5c6c5ae-427c-440e-bc92-ae9da32a928a"
      },
      "source": [
        "# MNIST 데이타셋 로드(MNIST는 숫자만, eMNIST는 숫자+알파벳, 패션MNIST는 옷그림들이 있다)\n",
        "# X값 훈련용, 테스트 데이터를 각각 60,000개와 10,000개로 나눈다\n",
        "# 레이블(정답, Y값)에 대한 원핫 인코딩을 자동으로 적용한다\n",
        "# 아래 데이타셋을 .png 형태의 이미지를 이미 숫자화한 배열형태로 바꾸어 놓은 것이며, .csv형태가 분석 초기 데이타이다.\n",
        "mnist = keras.datasets.mnist\n",
        "(X_train, Y_train), (X_test, Y_test) = mnist.load_data()\n",
        "\n",
        "# X_train은 60,000개 행으로 28x28 값을 가진다. 이를 60,000 x 784(28x28)의 행렬형태로 변환한다.\n",
        "RESHAPED = 784\n",
        "\n",
        "X_train = X_train.reshape(60000, RESHAPED)\n",
        "X_test = X_test.reshape(10000, RESHAPED)\n",
        "\n",
        "X_train = X_train.astype('float32')\n",
        "X_test = X_test.astype('float32')\n",
        "\n",
        "# 입력을 [0, 1] 사이로 정규화\n",
        "X_train /= 255.0\n",
        "X_train /= 255.0\n",
        "\n",
        "print(X_train.shape[0], 'train samples')\n",
        "print(X_test.shape[0], 'train samples')\n",
        "\n",
        "# 레이블을 원한 엔코딩, 그래야 행렬 연산이 가능함\n",
        "Y_train = tf.keras.utils.to_categorical(Y_train, NB_CLASSES)\n",
        "Y_test = tf.keras.utils.to_categorical(Y_test, NB_CLASSES)"
      ],
      "execution_count": 11,
      "outputs": [
        {
          "output_type": "stream",
          "text": [
            "60000 train samples\n",
            "10000 train samples\n"
          ],
          "name": "stdout"
        }
      ]
    },
    {
      "cell_type": "code",
      "metadata": {
        "id": "yLoTJoMXvC4S"
      },
      "source": [
        "# 모델 구축(정의)\n",
        "model = tf.keras.models.Sequential()\n",
        "model.add(keras.layers.Dense(N_HIDDEN, input_shape=(RESHAPED,), name='input_Dense_layer_1', activation='relu'))\n",
        "model.add(keras.layers.Dropout(DROPOUT))\n",
        "model.add(keras.layers.Dense(N_HIDDEN, name='hidden_Dense_layer_2', activation='relu'))\n",
        "model.add(keras.layers.Dropout(DROPOUT))\n",
        "model.add(keras.layers.Dense(NB_CLASSES, name='output_Dense_layer_3', activation='softmax'))"
      ],
      "execution_count": 12,
      "outputs": []
    },
    {
      "cell_type": "code",
      "metadata": {
        "id": "rfRXM9Nhw5Kt"
      },
      "source": [
        "# 모델 컴파일\n",
        "model.compile(optimizer='Adam',\n",
        "             loss='categorical_crossentropy',\n",
        "             metrics=['accuracy'])"
      ],
      "execution_count": 13,
      "outputs": []
    },
    {
      "cell_type": "code",
      "metadata": {
        "colab": {
          "base_uri": "https://localhost:8080/"
        },
        "id": "RsSr7R9RzMFm",
        "outputId": "8d6353a7-4264-47e9-95f5-8aa240379919"
      },
      "source": [
        "# 모델 형태 보기\n",
        "model.summary()"
      ],
      "execution_count": 14,
      "outputs": [
        {
          "output_type": "stream",
          "text": [
            "Model: \"sequential_1\"\n",
            "_________________________________________________________________\n",
            "Layer (type)                 Output Shape              Param #   \n",
            "=================================================================\n",
            "input_Dense_layer_1 (Dense)  (None, 128)               100480    \n",
            "_________________________________________________________________\n",
            "dropout_2 (Dropout)          (None, 128)               0         \n",
            "_________________________________________________________________\n",
            "hidden_Dense_layer_2 (Dense) (None, 128)               16512     \n",
            "_________________________________________________________________\n",
            "dropout_3 (Dropout)          (None, 128)               0         \n",
            "_________________________________________________________________\n",
            "output_Dense_layer_3 (Dense) (None, 10)                1290      \n",
            "=================================================================\n",
            "Total params: 118,282\n",
            "Trainable params: 118,282\n",
            "Non-trainable params: 0\n",
            "_________________________________________________________________\n"
          ],
          "name": "stdout"
        }
      ]
    },
    {
      "cell_type": "code",
      "metadata": {
        "colab": {
          "base_uri": "https://localhost:8080/"
        },
        "id": "ru4BliBKxrkG",
        "outputId": "17bafe6f-21d1-4ccd-932b-0cc70e01219f"
      },
      "source": [
        "# 모델 훈련\n",
        "from keras.callbacks import EarlyStopping\n",
        "\n",
        "early_stopping = EarlyStopping(patience=15, mode='auto', monitor='val_accuracy')\n",
        "\n",
        "hist = model.fit(x = X_train, y = Y_train, \n",
        "          batch_size = BATCH_SIZE, epochs=EPOCHS,\n",
        "          verbose=VERBOSE, validation_split=VALIDATION_SPLIT,\n",
        "          callbacks=[early_stopping])"
      ],
      "execution_count": 15,
      "outputs": [
        {
          "output_type": "stream",
          "text": [
            "Epoch 1/200\n",
            "375/375 [==============================] - 1s 3ms/step - loss: 1.4399 - accuracy: 0.5374 - val_loss: 0.7274 - val_accuracy: 0.7900\n",
            "Epoch 2/200\n",
            "375/375 [==============================] - 1s 3ms/step - loss: 0.6879 - accuracy: 0.7815 - val_loss: 0.4572 - val_accuracy: 0.8723\n",
            "Epoch 3/200\n",
            "375/375 [==============================] - 1s 3ms/step - loss: 0.5159 - accuracy: 0.8443 - val_loss: 0.3670 - val_accuracy: 0.8948\n",
            "Epoch 4/200\n",
            "375/375 [==============================] - 1s 3ms/step - loss: 0.4351 - accuracy: 0.8696 - val_loss: 0.3177 - val_accuracy: 0.9075\n",
            "Epoch 5/200\n",
            "375/375 [==============================] - 1s 3ms/step - loss: 0.3894 - accuracy: 0.8836 - val_loss: 0.2888 - val_accuracy: 0.9133\n",
            "Epoch 6/200\n",
            "375/375 [==============================] - 1s 3ms/step - loss: 0.3556 - accuracy: 0.8950 - val_loss: 0.2617 - val_accuracy: 0.9227\n",
            "Epoch 7/200\n",
            "375/375 [==============================] - 1s 3ms/step - loss: 0.3271 - accuracy: 0.9024 - val_loss: 0.2416 - val_accuracy: 0.9270\n",
            "Epoch 8/200\n",
            "375/375 [==============================] - 1s 3ms/step - loss: 0.3062 - accuracy: 0.9095 - val_loss: 0.2284 - val_accuracy: 0.9320\n",
            "Epoch 9/200\n",
            "375/375 [==============================] - 1s 3ms/step - loss: 0.2844 - accuracy: 0.9140 - val_loss: 0.2132 - val_accuracy: 0.9354\n",
            "Epoch 10/200\n",
            "375/375 [==============================] - 1s 3ms/step - loss: 0.2737 - accuracy: 0.9196 - val_loss: 0.2008 - val_accuracy: 0.9398\n",
            "Epoch 11/200\n",
            "375/375 [==============================] - 1s 3ms/step - loss: 0.2550 - accuracy: 0.9245 - val_loss: 0.1908 - val_accuracy: 0.9444\n",
            "Epoch 12/200\n",
            "375/375 [==============================] - 1s 3ms/step - loss: 0.2429 - accuracy: 0.9280 - val_loss: 0.1830 - val_accuracy: 0.9452\n",
            "Epoch 13/200\n",
            "375/375 [==============================] - 1s 3ms/step - loss: 0.2293 - accuracy: 0.9319 - val_loss: 0.1690 - val_accuracy: 0.9498\n",
            "Epoch 14/200\n",
            "375/375 [==============================] - 1s 3ms/step - loss: 0.2203 - accuracy: 0.9342 - val_loss: 0.1632 - val_accuracy: 0.9513\n",
            "Epoch 15/200\n",
            "375/375 [==============================] - 1s 3ms/step - loss: 0.2117 - accuracy: 0.9381 - val_loss: 0.1581 - val_accuracy: 0.9530\n",
            "Epoch 16/200\n",
            "375/375 [==============================] - 1s 3ms/step - loss: 0.2013 - accuracy: 0.9405 - val_loss: 0.1516 - val_accuracy: 0.9545\n",
            "Epoch 17/200\n",
            "375/375 [==============================] - 1s 3ms/step - loss: 0.1933 - accuracy: 0.9425 - val_loss: 0.1475 - val_accuracy: 0.9559\n",
            "Epoch 18/200\n",
            "375/375 [==============================] - 1s 3ms/step - loss: 0.1858 - accuracy: 0.9442 - val_loss: 0.1425 - val_accuracy: 0.9585\n",
            "Epoch 19/200\n",
            "375/375 [==============================] - 1s 3ms/step - loss: 0.1802 - accuracy: 0.9466 - val_loss: 0.1367 - val_accuracy: 0.9590\n",
            "Epoch 20/200\n",
            "375/375 [==============================] - 1s 3ms/step - loss: 0.1737 - accuracy: 0.9494 - val_loss: 0.1323 - val_accuracy: 0.9610\n",
            "Epoch 21/200\n",
            "375/375 [==============================] - 1s 3ms/step - loss: 0.1691 - accuracy: 0.9492 - val_loss: 0.1286 - val_accuracy: 0.9607\n",
            "Epoch 22/200\n",
            "375/375 [==============================] - 1s 3ms/step - loss: 0.1653 - accuracy: 0.9503 - val_loss: 0.1265 - val_accuracy: 0.9631\n",
            "Epoch 23/200\n",
            "375/375 [==============================] - 1s 3ms/step - loss: 0.1588 - accuracy: 0.9517 - val_loss: 0.1222 - val_accuracy: 0.9637\n",
            "Epoch 24/200\n",
            "375/375 [==============================] - 1s 3ms/step - loss: 0.1572 - accuracy: 0.9535 - val_loss: 0.1225 - val_accuracy: 0.9631\n",
            "Epoch 25/200\n",
            "375/375 [==============================] - 1s 3ms/step - loss: 0.1485 - accuracy: 0.9554 - val_loss: 0.1207 - val_accuracy: 0.9632\n",
            "Epoch 26/200\n",
            "375/375 [==============================] - 1s 3ms/step - loss: 0.1457 - accuracy: 0.9565 - val_loss: 0.1168 - val_accuracy: 0.9642\n",
            "Epoch 27/200\n",
            "375/375 [==============================] - 1s 3ms/step - loss: 0.1421 - accuracy: 0.9570 - val_loss: 0.1141 - val_accuracy: 0.9667\n",
            "Epoch 28/200\n",
            "375/375 [==============================] - 1s 3ms/step - loss: 0.1366 - accuracy: 0.9581 - val_loss: 0.1133 - val_accuracy: 0.9665\n",
            "Epoch 29/200\n",
            "375/375 [==============================] - 1s 3ms/step - loss: 0.1345 - accuracy: 0.9599 - val_loss: 0.1139 - val_accuracy: 0.9666\n",
            "Epoch 30/200\n",
            "375/375 [==============================] - 1s 3ms/step - loss: 0.1311 - accuracy: 0.9605 - val_loss: 0.1103 - val_accuracy: 0.9678\n",
            "Epoch 31/200\n",
            "375/375 [==============================] - 1s 3ms/step - loss: 0.1323 - accuracy: 0.9600 - val_loss: 0.1092 - val_accuracy: 0.9671\n",
            "Epoch 32/200\n",
            "375/375 [==============================] - 1s 3ms/step - loss: 0.1271 - accuracy: 0.9620 - val_loss: 0.1048 - val_accuracy: 0.9691\n",
            "Epoch 33/200\n",
            "375/375 [==============================] - 1s 3ms/step - loss: 0.1253 - accuracy: 0.9622 - val_loss: 0.1036 - val_accuracy: 0.9697\n",
            "Epoch 34/200\n",
            "375/375 [==============================] - 1s 3ms/step - loss: 0.1212 - accuracy: 0.9633 - val_loss: 0.1025 - val_accuracy: 0.9706\n",
            "Epoch 35/200\n",
            "375/375 [==============================] - 1s 3ms/step - loss: 0.1200 - accuracy: 0.9640 - val_loss: 0.1010 - val_accuracy: 0.9712\n",
            "Epoch 36/200\n",
            "375/375 [==============================] - 1s 3ms/step - loss: 0.1162 - accuracy: 0.9654 - val_loss: 0.1046 - val_accuracy: 0.9703\n",
            "Epoch 37/200\n",
            "375/375 [==============================] - 1s 3ms/step - loss: 0.1140 - accuracy: 0.9653 - val_loss: 0.1007 - val_accuracy: 0.9709\n",
            "Epoch 38/200\n",
            "375/375 [==============================] - 1s 3ms/step - loss: 0.1125 - accuracy: 0.9647 - val_loss: 0.1004 - val_accuracy: 0.9707\n",
            "Epoch 39/200\n",
            "375/375 [==============================] - 1s 3ms/step - loss: 0.1111 - accuracy: 0.9666 - val_loss: 0.0976 - val_accuracy: 0.9714\n",
            "Epoch 40/200\n",
            "375/375 [==============================] - 1s 3ms/step - loss: 0.1090 - accuracy: 0.9659 - val_loss: 0.0997 - val_accuracy: 0.9716\n",
            "Epoch 41/200\n",
            "375/375 [==============================] - 1s 3ms/step - loss: 0.1089 - accuracy: 0.9656 - val_loss: 0.0965 - val_accuracy: 0.9724\n",
            "Epoch 42/200\n",
            "375/375 [==============================] - 1s 3ms/step - loss: 0.1070 - accuracy: 0.9676 - val_loss: 0.0974 - val_accuracy: 0.9707\n",
            "Epoch 43/200\n",
            "375/375 [==============================] - 1s 3ms/step - loss: 0.1055 - accuracy: 0.9670 - val_loss: 0.0967 - val_accuracy: 0.9719\n",
            "Epoch 44/200\n",
            "375/375 [==============================] - 1s 3ms/step - loss: 0.1046 - accuracy: 0.9678 - val_loss: 0.0982 - val_accuracy: 0.9728\n",
            "Epoch 45/200\n",
            "375/375 [==============================] - 1s 3ms/step - loss: 0.1014 - accuracy: 0.9689 - val_loss: 0.0952 - val_accuracy: 0.9722\n",
            "Epoch 46/200\n",
            "375/375 [==============================] - 1s 3ms/step - loss: 0.1007 - accuracy: 0.9684 - val_loss: 0.0965 - val_accuracy: 0.9712\n",
            "Epoch 47/200\n",
            "375/375 [==============================] - 1s 3ms/step - loss: 0.0982 - accuracy: 0.9693 - val_loss: 0.0944 - val_accuracy: 0.9723\n",
            "Epoch 48/200\n",
            "375/375 [==============================] - 1s 3ms/step - loss: 0.0985 - accuracy: 0.9695 - val_loss: 0.0948 - val_accuracy: 0.9732\n",
            "Epoch 49/200\n",
            "375/375 [==============================] - 1s 3ms/step - loss: 0.0943 - accuracy: 0.9709 - val_loss: 0.0946 - val_accuracy: 0.9734\n",
            "Epoch 50/200\n",
            "375/375 [==============================] - 1s 3ms/step - loss: 0.0936 - accuracy: 0.9716 - val_loss: 0.0943 - val_accuracy: 0.9737\n",
            "Epoch 51/200\n",
            "375/375 [==============================] - 1s 3ms/step - loss: 0.0947 - accuracy: 0.9713 - val_loss: 0.0920 - val_accuracy: 0.9737\n",
            "Epoch 52/200\n",
            "375/375 [==============================] - 1s 3ms/step - loss: 0.0918 - accuracy: 0.9709 - val_loss: 0.0920 - val_accuracy: 0.9726\n",
            "Epoch 53/200\n",
            "375/375 [==============================] - 1s 3ms/step - loss: 0.0901 - accuracy: 0.9716 - val_loss: 0.0943 - val_accuracy: 0.9727\n",
            "Epoch 54/200\n",
            "375/375 [==============================] - 1s 3ms/step - loss: 0.0900 - accuracy: 0.9719 - val_loss: 0.0945 - val_accuracy: 0.9746\n",
            "Epoch 55/200\n",
            "375/375 [==============================] - 1s 3ms/step - loss: 0.0870 - accuracy: 0.9728 - val_loss: 0.0906 - val_accuracy: 0.9744\n",
            "Epoch 56/200\n",
            "375/375 [==============================] - 1s 3ms/step - loss: 0.0895 - accuracy: 0.9711 - val_loss: 0.0925 - val_accuracy: 0.9741\n",
            "Epoch 57/200\n",
            "375/375 [==============================] - 1s 3ms/step - loss: 0.0851 - accuracy: 0.9733 - val_loss: 0.0913 - val_accuracy: 0.9743\n",
            "Epoch 58/200\n",
            "375/375 [==============================] - 1s 3ms/step - loss: 0.0864 - accuracy: 0.9722 - val_loss: 0.0887 - val_accuracy: 0.9743\n",
            "Epoch 59/200\n",
            "375/375 [==============================] - 1s 3ms/step - loss: 0.0817 - accuracy: 0.9751 - val_loss: 0.0892 - val_accuracy: 0.9747\n",
            "Epoch 60/200\n",
            "375/375 [==============================] - 1s 3ms/step - loss: 0.0827 - accuracy: 0.9736 - val_loss: 0.0917 - val_accuracy: 0.9740\n",
            "Epoch 61/200\n",
            "375/375 [==============================] - 1s 3ms/step - loss: 0.0779 - accuracy: 0.9754 - val_loss: 0.0926 - val_accuracy: 0.9741\n",
            "Epoch 62/200\n",
            "375/375 [==============================] - 1s 3ms/step - loss: 0.0795 - accuracy: 0.9750 - val_loss: 0.0909 - val_accuracy: 0.9747\n",
            "Epoch 63/200\n",
            "375/375 [==============================] - 1s 3ms/step - loss: 0.0778 - accuracy: 0.9750 - val_loss: 0.0893 - val_accuracy: 0.9746\n",
            "Epoch 64/200\n",
            "375/375 [==============================] - 1s 3ms/step - loss: 0.0800 - accuracy: 0.9739 - val_loss: 0.0921 - val_accuracy: 0.9755\n",
            "Epoch 65/200\n",
            "375/375 [==============================] - 1s 3ms/step - loss: 0.0768 - accuracy: 0.9755 - val_loss: 0.0892 - val_accuracy: 0.9753\n",
            "Epoch 66/200\n",
            "375/375 [==============================] - 1s 3ms/step - loss: 0.0771 - accuracy: 0.9761 - val_loss: 0.0905 - val_accuracy: 0.9738\n",
            "Epoch 67/200\n",
            "375/375 [==============================] - 1s 3ms/step - loss: 0.0749 - accuracy: 0.9755 - val_loss: 0.0921 - val_accuracy: 0.9744\n",
            "Epoch 68/200\n",
            "375/375 [==============================] - 1s 3ms/step - loss: 0.0753 - accuracy: 0.9751 - val_loss: 0.0898 - val_accuracy: 0.9747\n",
            "Epoch 69/200\n",
            "375/375 [==============================] - 1s 3ms/step - loss: 0.0716 - accuracy: 0.9776 - val_loss: 0.0921 - val_accuracy: 0.9747\n",
            "Epoch 70/200\n",
            "375/375 [==============================] - 1s 3ms/step - loss: 0.0736 - accuracy: 0.9765 - val_loss: 0.0915 - val_accuracy: 0.9745\n",
            "Epoch 71/200\n",
            "375/375 [==============================] - 1s 3ms/step - loss: 0.0716 - accuracy: 0.9769 - val_loss: 0.0932 - val_accuracy: 0.9749\n",
            "Epoch 72/200\n",
            "375/375 [==============================] - 1s 3ms/step - loss: 0.0733 - accuracy: 0.9772 - val_loss: 0.0881 - val_accuracy: 0.9757\n",
            "Epoch 73/200\n",
            "375/375 [==============================] - 1s 3ms/step - loss: 0.0682 - accuracy: 0.9782 - val_loss: 0.0867 - val_accuracy: 0.9758\n",
            "Epoch 74/200\n",
            "375/375 [==============================] - 1s 3ms/step - loss: 0.0695 - accuracy: 0.9774 - val_loss: 0.0902 - val_accuracy: 0.9744\n",
            "Epoch 75/200\n",
            "375/375 [==============================] - 1s 3ms/step - loss: 0.0709 - accuracy: 0.9770 - val_loss: 0.0873 - val_accuracy: 0.9753\n",
            "Epoch 76/200\n",
            "375/375 [==============================] - 1s 3ms/step - loss: 0.0699 - accuracy: 0.9776 - val_loss: 0.0906 - val_accuracy: 0.9757\n",
            "Epoch 77/200\n",
            "375/375 [==============================] - 1s 3ms/step - loss: 0.0704 - accuracy: 0.9771 - val_loss: 0.0875 - val_accuracy: 0.9759\n",
            "Epoch 78/200\n",
            "375/375 [==============================] - 1s 3ms/step - loss: 0.0685 - accuracy: 0.9780 - val_loss: 0.0883 - val_accuracy: 0.9755\n",
            "Epoch 79/200\n",
            "375/375 [==============================] - 1s 3ms/step - loss: 0.0679 - accuracy: 0.9780 - val_loss: 0.0927 - val_accuracy: 0.9754\n",
            "Epoch 80/200\n",
            "375/375 [==============================] - 1s 3ms/step - loss: 0.0657 - accuracy: 0.9789 - val_loss: 0.0923 - val_accuracy: 0.9759\n",
            "Epoch 81/200\n",
            "375/375 [==============================] - 1s 3ms/step - loss: 0.0652 - accuracy: 0.9791 - val_loss: 0.0867 - val_accuracy: 0.9758\n",
            "Epoch 82/200\n",
            "375/375 [==============================] - 1s 3ms/step - loss: 0.0686 - accuracy: 0.9775 - val_loss: 0.0874 - val_accuracy: 0.9760\n",
            "Epoch 83/200\n",
            "375/375 [==============================] - 1s 3ms/step - loss: 0.0653 - accuracy: 0.9790 - val_loss: 0.0894 - val_accuracy: 0.9760\n",
            "Epoch 84/200\n",
            "375/375 [==============================] - 1s 3ms/step - loss: 0.0646 - accuracy: 0.9793 - val_loss: 0.0883 - val_accuracy: 0.9762\n",
            "Epoch 85/200\n",
            "375/375 [==============================] - 1s 3ms/step - loss: 0.0649 - accuracy: 0.9789 - val_loss: 0.0887 - val_accuracy: 0.9769\n",
            "Epoch 86/200\n",
            "375/375 [==============================] - 1s 3ms/step - loss: 0.0660 - accuracy: 0.9784 - val_loss: 0.0881 - val_accuracy: 0.9763\n",
            "Epoch 87/200\n",
            "375/375 [==============================] - 1s 3ms/step - loss: 0.0624 - accuracy: 0.9795 - val_loss: 0.0887 - val_accuracy: 0.9754\n",
            "Epoch 88/200\n",
            "375/375 [==============================] - 1s 3ms/step - loss: 0.0632 - accuracy: 0.9791 - val_loss: 0.0918 - val_accuracy: 0.9765\n",
            "Epoch 89/200\n",
            "375/375 [==============================] - 1s 3ms/step - loss: 0.0624 - accuracy: 0.9800 - val_loss: 0.0894 - val_accuracy: 0.9759\n",
            "Epoch 90/200\n",
            "375/375 [==============================] - 1s 3ms/step - loss: 0.0605 - accuracy: 0.9802 - val_loss: 0.0923 - val_accuracy: 0.9769\n",
            "Epoch 91/200\n",
            "375/375 [==============================] - 1s 3ms/step - loss: 0.0619 - accuracy: 0.9800 - val_loss: 0.0873 - val_accuracy: 0.9756\n",
            "Epoch 92/200\n",
            "375/375 [==============================] - 1s 3ms/step - loss: 0.0607 - accuracy: 0.9800 - val_loss: 0.0901 - val_accuracy: 0.9758\n",
            "Epoch 93/200\n",
            "375/375 [==============================] - 1s 3ms/step - loss: 0.0623 - accuracy: 0.9798 - val_loss: 0.0886 - val_accuracy: 0.9755\n",
            "Epoch 94/200\n",
            "375/375 [==============================] - 1s 3ms/step - loss: 0.0582 - accuracy: 0.9806 - val_loss: 0.0884 - val_accuracy: 0.9766\n",
            "Epoch 95/200\n",
            "375/375 [==============================] - 1s 3ms/step - loss: 0.0586 - accuracy: 0.9803 - val_loss: 0.0906 - val_accuracy: 0.9759\n",
            "Epoch 96/200\n",
            "375/375 [==============================] - 1s 3ms/step - loss: 0.0588 - accuracy: 0.9807 - val_loss: 0.0895 - val_accuracy: 0.9762\n",
            "Epoch 97/200\n",
            "375/375 [==============================] - 1s 3ms/step - loss: 0.0571 - accuracy: 0.9823 - val_loss: 0.0897 - val_accuracy: 0.9760\n",
            "Epoch 98/200\n",
            "375/375 [==============================] - 1s 3ms/step - loss: 0.0584 - accuracy: 0.9810 - val_loss: 0.0902 - val_accuracy: 0.9768\n",
            "Epoch 99/200\n",
            "375/375 [==============================] - 1s 3ms/step - loss: 0.0569 - accuracy: 0.9813 - val_loss: 0.0886 - val_accuracy: 0.9767\n",
            "Epoch 100/200\n",
            "375/375 [==============================] - 1s 3ms/step - loss: 0.0567 - accuracy: 0.9811 - val_loss: 0.0884 - val_accuracy: 0.9768\n"
          ],
          "name": "stdout"
        }
      ]
    },
    {
      "cell_type": "code",
      "metadata": {
        "colab": {
          "base_uri": "https://localhost:8080/"
        },
        "id": "PeYbgpQTyoXo",
        "outputId": "4362b2e5-ac2e-40cb-f1b5-e66d16d5302f"
      },
      "source": [
        "# 모델 평가\n",
        "test_loss, test_acc = model.evaluate(X_test, Y_test)\n",
        "print(\"Test loss: \", test_loss, \"Test accuracy:\", test_acc)"
      ],
      "execution_count": 16,
      "outputs": [
        {
          "output_type": "stream",
          "text": [
            "313/313 [==============================] - 1s 2ms/step - loss: 5073.1470 - accuracy: 0.9619\n",
            "Test loss:  5073.14697265625 Test accuracy: 0.961899995803833\n"
          ],
          "name": "stdout"
        }
      ]
    },
    {
      "cell_type": "code",
      "metadata": {
        "id": "zX9gUPumzVVB"
      },
      "source": [
        "# 모델 저장\n",
        "model.save('mnist_opt_level_02_Adam.h5')"
      ],
      "execution_count": 17,
      "outputs": []
    },
    {
      "cell_type": "code",
      "metadata": {
        "colab": {
          "base_uri": "https://localhost:8080/",
          "height": 267
        },
        "id": "1b4NPyHk5M1P",
        "outputId": "66b08ee8-dc37-4a71-8b26-73195d97d0af"
      },
      "source": [
        "import matplotlib\n",
        "import matplotlib.pyplot as plt\n",
        "\n",
        "fig, loss_ax =  plt.subplots()\n",
        "acc_ax = loss_ax.twinx()\n",
        "\n",
        "loss_ax.plot(hist.history['loss'], 'y', label='train loss')\n",
        "loss_ax.plot(hist.history['val_loss'], 'g', label='validation loss')\n",
        "acc_ax.plot(hist.history['accuracy'], 'b', label='train accuracy')\n",
        "acc_ax.plot(hist.history['val_accuracy'], 'r', label='validation accuracy')\n",
        "\n",
        "plt.legend(['train loss', 'train accuracy'])\n",
        "plt.show()"
      ],
      "execution_count": 18,
      "outputs": [
        {
          "output_type": "display_data",
          "data": {
            "image/png": "[encoded data removed]",
            "text/plain": [
              "<Figure size 432x288 with 2 Axes>"
            ]
          },
          "metadata": {
            "tags": [],
            "needs_background": "light"
          }
        }
      ]
    }
  ]
}