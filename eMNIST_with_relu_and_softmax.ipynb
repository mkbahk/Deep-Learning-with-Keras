{
  "nbformat": 4,
  "nbformat_minor": 0,
  "metadata": {
    "colab": {
      "name": "eMNIST with relu and softmax.ipynb",
      "provenance": [],
      "toc_visible": true,
      "authorship_tag": "ABX9TyOnFuWYPleRnpetvcqN37PR",
      "include_colab_link": true
    },
    "kernelspec": {
      "name": "python3",
      "display_name": "Python 3"
    },
    "accelerator": "GPU"
  },
  "cells": [
    {
      "cell_type": "markdown",
      "metadata": {
        "id": "view-in-github",
        "colab_type": "text"
      },
      "source": [
        "<a href=\"https://colab.research.google.com/github/mkbahk/DeepLearningwithKeras/blob/master/eMNIST_with_relu_and_softmax.ipynb\" target=\"_parent\"><img src=\"https://colab.research.google.com/assets/colab-badge.svg\" alt=\"Open In Colab\"/></a>"
      ]
    },
    {
      "cell_type": "markdown",
      "metadata": {
        "id": "V22-xOB-hUUQ"
      },
      "source": [
        "# 0. 모듈 인포트"
      ]
    },
    {
      "cell_type": "code",
      "metadata": {
        "id": "nobr4D14W4ld"
      },
      "source": [
        "from tensorflow import keras\n",
        "from keras.utils import np_utils\n",
        "from keras.datasets import mnist\n",
        "from keras.models import Sequential\n",
        "from keras.layers import Dense, Activation"
      ],
      "execution_count": null,
      "outputs": []
    },
    {
      "cell_type": "markdown",
      "metadata": {
        "id": "p5_8in56XX2L"
      },
      "source": [
        "#1. 데이타셋 준비하기"
      ]
    },
    {
      "cell_type": "code",
      "metadata": {
        "id": "xRcjpnv1XVxr",
        "outputId": "9e45ce90-9b80-4dd6-acec-b4bdc6afdac4",
        "colab": {
          "base_uri": "https://localhost:8080/",
          "height": 54
        }
      },
      "source": [
        "(X_train, Y_train), (X_test, Y_test) = mnist.load_data()\n",
        "X_train = X_train.reshape(60000, 28*28).astype('float32') / 255.0\n",
        "X_test = X_test.reshape(10000, 28*28).astype('float32') / 255.0\n",
        "Y_train = np_utils.to_categorical(Y_train)\n",
        "Y_test = np_utils.to_categorical(Y_test)"
      ],
      "execution_count": null,
      "outputs": [
        {
          "output_type": "stream",
          "text": [
            "Downloading data from https://storage.googleapis.com/tensorflow/tf-keras-datasets/mnist.npz\n",
            "11493376/11490434 [==============================] - 0s 0us/step\n"
          ],
          "name": "stdout"
        }
      ]
    },
    {
      "cell_type": "markdown",
      "metadata": {
        "id": "TGF51YUTPuM-"
      },
      "source": [
        "Overfitting을 찾아보기 위해 Traing Data세트중에서 Validation Set으로 추가분할\n"
      ]
    },
    {
      "cell_type": "code",
      "metadata": {
        "id": "IBPc-0QZP2K4"
      },
      "source": [
        "X_val = X_train[50000:60000]\n",
        "Y_val = Y_train[50000:60000]\n",
        "X_train = X_train[0:50000]\n",
        "Y_train = Y_train[0:50000]"
      ],
      "execution_count": null,
      "outputs": []
    },
    {
      "cell_type": "markdown",
      "metadata": {
        "id": "e-YBCFY5gRnE"
      },
      "source": [
        "# 2. 모델 구성하기\n"
      ]
    },
    {
      "cell_type": "code",
      "metadata": {
        "id": "y1oR7Gy-aqJy"
      },
      "source": [
        "model = Sequential()\n",
        "model.add(Dense(64, input_dim=28*28, activation='relu', kernel_initializer='glorot_uniform', bias_initializer='zeros'))\n",
        "model.add(Dense(32, activation='relu'))\n",
        "model.add(Dense(16, activation='relu'))\n",
        "model.add(Dense(10, activation='softmax'))"
      ],
      "execution_count": null,
      "outputs": []
    },
    {
      "cell_type": "markdown",
      "metadata": {
        "id": "IqfLHfmDgh2Y"
      },
      "source": [
        "#3. 모델 엮기"
      ]
    },
    {
      "cell_type": "code",
      "metadata": {
        "id": "f2jbKkdwbr1L",
        "outputId": "53c206e1-1084-4731-c12e-cd05dc93efa9",
        "colab": {
          "base_uri": "https://localhost:8080/",
          "height": 308
        }
      },
      "source": [
        "model.compile(optimizer=keras.optimizers.SGD(learning_rate=0.1), loss='categorical_crossentropy', metrics='accuracy')\n",
        "model.summary()"
      ],
      "execution_count": null,
      "outputs": [
        {
          "output_type": "stream",
          "text": [
            "Model: \"sequential\"\n",
            "_________________________________________________________________\n",
            "Layer (type)                 Output Shape              Param #   \n",
            "=================================================================\n",
            "dense (Dense)                (None, 64)                50240     \n",
            "_________________________________________________________________\n",
            "dense_1 (Dense)              (None, 32)                2080      \n",
            "_________________________________________________________________\n",
            "dense_2 (Dense)              (None, 16)                528       \n",
            "_________________________________________________________________\n",
            "dense_3 (Dense)              (None, 10)                170       \n",
            "=================================================================\n",
            "Total params: 53,018\n",
            "Trainable params: 53,018\n",
            "Non-trainable params: 0\n",
            "_________________________________________________________________\n"
          ],
          "name": "stdout"
        }
      ]
    },
    {
      "cell_type": "markdown",
      "metadata": {
        "id": "ief-0s7hgwZO"
      },
      "source": [
        "# 4. 학습Training"
      ]
    },
    {
      "cell_type": "markdown",
      "metadata": {
        "id": "IVhNR0E0QeD2"
      },
      "source": [
        "검증셋은 overfitting을 보기위해 학습 중단시기를 결정하기 위해 필요\n"
      ]
    },
    {
      "cell_type": "code",
      "metadata": {
        "id": "Mfs5o7MUe3SN",
        "outputId": "94e8270b-5997-43cc-8fa1-1eaa4d766eba",
        "colab": {
          "base_uri": "https://localhost:8080/",
          "height": 399
        }
      },
      "source": [
        "model.fit(x=X_train, y=Y_train, epochs=10, batch_size=8, validation_data=(X_val, Y_val) )"
      ],
      "execution_count": null,
      "outputs": [
        {
          "output_type": "stream",
          "text": [
            "Epoch 1/10\n",
            "6250/6250 [==============================] - 12s 2ms/step - loss: 0.3287 - accuracy: 0.9009 - val_loss: 0.3529 - val_accuracy: 0.9113\n",
            "Epoch 2/10\n",
            "6250/6250 [==============================] - 12s 2ms/step - loss: 0.1738 - accuracy: 0.9505 - val_loss: 0.1455 - val_accuracy: 0.9590\n",
            "Epoch 3/10\n",
            "6250/6250 [==============================] - 12s 2ms/step - loss: 0.1369 - accuracy: 0.9609 - val_loss: 0.1541 - val_accuracy: 0.9595\n",
            "Epoch 4/10\n",
            "6250/6250 [==============================] - 12s 2ms/step - loss: 0.1187 - accuracy: 0.9664 - val_loss: 0.1548 - val_accuracy: 0.9577\n",
            "Epoch 5/10\n",
            "6250/6250 [==============================] - 12s 2ms/step - loss: 0.1004 - accuracy: 0.9718 - val_loss: 0.1263 - val_accuracy: 0.9681\n",
            "Epoch 6/10\n",
            "6250/6250 [==============================] - 12s 2ms/step - loss: 0.0915 - accuracy: 0.9730 - val_loss: 0.1299 - val_accuracy: 0.9674\n",
            "Epoch 7/10\n",
            "6250/6250 [==============================] - 12s 2ms/step - loss: 0.0857 - accuracy: 0.9756 - val_loss: 0.1258 - val_accuracy: 0.9683\n",
            "Epoch 8/10\n",
            "6250/6250 [==============================] - 12s 2ms/step - loss: 0.0767 - accuracy: 0.9787 - val_loss: 0.1321 - val_accuracy: 0.9673\n",
            "Epoch 9/10\n",
            "6250/6250 [==============================] - 12s 2ms/step - loss: 0.0719 - accuracy: 0.9796 - val_loss: 0.1256 - val_accuracy: 0.9714\n",
            "Epoch 10/10\n",
            "6250/6250 [==============================] - 12s 2ms/step - loss: 0.0684 - accuracy: 0.9806 - val_loss: 0.1205 - val_accuracy: 0.9736\n"
          ],
          "name": "stdout"
        },
        {
          "output_type": "execute_result",
          "data": {
            "text/plain": [
              "<tensorflow.python.keras.callbacks.History at 0x7f41b00c0f28>"
            ]
          },
          "metadata": {
            "tags": []
          },
          "execution_count": 6
        }
      ]
    },
    {
      "cell_type": "code",
      "metadata": {
        "id": "izOfiHvhRFLS"
      },
      "source": [
        ""
      ],
      "execution_count": null,
      "outputs": []
    },
    {
      "cell_type": "markdown",
      "metadata": {
        "id": "fJkQfYsTgon4"
      },
      "source": [
        "# 5. 추론Inference\n"
      ]
    },
    {
      "cell_type": "code",
      "metadata": {
        "id": "qH1DqOv1fgRJ",
        "outputId": "ada4bd59-f71e-4f7d-e3cb-30cc24805057",
        "colab": {
          "base_uri": "https://localhost:8080/",
          "height": 54
        }
      },
      "source": [
        "loss_and_metrics = model.evaluate(x=X_test, y=Y_test, batch_size=8)\n",
        "print(\"loss_and_metrics : \" + str(loss_and_metrics))"
      ],
      "execution_count": null,
      "outputs": [
        {
          "output_type": "stream",
          "text": [
            "1250/1250 [==============================] - 2s 1ms/step - loss: 0.1165 - accuracy: 0.9712\n",
            "loss_and_metrics : [0.1165485754609108, 0.9711999893188477]\n"
          ],
          "name": "stdout"
        }
      ]
    }
  ]
}