{
  "nbformat": 4,
  "nbformat_minor": 0,
  "metadata": {
    "colab": {
      "name": "2_2 신경망을 위한 데이터 표현.ipynb",
      "provenance": [],
      "authorship_tag": "ABX9TyPAkY4KG5KG+deeIpGOtsW+",
      "include_colab_link": true
    },
    "kernelspec": {
      "name": "python3",
      "display_name": "Python 3"
    }
  },
  "cells": [
    {
      "cell_type": "markdown",
      "metadata": {
        "id": "view-in-github",
        "colab_type": "text"
      },
      "source": [
        "<a href=\"https://colab.research.google.com/github/mkbahk/DeepLearningwithKeras/blob/master/2_2_%EC%8B%A0%EA%B2%BD%EB%A7%9D%EC%9D%84_%EC%9C%84%ED%95%9C_%EB%8D%B0%EC%9D%B4%ED%84%B0_%ED%91%9C%ED%98%84.ipynb\" target=\"_parent\"><img src=\"https://colab.research.google.com/assets/colab-badge.svg\" alt=\"Open In Colab\"/></a>"
      ]
    },
    {
      "cell_type": "markdown",
      "metadata": {
        "id": "dIF_c00Nrgr1"
      },
      "source": [
        "스칼라(0D텐서)"
      ]
    },
    {
      "cell_type": "code",
      "metadata": {
        "id": "i45ZUZbZpOoO"
      },
      "source": [
        "import numpy as np"
      ],
      "execution_count": 1,
      "outputs": []
    },
    {
      "cell_type": "code",
      "metadata": {
        "id": "xNi-KXM9rwh9"
      },
      "source": [
        "x = np.array(12)"
      ],
      "execution_count": 2,
      "outputs": []
    },
    {
      "cell_type": "code",
      "metadata": {
        "id": "t5eCWuVdr5Fc",
        "outputId": "085c392b-ef50-4c31-d61f-44039e922543",
        "colab": {
          "base_uri": "https://localhost:8080/",
          "height": 36
        }
      },
      "source": [
        "x"
      ],
      "execution_count": 3,
      "outputs": [
        {
          "output_type": "execute_result",
          "data": {
            "text/plain": [
              "array(12)"
            ]
          },
          "metadata": {
            "tags": []
          },
          "execution_count": 3
        }
      ]
    },
    {
      "cell_type": "code",
      "metadata": {
        "id": "jdQ-6n2Rr6_p",
        "outputId": "7185d215-2f81-4be9-ae32-eeb6ee9b510f",
        "colab": {
          "base_uri": "https://localhost:8080/",
          "height": 36
        }
      },
      "source": [
        "x.ndim"
      ],
      "execution_count": 4,
      "outputs": [
        {
          "output_type": "execute_result",
          "data": {
            "text/plain": [
              "0"
            ]
          },
          "metadata": {
            "tags": []
          },
          "execution_count": 4
        }
      ]
    },
    {
      "cell_type": "markdown",
      "metadata": {
        "id": "gVbt6FyZsCH3"
      },
      "source": [
        "벡터(1D텐서)\n"
      ]
    },
    {
      "cell_type": "code",
      "metadata": {
        "id": "oaA4lLAcsHGJ",
        "outputId": "b5c2fb18-e7d4-4a60-d1cf-1167c60423f1",
        "colab": {
          "base_uri": "https://localhost:8080/",
          "height": 36
        }
      },
      "source": [
        "x = np.array([12, 3, 6, 14, 7])"
      ],
      "execution_count": 6,
      "outputs": [
        {
          "output_type": "execute_result",
          "data": {
            "text/plain": [
              "1"
            ]
          },
          "metadata": {
            "tags": []
          },
          "execution_count": 6
        }
      ]
    },
    {
      "cell_type": "code",
      "metadata": {
        "id": "sURw5lZPsUXj",
        "outputId": "c642baf6-e879-488f-ffea-46493ff65da4",
        "colab": {
          "base_uri": "https://localhost:8080/",
          "height": 36
        }
      },
      "source": [
        "x"
      ],
      "execution_count": 7,
      "outputs": [
        {
          "output_type": "execute_result",
          "data": {
            "text/plain": [
              "array([12,  3,  6, 14,  7])"
            ]
          },
          "metadata": {
            "tags": []
          },
          "execution_count": 7
        }
      ]
    },
    {
      "cell_type": "code",
      "metadata": {
        "id": "BVWa1xbMsWCa",
        "outputId": "974203c0-7e90-4956-90e1-7319dc804f63",
        "colab": {
          "base_uri": "https://localhost:8080/",
          "height": 36
        }
      },
      "source": [
        "x.ndim"
      ],
      "execution_count": 8,
      "outputs": [
        {
          "output_type": "execute_result",
          "data": {
            "text/plain": [
              "1"
            ]
          },
          "metadata": {
            "tags": []
          },
          "execution_count": 8
        }
      ]
    },
    {
      "cell_type": "markdown",
      "metadata": {
        "id": "RnJ-1a1Psh_k"
      },
      "source": [
        "행렬(2D텐서)\n"
      ]
    },
    {
      "cell_type": "code",
      "metadata": {
        "id": "ox18uXYisl6C"
      },
      "source": [
        "x = np.array([[5, 78, 2, 34, 0],\n",
        "              [6, 79, 3, 35, 1],\n",
        "              [7, 80, 4, 36,2]])"
      ],
      "execution_count": 9,
      "outputs": []
    },
    {
      "cell_type": "code",
      "metadata": {
        "id": "YQS-Cssns-EP",
        "outputId": "5100e0d9-3afc-461f-a3f4-68865a107b6f",
        "colab": {
          "base_uri": "https://localhost:8080/",
          "height": 73
        }
      },
      "source": [
        "x"
      ],
      "execution_count": 10,
      "outputs": [
        {
          "output_type": "execute_result",
          "data": {
            "text/plain": [
              "array([[ 5, 78,  2, 34,  0],\n",
              "       [ 6, 79,  3, 35,  1],\n",
              "       [ 7, 80,  4, 36,  2]])"
            ]
          },
          "metadata": {
            "tags": []
          },
          "execution_count": 10
        }
      ]
    },
    {
      "cell_type": "code",
      "metadata": {
        "id": "RmNfMDRPtADR",
        "outputId": "9dcc3fc6-00cf-4792-b881-e5504201920e",
        "colab": {
          "base_uri": "https://localhost:8080/",
          "height": 36
        }
      },
      "source": [
        "x.ndim"
      ],
      "execution_count": 11,
      "outputs": [
        {
          "output_type": "execute_result",
          "data": {
            "text/plain": [
              "2"
            ]
          },
          "metadata": {
            "tags": []
          },
          "execution_count": 11
        }
      ]
    },
    {
      "cell_type": "markdown",
      "metadata": {
        "id": "tNMjCD0ctTWV"
      },
      "source": [
        "3D 텐와 고차원 텐서\n"
      ]
    },
    {
      "cell_type": "code",
      "metadata": {
        "id": "Lz7PCrjRtYDi"
      },
      "source": [
        "x = np.array([\n",
        "              [[5, 78, 3, 34, 0],\n",
        "               [6, 79, 3, 36,1],\n",
        "                [7, 80, 4, 36, 2]],\n",
        "              \n",
        "               [[5, 78, 2, 34, 0],\n",
        "                [6, 79, 3, 35, 1],\n",
        "                [7, 80, 4, 34, 2]],\n",
        "              \n",
        "               [[5, 78, 2, 34, 0],\n",
        "                [6, 79, 3, 35, 1],\n",
        "                [7, 80, 4, 36, 7]]\n",
        "               ])"
      ],
      "execution_count": 16,
      "outputs": []
    },
    {
      "cell_type": "code",
      "metadata": {
        "id": "hIBMtMfSuQnr",
        "outputId": "86f4776d-4f09-43ca-e102-64e5aa3600a4",
        "colab": {
          "base_uri": "https://localhost:8080/",
          "height": 222
        }
      },
      "source": [
        "x"
      ],
      "execution_count": 17,
      "outputs": [
        {
          "output_type": "execute_result",
          "data": {
            "text/plain": [
              "array([[[ 5, 78,  3, 34,  0],\n",
              "        [ 6, 79,  3, 36,  1],\n",
              "        [ 7, 80,  4, 36,  2]],\n",
              "\n",
              "       [[ 5, 78,  2, 34,  0],\n",
              "        [ 6, 79,  3, 35,  1],\n",
              "        [ 7, 80,  4, 34,  2]],\n",
              "\n",
              "       [[ 5, 78,  2, 34,  0],\n",
              "        [ 6, 79,  3, 35,  1],\n",
              "        [ 7, 80,  4, 36,  7]]])"
            ]
          },
          "metadata": {
            "tags": []
          },
          "execution_count": 17
        }
      ]
    },
    {
      "cell_type": "code",
      "metadata": {
        "id": "ukTlB6RPutX0",
        "outputId": "f19c8b37-4d47-4635-b206-ced8f22d5553",
        "colab": {
          "base_uri": "https://localhost:8080/",
          "height": 36
        }
      },
      "source": [
        "x.ndim"
      ],
      "execution_count": 18,
      "outputs": [
        {
          "output_type": "execute_result",
          "data": {
            "text/plain": [
              "3"
            ]
          },
          "metadata": {
            "tags": []
          },
          "execution_count": 18
        }
      ]
    },
    {
      "cell_type": "code",
      "metadata": {
        "id": "uQOY2cjru2CL"
      },
      "source": [
        ""
      ],
      "execution_count": null,
      "outputs": []
    }
  ]
}